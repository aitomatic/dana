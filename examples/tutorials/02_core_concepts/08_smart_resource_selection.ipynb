{
 "cells": [
  {
   "cell_type": "markdown",
   "metadata": {},
   "source": [
    "# Smart Resource Selection and Orchestration"
   ]
  },
  {
   "cell_type": "markdown",
   "metadata": {},
   "source": [
    "## Introduction\n",
    "\n",
    "In this tutorial, we'll explore how OpenDXA agents can intelligently select and use different resources based on task requirements. Resource selection is a crucial capability for building versatile agents that can handle a variety of tasks efficiently.\n",
    "\n",
    "You'll learn how to create custom resources, integrate Model Control Protocol (MCP) services, and use specialized agents as resources. We'll demonstrate how an agent automatically selects the most appropriate resource for each specific task, leading to more effective problem-solving.\n",
    "\n",
    "### Learning Objectives\n",
    "1. Create custom resources by extending BaseResource\n",
    "2. Use MCP (Model Control Protocol) resources\n",
    "3. Create specialized agents as resources\n",
    "4. Understand how agents select resources based on task requirements\n",
    "5. Combine multiple resources in a single agent\n",
    "\n",
    "### Prerequisites\n",
    "- Python 3.8+\n",
    "- OpenDXA library\n",
    "- Basic understanding of agents and resources (Tutorial 1-7)"
   ]
  },
  {
   "cell_type": "markdown",
   "metadata": {},
   "source": [
    "## Conceptual Background\n",
    "\n",
    "Resources in OpenDXA provide agents with capabilities to access external services, data sources, or specialized functionalities. They act as interfaces between the agent and various tools or services it might need to accomplish its tasks.\n",
    "\n",
    "Resource selection is the process by which an agent determines which resource is most appropriate for a given task. This selection happens automatically based on the resource descriptions and the nature of the task. Effective resource selection allows agents to be more versatile and efficient, leveraging specialized tools when needed.\n",
    "\n",
    "In the OpenDXA architecture, resources are abstracted behind consistent interfaces, allowing agents to interact with them in a uniform way regardless of their underlying implementation. This abstraction enables the creation of modular, extensible agent systems."
   ]
  },
  {
   "cell_type": "code",
   "execution_count": null,
   "metadata": {},
   "outputs": [],
   "source": [
    "from typing import Any, Dict\n",
    "from opendxa.common.resource.base_resource import BaseResource, ResourceResponse\n",
    "\n",
    "\n",
    "class RestaurantOptions(BaseResource):\n",
    "    \"\"\"Resource for finding and booking restaurants.\"\"\"\n",
    "\n",
    "    async def query(self, request: Dict[str, Any]) -> ResourceResponse:\n",
    "        # Mock implementation - would call restaurant API\n",
    "        return ResourceResponse(\n",
    "            success=True,\n",
    "            content={\n",
    "                \"restaurants\": [\n",
    "                    {\n",
    "                        \"name\": \"Park Bistro\",\n",
    "                        \"cuisine\": \"American\",\n",
    "                        \"rating\": 4.5,\n",
    "                        \"price\": \"$$\",\n",
    "                        \"location\": \"123 Park St\",\n",
    "                        \"available_times\": [\"1:00 PM\", \"2:00 PM\", \"3:00 PM\"],\n",
    "                    },\n",
    "                    {\n",
    "                        \"name\": \"Garden Cafe\",\n",
    "                        \"cuisine\": \"Farm-to-table\",\n",
    "                        \"rating\": 4.7,\n",
    "                        \"price\": \"$$$\",\n",
    "                        \"location\": \"456 Garden Ave\",\n",
    "                        \"available_times\": [\"2:30 PM\", \"3:30 PM\"],\n",
    "                    },\n",
    "                ]\n",
    "            },\n",
    "        )\n",
    "\n",
    "class TransportOptions(BaseResource):\n",
    "    \"\"\"Resource for checking transportation options.\"\"\"\n",
    "\n",
    "    async def query(self, request: Dict[str, Any]) -> ResourceResponse:\n",
    "        # Mock implementation - would call transport API\n",
    "        return ResourceResponse(\n",
    "            success=True,\n",
    "            content={\n",
    "                \"options\": [\n",
    "                    {\n",
    "                        \"mode\": \"bus\",\n",
    "                        \"route\": \"45\",\n",
    "                        \"duration\": \"20 mins\",\n",
    "                        \"cost\": \"$2.50\",\n",
    "                    },\n",
    "                    {\"mode\": \"rideshare\", \"duration\": \"10 mins\", \"cost\": \"$15.00\"},\n",
    "                ]\n",
    "            },\n",
    "        )\n",
    "\n",
    "# Initialize resources\n",
    "restaurant_options = RestaurantOptions(\n",
    "    name=\"restaurant_service\", description=\"Provides access to restaurant information and booking\"\n",
    ")\n",
    "transport_options = TransportOptions(\n",
    "    name=\"transport_service\", description=\"Provides access to transportation information\"\n",
    ")\n",
    "\n",
    "print(\"✓ Restaurant and transport options are now available\")"
   ]
  },
  {
   "cell_type": "code",
   "execution_count": null,
   "metadata": {},
   "outputs": [],
   "source": [
    "\n",
    "from typing import Any, Dict\n",
    "from opendxa.common.resource.base_resource import BaseResource, ResourceResponse\n",
    "\n",
    "\n",
    "class RestaurantOptions(BaseResource):\n",
    "    \"\"\"Resource for finding and booking restaurants.\"\"\"\n",
    "\n",
    "    async def query(self, request: Dict[str, Any]) -> ResourceResponse:\n",
    "        # Mock implementation - would call restaurant API\n",
    "        return ResourceResponse(\n",
    "            success=True,\n",
    "            content={\n",
    "                \"restaurants\": [\n",
    "                    {\n",
    "                        \"name\": \"Park Bistro\",\n",
    "                        \"cuisine\": \"American\",\n",
    "                        \"rating\": 4.5,\n",
    "                        \"price\": \"$$\",\n",
    "                        \"location\": \"123 Park St\",\n",
    "                        \"available_times\": [\"1:00 PM\", \"2:00 PM\", \"3:00 PM\"],\n",
    "                    },\n",
    "                    {\n",
    "                        \"name\": \"Garden Cafe\",\n",
    "                        \"cuisine\": \"Farm-to-table\",\n",
    "                        \"rating\": 4.7,\n",
    "                        \"price\": \"$$$\",\n",
    "                        \"location\": \"456 Garden Ave\",\n",
    "                        \"available_times\": [\"2:30 PM\", \"3:30 PM\"],\n",
    "                    },\n",
    "                ]\n",
    "            },\n",
    "        )\n",
    "\n",
    "class TransportOptions(BaseResource):\n",
    "    \"\"\"Resource for checking transportation options.\"\"\"\n",
    "\n",
    "    async def query(self, request: Dict[str, Any]) -> ResourceResponse:\n",
    "        # Mock implementation - would call transport API\n",
    "        return ResourceResponse(\n",
    "            success=True,\n",
    "            content={\n",
    "                \"options\": [\n",
    "                    {\n",
    "                        \"mode\": \"bus\",\n",
    "                        \"route\": \"45\",\n",
    "                        \"duration\": \"20 mins\",\n",
    "                        \"cost\": \"$2.50\",\n",
    "                    },\n",
    "                    {\"mode\": \"rideshare\", \"duration\": \"10 mins\", \"cost\": \"$15.00\"},\n",
    "                ]\n",
    "            },\n",
    "        )\n",
    "\n",
    "# Initialize resources\n",
    "restaurant_options = RestaurantOptions(\n",
    "    name=\"restaurant_service\", description=\"Provides access to restaurant information and booking\"\n",
    ")\n",
    "transport_options = TransportOptions(\n",
    "    name=\"transport_service\", description=\"Provides access to transportation information\"\n",
    ")\n",
    "\n",
    "print(\"✓ Restaurant and transport options are now available\")"
   ]
  },
  {
   "cell_type": "markdown",
   "metadata": {},
   "source": [
    "In the code above, we've created two custom resources:\n",
    "\n",
    "1. **RestaurantResource**: Provides information about restaurants, including names, cuisines, ratings, and available times.\n",
    "2. **TransportResource**: Provides transportation options with details about mode, duration, and cost.\n",
    "\n",
    "Both resources extend the BaseResource class and implement the query method, which returns a ResourceResponse containing the relevant information. In a real application, these would likely call external APIs instead of returning mock data."
   ]
  },
  {
   "cell_type": "markdown",
   "metadata": {},
   "source": [
    "## Integrating MCP Services as Resources\n",
    "\n",
    "Next, let's create a Model Control Protocol (MCP) resource for accessing a weather service."
   ]
  },
  {
   "cell_type": "code",
   "execution_count": null,
   "metadata": {},
   "outputs": [],
   "source": [
    "# Define MCP service parameters\n",
    "from opendxa.common.resource.mcp.mcp_resource import McpResource, StdioTransportParams\n",
    "\n",
    "# Initialize weather MCP service\n",
    "weather = McpResource(\n",
    "    name=\"weather_mcp_service\",\n",
    "    transport_params=StdioTransportParams(\n",
    "        server_script=\"npx\",\n",
    "        command=\"npx\",\n",
    "        args=[\"-y\", \"@h1deya/mcp-server-weather\"],\n",
    "    ),\n",
    ")\n",
    "\n",
    "print(\"✓ Weather service available\")"
   ]
  },
  {
   "cell_type": "markdown",
   "metadata": {},
   "source": [
    "The McpResource provides a standardized way to interact with external services through the Model Control Protocol. In this case, we're setting up a weather service that can be called to get weather forecasts for specific locations.\n",
    "\n",
    "The MCP resource uses StdioTransportParams to specify how to communicate with the external service - in this case, by running a Python script that implements the weather service.\n",
    "\n",
    "For more details about MCP resources and how they work, please refer to the `07_mcp_resource.ipynb` tutorial which covers:\n",
    "- MCP resource architecture and design\n",
    "- Setting up MCP services\n",
    "- Communication protocols and parameters\n",
    "- Best practices for MCP implementation\n"
   ]
  },
  {
   "cell_type": "markdown",
   "metadata": {},
   "source": [
    "## Creating Specialized Agents as Helpful Resources\n",
    "\n",
    "Now, let's create specialized agents that can themselves be used as resources by our main agent."
   ]
  },
  {
   "cell_type": "code",
   "execution_count": null,
   "metadata": {},
   "outputs": [],
   "source": [
    "# Create specialized agents\n",
    "from opendxa.agent.agent import Agent\n",
    "from opendxa.agent.resource.agent_resource import AgentResource\n",
    "\n",
    "\n",
    "planner = AgentResource(\n",
    "    name=\"planner\",\n",
    "    description=\"Agent responsible for creating structured plans and coordinating \"\n",
    "    \"activities based on available information\",\n",
    "    agent=Agent(\"planner\").with_llm({\"model\": \"openai:gpt-4o-mini\", \"temperature\": 0.7, \"max_tokens\": 1000}),\n",
    ")\n",
    "\n",
    "researcher = AgentResource(\n",
    "    name=\"researcher\",\n",
    "    description=\"Agent focused on gathering, analyzing and synthesizing information \"\n",
    "    \"from multiple sources to support decision making\",\n",
    "    agent=Agent(\"researcher\").with_llm({\"model\": \"openai:gpt-4o-mini\", \"temperature\": 0.7, \"max_tokens\": 1000}),\n",
    ")\n",
    "\n",
    "print(\"✓ Planner and researcher agents created\")"
   ]
  },
  {
   "cell_type": "markdown",
   "metadata": {},
   "source": [
    "In this section, we've created two specialized agents that our main agent can use as resources:\n",
    "\n",
    "1. **Planner Agent**: Specialized in creating structured plans and coordinating activities.\n",
    "2. **Researcher Agent**: Focused on gathering and synthesizing information from various sources.\n",
    "\n",
    "Each agent is configured with its own language model and specific parameters. By wrapping these agents as AgentResources, our main agent can leverage their specialized capabilities when needed."
   ]
  },
  {
   "cell_type": "markdown",
   "metadata": {},
   "source": [
    "## Combining Resources in a Main Agent\n",
    "\n",
    "Now that we have our resources ready, let's create a main agent that combines all of them."
   ]
  },
  {
   "cell_type": "code",
   "execution_count": null,
   "metadata": {},
   "outputs": [],
   "source": [
    "# Create main agent with all resources\n",
    "agent = Agent(\"planning_assistant\")\n",
    "agent.with_llm({\"model\": \"openai:gpt-4o-mini\", \"temperature\": 0.7, \"max_tokens\": 1000})\n",
    "agent.with_resources(\n",
    "    {\n",
    "        \"weather\": weather,\n",
    "        \"restaurant_options\": restaurant_options,\n",
    "        \"transport_options\": transport_options,\n",
    "        \"planner\": planner,\n",
    "        \"researcher\": researcher,\n",
    "    }\n",
    ")\n",
    "\n",
    "print(\"✓ Main agent created with all resources attached\")"
   ]
  },
  {
   "cell_type": "markdown",
   "metadata": {},
   "source": [
    "Our main agent now has access to all five resources: the weather MCP service, restaurant and transport custom resources, and the planner and researcher specialized agents. The agent will intelligently select which resource to use based on the task at hand."
   ]
  },
  {
   "cell_type": "markdown",
   "metadata": {},
   "source": [
    "## Running My Agent with All the Helpful Resources\n",
    "\n",
    "Let's test how our agent utilizes resources by processing a user query, and providing it with all these helpful resources."
   ]
  },
  {
   "cell_type": "code",
   "execution_count": null,
   "metadata": {},
   "outputs": [],
   "source": [
    "query = (\n",
    "    \"I'm in San Francisco and would like to plan a nice out-of-town trip. \"\n",
    "    \"Could you help me plan: \"\n",
    "    \"1. Plan how to get information about the best places to visit in San Francisco \"\n",
    "    \"2. Check the weather for this afternoon \"\n",
    "    \"3. Suggest the restaurant to go to \"\n",
    "    \"Please provide a detailed plan considering all these factors.\"\n",
    ")\n",
    "\n",
    "print(\"User Query:\")\n",
    "print(\"-\" * 50)\n",
    "print(query)\n",
    "print(\"-\" * 50)\n",
    "\n",
    "print(\"\\nProcessing query...\") \n",
    "response = agent.ask(query)\n",
    "\n",
    "print(\"\\nResult:\")\n",
    "print(\"+\" * 80)\n",
    "print(response)\n",
    "print(\"+\" * 80)"
   ]
  },
  {
   "cell_type": "markdown",
   "metadata": {},
   "source": [
    "In this example, the agent processes a user query that requires multiple resources. Based on the nature of each task, the agent intelligently selects the most appropriate resource:\n",
    "\n",
    "1. For gathering information about tourist attractions, it uses the researcher agent.\n",
    "2. For checking weather conditions, it uses the weather MCP service.\n",
    "3. For restaurant recommendations, it uses the restaurant resource.\n",
    "\n",
    "The agent then combines the information from each resource to provide a comprehensive plan to the user.\n",
    "\n",
    "For a complete working example of resource selection and coordination,\n",
    "please refer to `examples/python/02_core_concepts/08_resource_selection.py`"
   ]
  },
  {
   "cell_type": "markdown",
   "metadata": {},
   "source": [
    "## Exercise\n",
    "\n",
    "Now, try extending the example by creating a new resource for hotel bookings, and adding it to the main agent."
   ]
  },
  {
   "cell_type": "code",
   "execution_count": null,
   "metadata": {},
   "outputs": [],
   "source": [
    "from opendxa.common.resource.base_resource import BaseResource, ResourceResponse\n",
    "\n",
    "# Exercise: Create a HotelResource class\n",
    "class HotelOptions(BaseResource):\n",
    "    \"\"\"Resource for finding and booking hotels.\"\"\"\n",
    "    \n",
    "    async def query(self, request: Dict[str, Any]) -> ResourceResponse:\n",
    "        # Your implementation here\n",
    "        # Return a ResourceResponse with hotel information\n",
    "        return ResourceResponse(success=True, content={\"hotel_name\": \"...\"})\n",
    "\n",
    "# Initialize the hotel resource\n",
    "# hotel_options = HotelOptions(...)\n",
    "\n",
    "# Add it to the main agent\n",
    "# agent.with_resources({\"hotel_options\": hotel_options})\n",
    "\n",
    "# Test with a query that requires hotel information\n",
    "# result = agent.ask(\"...\")"
   ]
  },
  {
   "cell_type": "markdown",
   "metadata": {},
   "source": [
    "## Real-World Application: Enterprise Trip Planning Assistant\n",
    "\n",
    "In enterprise settings, coordinating business travel often involves multiple systems and resources. An OpenDXA agent can simplify this process by integrating with corporate travel systems, expense management, calendar scheduling, and local services."
   ]
  },
  {
   "cell_type": "code",
   "execution_count": null,
   "metadata": {},
   "outputs": [],
   "source": [
    "# Example of an enterprise trip planning system (conceptual)\n",
    "\n",
    "class EnterpriseCalendarResource(BaseResource):\n",
    "    \"\"\"Connects to corporate calendar systems\"\"\"\n",
    "    async def query(self, request: Dict[str, Any]) -> ResourceResponse:\n",
    "        # Would connect to MS Exchange, Google Workspace, etc.\n",
    "        return ResourceResponse(success=True, content={\"available_slots\": [\"...\"]}) \n",
    "\n",
    "class CorporateTravelPolicyResource(BaseResource):\n",
    "    \"\"\"Enforces travel policy constraints\"\"\"\n",
    "    async def query(self, request: Dict[str, Any]) -> ResourceResponse:\n",
    "        # Would check policy limitations, preferred vendors, etc.\n",
    "        return ResourceResponse(success=True, content={\"policy_compliant\": True}) \n",
    "\n",
    "class ExpenseSystemResource(BaseResource):\n",
    "    \"\"\"Interfaces with expense reporting systems\"\"\"\n",
    "    async def query(self, request: Dict[str, Any]) -> ResourceResponse:\n",
    "        # Would create expense entries, estimate costs, etc.\n",
    "        return ResourceResponse(success=True, content={\"expense_report_id\": \"ER12345\"}) \n",
    "\n",
    "# These resources would be combined in an enterprise travel planning agent\n",
    "# that handles complex multi-system coordination transparently"
   ]
  },
  {
   "cell_type": "markdown",
   "metadata": {},
   "source": [
    "## Troubleshooting Tips\n",
    "\n",
    "- **Resource not being selected** - Check that the resource description clearly indicates its capabilities and purpose\n",
    "- **MCP service connection issues** - Verify the server script path and ensure it's executable\n",
    "- **Resource returning unexpected results** - Test the resource independently before integrating with the agent\n",
    "- **Agent using wrong resource for a task** - Make resource descriptions more specific and distinct from each other"
   ]
  },
  {
   "cell_type": "markdown",
   "metadata": {},
   "source": [
    "## Summary and Next Steps\n",
    "\n",
    "In this tutorial, you've learned how to create and combine different types of resources in an OpenDXA agent. We covered creating custom resources, integrating MCP services, and using specialized agents as resources. You've seen how the agent intelligently selects the appropriate resource for each task based on the resource descriptions and task requirements.\n",
    "\n",
    "In the next tutorial, \"Advanced Agent Orchestration\", you'll learn how to coordinate multiple agents working together on complex tasks, taking resource selection to the next level with sophisticated workflow patterns."
   ]
  },
  {
   "cell_type": "markdown",
   "metadata": {},
   "source": [
    "# References\n",
    "\n",
    "- [OpenDXA Documentation](https://github.com/aitomatic/opendxa)\n",
    "- [Resource Classes API Reference](https://github.com/aitomatic/opendxa/blob/main/opendxa/common/resource)\n",
    "- [MCP Resource Documentation](https://github.com/aitomatic/opendxa/blob/main/opendxa/common/resource/mcp/MCP-REFERENCE.md)\n",
    "- [Smart Resource Selection Example](https://github.com/aitomatic/opendxa/blob/main/examples/python/02_core_concepts/08_smart_resource_selection.py)"
   ]
  }
 ],
 "metadata": {
  "kernelspec": {
   "display_name": ".venv",
   "language": "python",
   "name": "python3"
  },
  "language_info": {
   "codemirror_mode": {
    "name": "ipython",
    "version": 3
   },
   "file_extension": ".py",
   "mimetype": "text/x-python",
   "name": "python",
   "nbconvert_exporter": "python",
   "pygments_lexer": "ipython3",
   "version": "3.13.2"
  }
 },
 "nbformat": 4,
 "nbformat_minor": 4
}
