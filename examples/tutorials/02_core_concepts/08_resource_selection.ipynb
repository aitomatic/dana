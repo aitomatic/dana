{
 "cells": [
  {
   "cell_type": "markdown",
   "metadata": {},
   "source": [
    "# OpenDXA Tutorial: Resource Selection\n",
    "### Part of the Core Concepts Series"
   ]
  },
  {
   "cell_type": "markdown",
   "metadata": {},
   "source": [
    "## Introduction\n",
    "\n",
    "In this tutorial, we'll explore how OpenDXA agents can intelligently select and use different resources based on task requirements. Resource selection is a crucial capability for building versatile agents that can handle a variety of tasks efficiently.\n",
    "\n",
    "You'll learn how to create custom resources, integrate Model Control Protocol (MCP) services, and use specialized agents as resources. We'll demonstrate how an agent automatically selects the most appropriate resource for each specific task, leading to more effective problem-solving.\n",
    "\n",
    "### Learning Objectives\n",
    "1. Create custom resources by extending BaseResource\n",
    "2. Use MCP (Model Control Protocol) resources\n",
    "3. Create specialized agents as resources\n",
    "4. Understand how agents select resources based on task requirements\n",
    "5. Combine multiple resources in a single agent\n",
    "\n",
    "### Prerequisites\n",
    "- Python 3.8+\n",
    "- OpenDXA library\n",
    "- Basic understanding of agents and resources (Tutorial 1-7)"
   ]
  },
  {
   "cell_type": "markdown",
   "metadata": {},
   "source": [
    "## Conceptual Background\n",
    "\n",
    "Resources in OpenDXA provide agents with capabilities to access external services, data sources, or specialized functionalities. They act as interfaces between the agent and various tools or services it might need to accomplish its tasks.\n",
    "\n",
    "Resource selection is the process by which an agent determines which resource is most appropriate for a given task. This selection happens automatically based on the resource descriptions and the nature of the task. Effective resource selection allows agents to be more versatile and efficient, leveraging specialized tools when needed.\n",
    "\n",
    "In the OpenDXA architecture, resources are abstracted behind consistent interfaces, allowing agents to interact with them in a uniform way regardless of their underlying implementation. This abstraction enables the creation of modular, extensible agent systems."
   ]
  },
  {
   "cell_type": "markdown",
   "metadata": {},
   "source": [
    "## Creating Custom Resources\n",
    "\n",
    "Let's start by creating custom resources by extending the BaseResource class. These resources will provide specialized functionalities for our agent."
   ]
  },
  {
   "cell_type": "code",
   "execution_count": 1,
   "metadata": {},
   "outputs": [
    {
     "name": "stdout",
     "output_type": "stream",
     "text": [
      "✓ Restaurant and transport options are now available\n"
     ]
    }
   ],
   "source": [
    "\n",
    "from typing import Any, Dict\n",
    "from opendxa.common.resource.base_resource import BaseResource, ResourceResponse\n",
    "\n",
    "\n",
    "class RestaurantOptions(BaseResource):\n",
    "    \"\"\"Resource for finding and booking restaurants.\"\"\"\n",
    "\n",
    "    async def query(self, request: Dict[str, Any]) -> ResourceResponse:\n",
    "        # Mock implementation - would call restaurant API\n",
    "        return ResourceResponse(\n",
    "            success=True,\n",
    "            content={\n",
    "                \"restaurants\": [\n",
    "                    {\n",
    "                        \"name\": \"Park Bistro\",\n",
    "                        \"cuisine\": \"American\",\n",
    "                        \"rating\": 4.5,\n",
    "                        \"price\": \"$$\",\n",
    "                        \"location\": \"123 Park St\",\n",
    "                        \"available_times\": [\"1:00 PM\", \"2:00 PM\", \"3:00 PM\"],\n",
    "                    },\n",
    "                    {\n",
    "                        \"name\": \"Garden Cafe\",\n",
    "                        \"cuisine\": \"Farm-to-table\",\n",
    "                        \"rating\": 4.7,\n",
    "                        \"price\": \"$$$\",\n",
    "                        \"location\": \"456 Garden Ave\",\n",
    "                        \"available_times\": [\"2:30 PM\", \"3:30 PM\"],\n",
    "                    },\n",
    "                ]\n",
    "            },\n",
    "        )\n",
    "\n",
    "class TransportOptions(BaseResource):\n",
    "    \"\"\"Resource for checking transportation options.\"\"\"\n",
    "\n",
    "    async def query(self, request: Dict[str, Any]) -> ResourceResponse:\n",
    "        # Mock implementation - would call transport API\n",
    "        return ResourceResponse(\n",
    "            success=True,\n",
    "            content={\n",
    "                \"options\": [\n",
    "                    {\n",
    "                        \"mode\": \"bus\",\n",
    "                        \"route\": \"45\",\n",
    "                        \"duration\": \"20 mins\",\n",
    "                        \"cost\": \"$2.50\",\n",
    "                    },\n",
    "                    {\"mode\": \"rideshare\", \"duration\": \"10 mins\", \"cost\": \"$15.00\"},\n",
    "                ]\n",
    "            },\n",
    "        )\n",
    "\n",
    "# Initialize resources\n",
    "restaurant_options = RestaurantOptions(\n",
    "    name=\"restaurant_service\", description=\"Provides access to restaurant information and booking\"\n",
    ")\n",
    "transport_options = TransportOptions(\n",
    "    name=\"transport_service\", description=\"Provides access to transportation information\"\n",
    ")\n",
    "\n",
    "print(\"✓ Restaurant and transport options are now available\")"
   ]
  },
  {
   "cell_type": "markdown",
   "metadata": {},
   "source": [
    "In the code above, we've created two custom resources:\n",
    "\n",
    "1. **RestaurantResource**: Provides information about restaurants, including names, cuisines, ratings, and available times.\n",
    "2. **TransportResource**: Provides transportation options with details about mode, duration, and cost.\n",
    "\n",
    "Both resources extend the BaseResource class and implement the query method, which returns a ResourceResponse containing the relevant information. In a real application, these would likely call external APIs instead of returning mock data."
   ]
  },
  {
   "cell_type": "markdown",
   "metadata": {},
   "source": [
    "## Integrating MCP Services as Resources\n",
    "\n",
    "Next, let's create a Model Control Protocol (MCP) resource for accessing a weather service."
   ]
  },
  {
   "cell_type": "code",
   "execution_count": 2,
   "metadata": {},
   "outputs": [
    {
     "name": "stdout",
     "output_type": "stream",
     "text": [
      "✓ Weather service available\n"
     ]
    }
   ],
   "source": [
    "# Define MCP service parameters\n",
    "from opendxa.common.resource.mcp.mcp_resource import McpResource, StdioTransportParams\n",
    "\n",
    "# Initialize weather MCP service\n",
    "weather = McpResource(\n",
    "    name=\"weather_mcp_service\",\n",
    "    transport_params=StdioTransportParams(\n",
    "        server_script=\"npx\",\n",
    "        command=\"npx\",\n",
    "        args=[\"-y\", \"@h1deya/mcp-server-weather\"],\n",
    "    ),\n",
    ")\n",
    "\n",
    "print(\"✓ Weather service available\")"
   ]
  },
  {
   "cell_type": "markdown",
   "metadata": {},
   "source": [
    "The McpResource provides a standardized way to interact with external services through the Model Control Protocol. In this case, we're setting up a weather service that can be called to get weather forecasts for specific locations.\n",
    "\n",
    "The MCP resource uses StdioTransportParams to specify how to communicate with the external service - in this case, by running a Python script that implements the weather service.\n",
    "\n",
    "For more details about MCP resources and how they work, please refer to the `07_mcp_resource.ipynb` tutorial which covers:\n",
    "- MCP resource architecture and design\n",
    "- Setting up MCP services\n",
    "- Communication protocols and parameters\n",
    "- Best practices for MCP implementation\n"
   ]
  },
  {
   "cell_type": "markdown",
   "metadata": {},
   "source": [
    "## Creating Specialized Agents as Helpful Resources\n",
    "\n",
    "Now, let's create specialized agents that can themselves be used as resources by our main agent."
   ]
  },
  {
   "cell_type": "code",
   "execution_count": 3,
   "metadata": {},
   "outputs": [
    {
     "name": "stdout",
     "output_type": "stream",
     "text": [
      "✓ Planner and researcher agents created\n"
     ]
    }
   ],
   "source": [
    "# Create specialized agents\n",
    "from opendxa.agent.agent import Agent\n",
    "from opendxa.agent.resource.agent_resource import AgentResource\n",
    "\n",
    "\n",
    "planner = AgentResource(\n",
    "    name=\"planner\",\n",
    "    description=\"Agent responsible for creating structured plans and coordinating \"\n",
    "    \"activities based on available information\",\n",
    "    agent=Agent(\"planner\").with_llm({\"model\": \"openai:gpt-4o-mini\", \"temperature\": 0.7, \"max_tokens\": 1000}),\n",
    ")\n",
    "\n",
    "researcher = AgentResource(\n",
    "    name=\"researcher\",\n",
    "    description=\"Agent focused on gathering, analyzing and synthesizing information \"\n",
    "    \"from multiple sources to support decision making\",\n",
    "    agent=Agent(\"researcher\").with_llm({\"model\": \"openai:gpt-4o-mini\", \"temperature\": 0.7, \"max_tokens\": 1000}),\n",
    ")\n",
    "\n",
    "print(\"✓ Planner and researcher agents created\")"
   ]
  },
  {
   "cell_type": "markdown",
   "metadata": {},
   "source": [
    "In this section, we've created two specialized agents that our main agent can use as resources:\n",
    "\n",
    "1. **Planner Agent**: Specialized in creating structured plans and coordinating activities.\n",
    "2. **Researcher Agent**: Focused on gathering and synthesizing information from various sources.\n",
    "\n",
    "Each agent is configured with its own language model and specific parameters. By wrapping these agents as AgentResources, our main agent can leverage their specialized capabilities when needed."
   ]
  },
  {
   "cell_type": "markdown",
   "metadata": {},
   "source": [
    "## Combining Resources in a Main Agent\n",
    "\n",
    "Now that we have our resources ready, let's create a main agent that combines all of them."
   ]
  },
  {
   "cell_type": "code",
   "execution_count": 4,
   "metadata": {},
   "outputs": [
    {
     "name": "stdout",
     "output_type": "stream",
     "text": [
      "✓ Main agent created with all resources attached\n"
     ]
    }
   ],
   "source": [
    "# Create main agent with all resources\n",
    "agent = Agent(\"planning_assistant\")\n",
    "agent.with_llm({\"model\": \"openai:gpt-4o-mini\", \"temperature\": 0.7, \"max_tokens\": 1000})\n",
    "agent.with_resources(\n",
    "    {\n",
    "        \"weather\": weather,\n",
    "        \"restaurant_options\": restaurant_options,\n",
    "        \"transport_options\": transport_options,\n",
    "        \"planner\": planner,\n",
    "        \"researcher\": researcher,\n",
    "    }\n",
    ")\n",
    "\n",
    "print(\"✓ Main agent created with all resources attached\")"
   ]
  },
  {
   "cell_type": "markdown",
   "metadata": {},
   "source": [
    "Our main agent now has access to all five resources: the weather MCP service, restaurant and transport custom resources, and the planner and researcher specialized agents. The agent will intelligently select which resource to use based on the task at hand."
   ]
  },
  {
   "cell_type": "markdown",
   "metadata": {},
   "source": [
    "## Running My Agent with All the Helpful Resources\n",
    "\n",
    "Let's test how our agent utilizes resources by processing a user query, and providing it with all these helpful resources."
   ]
  },
  {
   "cell_type": "code",
   "execution_count": 5,
   "metadata": {},
   "outputs": [
    {
     "name": "stdout",
     "output_type": "stream",
     "text": [
      "User Query:\n",
      "--------------------------------------------------\n",
      "I'm in San Francisco and would like to plan a nice out-of-town trip. Could you help me plan: 1. Plan how to get information about the best places to visit in San Francisco 2. Check the weather for this afternoon 3. Suggest the restaurant to go to Please provide a detailed plan considering all these factors.\n",
      "--------------------------------------------------\n",
      "\n",
      "Processing query...\n"
     ]
    },
    {
     "name": "stderr",
     "output_type": "stream",
     "text": [
      "07:14:23 - [llm_conversation] INFO - PROMPT TO openai:gpt-4o-mini:\n",
      "--------------------------------------------------------------------------------\n",
      "[{'role': 'system', 'content': 'You are a reasoning assistant. Use tools when necessary to complete tasks.'}, {'role': 'user', 'content': \"Execute the reasoning task for the following objective hierarchy:\\n\\n1. Workflow Objective: I'm in San Francisco and would like to plan a nice out-of-town trip. Could you help me plan: 1. Plan how to get information about the best places to visit in San Francisco 2. Check the weather for this afternoon 3. Suggest the restaurant to go to Please provide a detailed plan considering all these factors.\\n2. Workflow Node within Workflow: query in I'm in San Francisco and would like to plan a nice out-of-town trip. Could you help me plan: 1. Plan how to get information about the best places to visit in San Francisco 2. Check the weather for this afternoon 3. Suggest the restaurant to go to Please provide a detailed plan considering all these factors.\\n3. Plan Node under Workflow Node Objective: query in I'm in San Francisco and would like to plan a nice out-of-town trip. Could you help me plan: 1. Plan how to get information about the best places to visit in San Francisco 2. Check the weather for this afternoon 3. Suggest the restaurant to go to Please provide a detailed plan considering all these factors.\\n4. Reasoning Node under Plan Node Objective: query in I'm in San Francisco and would like to plan a nice out-of-town trip. Could you help me plan: 1. Plan how to get information about the best places to visit in San Francisco 2. Check the weather for this afternoon 3. Suggest the restaurant to go to Please provide a detailed plan considering all these factors.\\n\\nReasoning Node Description: query in I'm in San Francisco and would like to plan a nice out-of-town trip. Could you help me plan: 1. Plan how to get information about the best places to visit in San Francisco 2. Check the weather for this afternoon 3. Suggest the restaurant to go to Please provide a detailed plan considering all these factors.\\n\\nPlease provide a detailed analysis and reasoning for this task, ensuring your response aligns with all levels of the objective hierarchy.\"}]\n",
      "--------------------------------------------------------------------------------\n",
      "HTTP Request: POST https://api.openai.com/v1/chat/completions \"HTTP/1.1 200 OK\"\n",
      "07:14:26 - [llm_conversation] INFO - RESPONSE FROM openai:gpt-4o-mini:\n",
      "--------------------------------------------------------------------------------\n",
      "tool_calls:\n",
      "\n",
      "researcher__query: {\"request\": \"best places to visit in San Francisco\"}\n",
      "weather__query__get-forecast: {\"latitude\": 37.7749, \"longitude\": -122.4194}\n",
      "restaurant_options__query: {\"request\": \"best restaurants in San Francisco\"}\n",
      "--------------------------------------------------------------------------------\n",
      "07:14:26 - [llm_conversation] INFO - USAGE: prompt_tokens=658, completion_tokens=90, total_tokens=748\n",
      "07:14:26 - [llm_conversation] INFO - PROMPT TO openai:gpt-4o-mini:\n",
      "--------------------------------------------------------------------------------\n",
      "[{'role': 'system', 'content': 'You are executing a reasoning task. Provide clear, logical analysis and reasoning.'}, {'role': 'user', 'content': 'Execute the reasoning task for the following objective hierarchy:\\n\\n1. Workflow Objective: best places to visit in San Francisco\\n2. Workflow Node within Workflow: query in best places to visit in San Francisco\\n3. Plan Node under Workflow Node Objective: query in best places to visit in San Francisco\\n4. Reasoning Node under Plan Node Objective: query in best places to visit in San Francisco\\n\\nReasoning Node Description: query in best places to visit in San Francisco\\n\\nPlease provide a detailed analysis and reasoning for this task, ensuring your response aligns with all levels of the objective hierarchy.'}]\n",
      "--------------------------------------------------------------------------------\n",
      "HTTP Request: POST https://api.openai.com/v1/chat/completions \"HTTP/1.1 200 OK\"\n",
      "07:14:39 - [llm_conversation] INFO - RESPONSE FROM openai:gpt-4o-mini:\n",
      "--------------------------------------------------------------------------------\n",
      "To analyze the objective hierarchy effectively, we need to break down the components step by step, ensuring that we provide a comprehensive exploration of the task at hand.\n",
      "\n",
      "### 1. Workflow Objective: Best Places to Visit in San Francisco\n",
      "\n",
      "This overarching objective focuses on identifying the most notable and appealing locations for visitors in San Francisco. The significance of this objective lies in the fact that San Francisco is a prominent tourist destination known for its unique culture, landmarks, and attractions. To achieve this objective, we must consider factors such as popularity, cultural significance, historical interest, and accessibility.\n",
      "\n",
      "### 2. Workflow Node Within Workflow: Query in Best Places to Visit in San Francisco\n",
      "\n",
      "This node suggests a more specific action: querying or gathering information about the best places to visit in San Francisco. The query must be designed to extract relevant data that aligns with our overarching objective. It may involve utilizing various sources such as travel guides, online platforms, local recommendations, and expert opinions. The query should target a range of aspects, including:\n",
      "\n",
      "- Historical landmarks (e.g., Alcatraz Island, Golden Gate Bridge)\n",
      "- Cultural institutions (e.g., museums, galleries)\n",
      "- Natural attractions (e.g., parks, coastal areas)\n",
      "- Entertainment venues (e.g., theaters, music venues)\n",
      "\n",
      "### 3. Plan Node Under Workflow Node Objective: Query in Best Places to Visit in San Francisco\n",
      "\n",
      "In this plan node, we outline a strategy for conducting the query effectively. The approach should be systematic and could include the following steps:\n",
      "\n",
      "1. **Define Criteria for “Best”**: Establish what constitutes the \"best\" places—this could include visitor ratings, uniqueness, cultural value, and recommendations from locals.\n",
      "   \n",
      "2. **Identify Sources**: Determine where to gather information. This could include:\n",
      "   - Travel websites (e.g., TripAdvisor, Yelp)\n",
      "   - Local tourism boards\n",
      "   - Blogs or articles written by travel enthusiasts\n",
      "   - Social media platforms for real-time recommendations\n",
      "\n",
      "3. **Compile Data**: Extract and compile information from identified sources, ensuring a diverse range of perspectives and types of attractions.\n",
      "\n",
      "4. **Analyze and Rank**: Evaluate the compiled data to identify the most frequently mentioned and highly rated places. This may involve creating a scoring system based on visitor reviews or expert commentary.\n",
      "\n",
      "5. **Present Findings**: Organize the findings into a coherent list or guide that can easily inform potential visitors about the best places to visit.\n",
      "\n",
      "### 4. Reasoning Node Under Plan Node Objective: Query in Best Places to Visit in San Francisco\n",
      "\n",
      "In this reasoning node, we delve deeper into the rationale behind each step of the plan:\n",
      "\n",
      "- **Defining Criteria**: This is crucial because the concept of \"best\" can vary widely among different visitors. By establishing objective criteria, we ensure that the query results are relevant to a broad audience.\n",
      "\n",
      "- **Identifying Sources**: The credibility and diversity of sources impact the quality of the information. Using multiple sources helps mitigate bias and provides a well-rounded view of attractions.\n",
      "\n",
      "- **Compiling Data**: This step is essential for synthesizing a wealth of information into a manageable format. It involves not just gathering data but also being discerning about what to include based on the established criteria.\n",
      "\n",
      "- **Analyzing and Ranking**: This is where we translate raw data into actionable insights. By analyzing trends in the data, we can make informed decisions about which places to highlight and why.\n",
      "\n",
      "- **Presenting Findings**: The final step ensures that the information is not only accurate but also accessible and engaging for the intended audience. Presentation matters in influencing travelers' choices.\n",
      "\n",
      "### Conclusion\n",
      "\n",
      "The objective hierarchy effectively guides the reasoning process for identifying the best places to visit in San Francisco. By systematically querying, compiling, analyzing, and presenting data, we ensure that the final output meets the needs of potential visitors seeking a curated experience in this iconic city. Each level of the hierarchy plays a critical role in achieving the overarching goal, creating a structured approach to travel recommendations.\n",
      "--------------------------------------------------------------------------------\n",
      "07:14:39 - [llm_conversation] INFO - USAGE: prompt_tokens=143, completion_tokens=803, total_tokens=946\n",
      "07:14:40 - [llm_conversation] INFO - PROMPT TO openai:gpt-4o-mini:\n",
      "--------------------------------------------------------------------------------\n",
      "[{'role': 'system', 'content': 'You are executing a reasoning task. Provide clear, logical analysis and reasoning.'}, {'role': 'user', 'content': 'Execute the reasoning task for the following objective hierarchy:\\n\\n1. Workflow Objective: I\\'m in San Francisco and would like to plan a nice out-of-town trip. Could you help me plan: 1. Plan how to get information about the best places to visit in San Francisco 2. Check the weather for this afternoon 3. Suggest the restaurant to go to Please provide a detailed plan considering all these factors.\\n2. Workflow Node within Workflow: query in I\\'m in San Francisco and would like to plan a nice out-of-town trip. Could you help me plan: 1. Plan how to get information about the best places to visit in San Francisco 2. Check the weather for this afternoon 3. Suggest the restaurant to go to Please provide a detailed plan considering all these factors.\\n3. Plan Node under Workflow Node Objective: query in I\\'m in San Francisco and would like to plan a nice out-of-town trip. Could you help me plan: 1. Plan how to get information about the best places to visit in San Francisco 2. Check the weather for this afternoon 3. Suggest the restaurant to go to Please provide a detailed plan considering all these factors.\\n4. Reasoning Node under Plan Node Objective: query in I\\'m in San Francisco and would like to plan a nice out-of-town trip. Could you help me plan: 1. Plan how to get information about the best places to visit in San Francisco 2. Check the weather for this afternoon 3. Suggest the restaurant to go to Please provide a detailed plan considering all these factors.\\n\\nReasoning Node Description: query in I\\'m in San Francisco and would like to plan a nice out-of-town trip. Could you help me plan: 1. Plan how to get information about the best places to visit in San Francisco 2. Check the weather for this afternoon 3. Suggest the restaurant to go to Please provide a detailed plan considering all these factors.\\n\\nPlease provide a detailed analysis and reasoning for this task, ensuring your response aligns with all levels of the objective hierarchy.\\n\\n<tool_calling>\\nTool: researcher__query\\nResponse: ResourceResponse(success=True, content=\\'To analyze the objective hierarchy effectively, we need to break down the components step by step, ensuring that we provide a comprehensive exploration of the task at hand.\\\\n\\\\n### 1. Workflow Objective: Best Places to Visit in San Francisco\\\\n\\\\nThis overarching objective focuses on identifying the most notable and appealing locations for visitors in San Francisco. The significance of this objective lies in the fact that San Francisco is a prominent tourist destination known for its unique culture, landmarks, and attractions. To achieve this objective, we must consider factors such as popularity, cultural significance, historical interest, and accessibility.\\\\n\\\\n### 2. Workflow Node Within Workflow: Query in Best Places to Visit in San Francisco\\\\n\\\\nThis node suggests a more specific action: querying or gathering information about the best places to visit in San Francisco. The query must be designed to extract relevant data that aligns with our overarching objective. It may involve utilizing various sources such as travel guides, online platforms, local recommendations, and expert opinions. The query should target a range of aspects, including:\\\\n\\\\n- Historical landmarks (e.g., Alcatraz Island, Golden Gate Bridge)\\\\n- Cultural institutions (e.g., museums, galleries)\\\\n- Natural attractions (e.g., parks, coastal areas)\\\\n- Entertainment venues (e.g., theaters, music venues)\\\\n\\\\n### 3. Plan Node Under Workflow Node Objective: Query in Best Places to Visit in San Francisco\\\\n\\\\nIn this plan node, we outline a strategy for conducting the query effectively. The approach should be systematic and could include the following steps:\\\\n\\\\n1. **Define Criteria for “Best”**: Establish what constitutes the \"best\" places—this could include visitor ratings, uniqueness, cultural value, and recommendations from locals.\\\\n   \\\\n2. **Identify Sources**: Determine where to gather information. This could include:\\\\n   - Travel websites (e.g., TripAdvisor, Yelp)\\\\n   - Local tourism boards\\\\n   - Blogs or articles written by travel enthusiasts\\\\n   - Social media platforms for real-time recommendations\\\\n\\\\n3. **Compile Data**: Extract and compile information from identified sources, ensuring a diverse range of perspectives and types of attractions.\\\\n\\\\n4. **Analyze and Rank**: Evaluate the compiled data to identify the most frequently mentioned and highly rated places. This may involve creating a scoring system based on visitor reviews or expert commentary.\\\\n\\\\n5. **Present Findings**: Organize the findings into a coherent list or guide that can easily inform potential visitors about the best places to visit.\\\\n\\\\n### 4. Reasoning Node Under Plan Node Objective: Query in Best Places to Visit in San Francisco\\\\n\\\\nIn this reasoning node, we delve deeper into the rationale behind each step of the plan:\\\\n\\\\n- **Defining Criteria**: This is crucial because the concept of \"best\" can vary widely among different visitors. By establishing objective criteria, we ensure that the query results are relevant to a broad audience.\\\\n\\\\n- **Identifying Sources**: The credibility and diversity of sources impact the quality of the information. Using multiple sources helps mitigate bias and provides a well-rounded view of attractions.\\\\n\\\\n- **Compiling Data**: This step is essential for synthesizing a wealth of information into a manageable format. It involves not just gathering data but also being discerning about what to include based on the established criteria.\\\\n\\\\n- **Analyzing and Ranking**: This is where we translate raw data into actionable insights. By analyzing trends in the data, we can make informed decisions about which places to highlight and why.\\\\n\\\\n- **Presenting Findings**: The final step ensures that the information is not only accurate but also accessible and engaging for the intended audience. Presentation matters in influencing travelers\\\\\\' choices.\\\\n\\\\n### Conclusion\\\\n\\\\nThe objective hierarchy effectively guides the reasoning process for identifying the best places to visit in San Francisco. By systematically querying, compiling, analyzing, and presenting data, we ensure that the final output meets the needs of potential visitors seeking a curated experience in this iconic city. Each level of the hierarchy plays a critical role in achieving the overarching goal, creating a structured approach to travel recommendations.\\', error=None)\\nTool: weather__query__get-forecast\\nResponse: ResourceResponse(success=True, content=CallToolResult(meta=None, content=[TextContent(type=\\'text\\', text=\\'Forecast for 37.7749, -122.4194:\\\\n\\\\nThis Afternoon:\\\\nTemperature: 67°F\\\\nWind: 7 mph W\\\\nSunny\\\\n---\\\\nTonight:\\\\nTemperature: 53°F\\\\nWind: 7 mph SW\\\\nSlight Chance Light Rain\\\\n---\\\\nMonday:\\\\nTemperature: 64°F\\\\nWind: 5 to 8 mph WSW\\\\nSlight Chance Light Rain then Mostly Cloudy\\\\n---\\\\nMonday Night:\\\\nTemperature: 50°F\\\\nWind: 3 to 8 mph W\\\\nMostly Cloudy\\\\n---\\\\nTuesday:\\\\nTemperature: 65°F\\\\nWind: 3 to 10 mph W\\\\nSunny\\\\n---\\\\nTuesday Night:\\\\nTemperature: 50°F\\\\nWind: 3 to 10 mph WNW\\\\nMostly Clear\\\\n---\\\\nWednesday:\\\\nTemperature: 71°F\\\\nWind: 2 to 10 mph NW\\\\nSunny\\\\n---\\\\nWednesday Night:\\\\nTemperature: 52°F\\\\nWind: 2 to 10 mph W\\\\nPartly Cloudy\\\\n---\\\\nThursday:\\\\nTemperature: 69°F\\\\nWind: 2 to 10 mph W\\\\nMostly Sunny\\\\n---\\\\nThursday Night:\\\\nTemperature: 54°F\\\\nWind: 5 to 10 mph WNW\\\\nPartly Cloudy\\\\n---\\\\nFriday:\\\\nTemperature: 67°F\\\\nWind: 5 to 14 mph W\\\\nMostly Sunny\\\\n---\\\\nFriday Night:\\\\nTemperature: 50°F\\\\nWind: 8 to 14 mph WNW\\\\nMostly Clear\\\\n---\\\\nSaturday:\\\\nTemperature: 64°F\\\\nWind: 8 to 15 mph WNW\\\\nSunny\\\\n---\\\\nSaturday Night:\\\\nTemperature: 48°F\\\\nWind: 7 to 15 mph WNW\\\\nMostly Clear\\\\n---\\', annotations=None)], isError=False), error=None)\\nTool: restaurant_options__query\\nResponse: ResourceResponse(success=True, content={\\'restaurants\\': [{\\'name\\': \\'Park Bistro\\', \\'cuisine\\': \\'American\\', \\'rating\\': 4.5, \\'price\\': \\'$$\\', \\'location\\': \\'123 Park St\\', \\'available_times\\': [\\'1:00 PM\\', \\'2:00 PM\\', \\'3:00 PM\\']}, {\\'name\\': \\'Garden Cafe\\', \\'cuisine\\': \\'Farm-to-table\\', \\'rating\\': 4.7, \\'price\\': \\'$$$\\', \\'location\\': \\'456 Garden Ave\\', \\'available_times\\': [\\'2:30 PM\\', \\'3:30 PM\\']}]}, error=None)\\n</tool_calling>'}]\n",
      "--------------------------------------------------------------------------------\n",
      "HTTP Request: POST https://api.openai.com/v1/chat/completions \"HTTP/1.1 200 OK\"\n",
      "07:14:53 - [llm_conversation] INFO - RESPONSE FROM openai:gpt-4o-mini:\n",
      "--------------------------------------------------------------------------------\n",
      "To fulfill the objective of planning an out-of-town trip from San Francisco, we will address the three components of the plan: gathering information about the best places to visit in San Francisco, checking the weather for the afternoon, and suggesting a restaurant. Below is a detailed analysis and reasoning aligned with the objective hierarchy.\n",
      "\n",
      "### 1. Workflow Objective: Planning an Out-of-Town Trip\n",
      "The main goal is to prepare for a trip outside of San Francisco. To ensure a pleasant experience, it’s vital to have the following:\n",
      "\n",
      "- A list of recommended attractions in San Francisco to explore before heading out.\n",
      "- An understanding of the weather conditions to dress appropriately and plan outdoor activities.\n",
      "- A dining option that aligns with preferences and availability.\n",
      "\n",
      "### 2. Workflow Node: Gathering Information\n",
      "The first step involves researching the best places to visit in San Francisco. This can be achieved through an effective querying process:\n",
      "\n",
      "#### Steps:\n",
      "1. **Define Criteria for Attractions**: Determine what qualifies as \"best\" by considering visitor reviews, cultural significance, and accessibility.\n",
      "2. **Identify Sources**: Utilize travel websites (like TripAdvisor, Yelp), local tourism boards, blogs, or social media for diverse opinions.\n",
      "3. **Compile Data**: Gather insights from various sources to create a comprehensive list.\n",
      "4. **Analyze and Rank**: Evaluate the data based on the defined criteria to highlight top attractions.\n",
      "5. **Present Findings**: Organize this information into a user-friendly format, like a list or guide.\n",
      "\n",
      "### 3. Plan Node: Weather Check\n",
      "For the afternoon weather in San Francisco, the current forecast includes:\n",
      "\n",
      "- **Temperature**: 67°F\n",
      "- **Wind**: 7 mph from the west\n",
      "- **Condition**: Sunny\n",
      "\n",
      "This favorable weather suggests that outdoor activities can be comfortably enjoyed. It’s ideal for exploring attractions or dining outside.\n",
      "\n",
      "### 4. Reasoning Node: Restaurant Suggestions\n",
      "A selection of restaurants based on quality and availability has been identified:\n",
      "\n",
      "1. **Park Bistro**\n",
      "   - **Cuisine**: American\n",
      "   - **Rating**: 4.5\n",
      "   - **Price**: $$\n",
      "   - **Location**: 123 Park St\n",
      "   - **Available Times**: 1:00 PM, 2:00 PM, 3:00 PM\n",
      "\n",
      "2. **Garden Cafe**\n",
      "   - **Cuisine**: Farm-to-table\n",
      "   - **Rating**: 4.7\n",
      "   - **Price**: $$$\n",
      "   - **Location**: 456 Garden Ave\n",
      "   - **Available Times**: 2:30 PM, 3:30 PM\n",
      "\n",
      "### Conclusion\n",
      "By following the structured approach outlined in the objective hierarchy, we ensure that:\n",
      "\n",
      "- We gather comprehensive information about notable attractions in San Francisco, making the trip more fulfilling.\n",
      "- We account for the weather, which is sunny and pleasant, encouraging outdoor activities.\n",
      "- We provide quality dining options that fit various preferences and schedules.\n",
      "\n",
      "This plan effectively integrates all necessary factors to enhance the experience of planning an out-of-town trip from San Francisco. Each step of the hierarchy contributes to a coherent and actionable travel plan.\n",
      "--------------------------------------------------------------------------------\n",
      "07:14:53 - [llm_conversation] INFO - USAGE: prompt_tokens=1873, completion_tokens=636, total_tokens=2509\n"
     ]
    },
    {
     "name": "stdout",
     "output_type": "stream",
     "text": [
      "\n",
      "Result:\n",
      "++++++++++++++++++++++++++++++++++++++++++++++++++++++++++++++++++++++++++++++++\n",
      "To fulfill the objective of planning an out-of-town trip from San Francisco, we will address the three components of the plan: gathering information about the best places to visit in San Francisco, checking the weather for the afternoon, and suggesting a restaurant. Below is a detailed analysis and reasoning aligned with the objective hierarchy.\n",
      "\n",
      "### 1. Workflow Objective: Planning an Out-of-Town Trip\n",
      "The main goal is to prepare for a trip outside of San Francisco. To ensure a pleasant experience, it’s vital to have the following:\n",
      "\n",
      "- A list of recommended attractions in San Francisco to explore before heading out.\n",
      "- An understanding of the weather conditions to dress appropriately and plan outdoor activities.\n",
      "- A dining option that aligns with preferences and availability.\n",
      "\n",
      "### 2. Workflow Node: Gathering Information\n",
      "The first step involves researching the best places to visit in San Francisco. This can be achieved through an effective querying process:\n",
      "\n",
      "#### Steps:\n",
      "1. **Define Criteria for Attractions**: Determine what qualifies as \"best\" by considering visitor reviews, cultural significance, and accessibility.\n",
      "2. **Identify Sources**: Utilize travel websites (like TripAdvisor, Yelp), local tourism boards, blogs, or social media for diverse opinions.\n",
      "3. **Compile Data**: Gather insights from various sources to create a comprehensive list.\n",
      "4. **Analyze and Rank**: Evaluate the data based on the defined criteria to highlight top attractions.\n",
      "5. **Present Findings**: Organize this information into a user-friendly format, like a list or guide.\n",
      "\n",
      "### 3. Plan Node: Weather Check\n",
      "For the afternoon weather in San Francisco, the current forecast includes:\n",
      "\n",
      "- **Temperature**: 67°F\n",
      "- **Wind**: 7 mph from the west\n",
      "- **Condition**: Sunny\n",
      "\n",
      "This favorable weather suggests that outdoor activities can be comfortably enjoyed. It’s ideal for exploring attractions or dining outside.\n",
      "\n",
      "### 4. Reasoning Node: Restaurant Suggestions\n",
      "A selection of restaurants based on quality and availability has been identified:\n",
      "\n",
      "1. **Park Bistro**\n",
      "   - **Cuisine**: American\n",
      "   - **Rating**: 4.5\n",
      "   - **Price**: $$\n",
      "   - **Location**: 123 Park St\n",
      "   - **Available Times**: 1:00 PM, 2:00 PM, 3:00 PM\n",
      "\n",
      "2. **Garden Cafe**\n",
      "   - **Cuisine**: Farm-to-table\n",
      "   - **Rating**: 4.7\n",
      "   - **Price**: $$$\n",
      "   - **Location**: 456 Garden Ave\n",
      "   - **Available Times**: 2:30 PM, 3:30 PM\n",
      "\n",
      "### Conclusion\n",
      "By following the structured approach outlined in the objective hierarchy, we ensure that:\n",
      "\n",
      "- We gather comprehensive information about notable attractions in San Francisco, making the trip more fulfilling.\n",
      "- We account for the weather, which is sunny and pleasant, encouraging outdoor activities.\n",
      "- We provide quality dining options that fit various preferences and schedules.\n",
      "\n",
      "This plan effectively integrates all necessary factors to enhance the experience of planning an out-of-town trip from San Francisco. Each step of the hierarchy contributes to a coherent and actionable travel plan.\n",
      "++++++++++++++++++++++++++++++++++++++++++++++++++++++++++++++++++++++++++++++++\n"
     ]
    }
   ],
   "source": [
    "query = (\n",
    "    \"I'm in San Francisco and would like to plan a nice out-of-town trip. \"\n",
    "    \"Could you help me plan: \"\n",
    "    \"1. Plan how to get information about the best places to visit in San Francisco \"\n",
    "    \"2. Check the weather for this afternoon \"\n",
    "    \"3. Suggest the restaurant to go to \"\n",
    "    \"Please provide a detailed plan considering all these factors.\"\n",
    ")\n",
    "\n",
    "print(\"User Query:\")\n",
    "print(\"-\" * 50)\n",
    "print(query)\n",
    "print(\"-\" * 50)\n",
    "\n",
    "print(\"\\nProcessing query...\") \n",
    "response = agent.ask(query)\n",
    "\n",
    "print(\"\\nResult:\")\n",
    "print(\"+\" * 80)\n",
    "print(response)\n",
    "print(\"+\" * 80)"
   ]
  },
  {
   "cell_type": "markdown",
   "metadata": {},
   "source": [
    "In this example, the agent processes a user query that requires multiple resources. Based on the nature of each task, the agent intelligently selects the most appropriate resource:\n",
    "\n",
    "1. For gathering information about tourist attractions, it uses the researcher agent.\n",
    "2. For checking weather conditions, it uses the weather MCP service.\n",
    "3. For restaurant recommendations, it uses the restaurant resource.\n",
    "\n",
    "The agent then combines the information from each resource to provide a comprehensive plan to the user.\n",
    "\n",
    "For a complete working example of resource selection and coordination,\n",
    "please refer to `examples/python/02_core_concepts/08_resource_selection.py`"
   ]
  },
  {
   "cell_type": "markdown",
   "metadata": {},
   "source": [
    "## Exercise\n",
    "\n",
    "Now, try extending the example by creating a new resource for hotel bookings, and adding it to the main agent."
   ]
  },
  {
   "cell_type": "code",
   "execution_count": null,
   "metadata": {},
   "outputs": [],
   "source": [
    "from opendxa.common.resource.base_resource import BaseResource, ResourceResponse\n",
    "\n",
    "# Exercise: Create a HotelResource class\n",
    "class HotelOptions(BaseResource):\n",
    "    \"\"\"Resource for finding and booking hotels.\"\"\"\n",
    "    \n",
    "    async def query(self, request: Dict[str, Any]) -> ResourceResponse:\n",
    "        # Your implementation here\n",
    "        # Return a ResourceResponse with hotel information\n",
    "        return ResourceResponse(success=True, content={\"hotel_name\": \"...\"})\n",
    "\n",
    "# Initialize the hotel resource\n",
    "# hotel_options = HotelOptions(...)\n",
    "\n",
    "# Add it to the main agent\n",
    "# agent.with_resources({\"hotel_options\": hotel_options})\n",
    "\n",
    "# Test with a query that requires hotel information\n",
    "# result = agent.ask(\"...\")"
   ]
  },
  {
   "cell_type": "markdown",
   "metadata": {},
   "source": [
    "## Real-World Application: Enterprise Trip Planning Assistant\n",
    "\n",
    "In enterprise settings, coordinating business travel often involves multiple systems and resources. An OpenDXA agent can simplify this process by integrating with corporate travel systems, expense management, calendar scheduling, and local services."
   ]
  },
  {
   "cell_type": "code",
   "execution_count": null,
   "metadata": {},
   "outputs": [],
   "source": [
    "# Example of an enterprise trip planning system (conceptual)\n",
    "\n",
    "class EnterpriseCalendarResource(BaseResource):\n",
    "    \"\"\"Connects to corporate calendar systems\"\"\"\n",
    "    async def query(self, request: Dict[str, Any]) -> ResourceResponse:\n",
    "        # Would connect to MS Exchange, Google Workspace, etc.\n",
    "        return ResourceResponse(success=True, content={\"available_slots\": [\"...\"]}) \n",
    "\n",
    "class CorporateTravelPolicyResource(BaseResource):\n",
    "    \"\"\"Enforces travel policy constraints\"\"\"\n",
    "    async def query(self, request: Dict[str, Any]) -> ResourceResponse:\n",
    "        # Would check policy limitations, preferred vendors, etc.\n",
    "        return ResourceResponse(success=True, content={\"policy_compliant\": True}) \n",
    "\n",
    "class ExpenseSystemResource(BaseResource):\n",
    "    \"\"\"Interfaces with expense reporting systems\"\"\"\n",
    "    async def query(self, request: Dict[str, Any]) -> ResourceResponse:\n",
    "        # Would create expense entries, estimate costs, etc.\n",
    "        return ResourceResponse(success=True, content={\"expense_report_id\": \"ER12345\"}) \n",
    "\n",
    "# These resources would be combined in an enterprise travel planning agent\n",
    "# that handles complex multi-system coordination transparently"
   ]
  },
  {
   "cell_type": "markdown",
   "metadata": {},
   "source": [
    "## Troubleshooting Tips\n",
    "\n",
    "- **Resource not being selected** - Check that the resource description clearly indicates its capabilities and purpose\n",
    "- **MCP service connection issues** - Verify the server script path and ensure it's executable\n",
    "- **Resource returning unexpected results** - Test the resource independently before integrating with the agent\n",
    "- **Agent using wrong resource for a task** - Make resource descriptions more specific and distinct from each other"
   ]
  },
  {
   "cell_type": "markdown",
   "metadata": {},
   "source": [
    "## Summary and Next Steps\n",
    "\n",
    "In this tutorial, you've learned how to create and combine different types of resources in an OpenDXA agent. We covered creating custom resources, integrating MCP services, and using specialized agents as resources. You've seen how the agent intelligently selects the appropriate resource for each task based on the resource descriptions and task requirements.\n",
    "\n",
    "In the next tutorial, \"Advanced Agent Orchestration\", you'll learn how to coordinate multiple agents working together on complex tasks, taking resource selection to the next level with sophisticated workflow patterns."
   ]
  },
  {
   "cell_type": "markdown",
   "metadata": {},
   "source": [
    "## References\n",
    "\n",
    "- [OpenDXA Documentation](https://github.com/aitomatic/dxa)\n",
    "- [DXA Architecture Guide](https://github.com/aitomatic/dxa/blob/main/dxa/README.md)\n",
    "- [DXA Examples](https://github.com/aitomatic/dxa/tree/main/examples)"
   ]
  }
 ],
 "metadata": {
  "kernelspec": {
   "display_name": ".venv",
   "language": "python",
   "name": "python3"
  },
  "language_info": {
   "codemirror_mode": {
    "name": "ipython",
    "version": 3
   },
   "file_extension": ".py",
   "mimetype": "text/x-python",
   "name": "python",
   "nbconvert_exporter": "python",
   "pygments_lexer": "ipython3",
   "version": "3.13.2"
  }
 },
 "nbformat": 4,
 "nbformat_minor": 4
}
