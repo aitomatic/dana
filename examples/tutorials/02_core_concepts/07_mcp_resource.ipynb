{
 "cells": [
  {
   "cell_type": "markdown",
   "metadata": {},
   "source": "# MCPResource in OpenDXA\n\nThis tutorial covers the Model Context Protocol (MCP) resource in OpenDXA, which provides a standardized way to integrate external services and tools into your agents.\n\n## Learning Objectives\n\nBy the end of this tutorial, you will understand:\n\n1. What MCP is and how it works\n2. How to create and use MCP resources\n3. How to work with different transport types (STDIO and HTTP)\n4. How to discover and use MCP tools\n5. Best practices for MCP resource usage\n\n## Prerequisites\n\n- Basic understanding of OpenDXA's architecture\n- Familiarity with Python async/await syntax\n- Understanding of basic resource management concepts\n\n## 1. Understanding MCP\n\nThe Model Context Protocol (MCP) is a standardized way to expose data and functionality to LLM applications. MCP servers can:\n\n1. **Expose Data**: Through resources (similar to GET endpoints)\n2. **Provide Functionality**: Through tools (similar to POST endpoints)\n3. **Define Interaction Patterns**: Through prompts (reusable templates)\n\nLet's start by creating a simple MCP resource:",
   "outputs": []
  },
  {
   "cell_type": "code",
   "metadata": {},
   "source": "from opendxa.common.resource.mcp import McpResource, StdioTransportParams\nfrom typing import Dict, Any\n\n# Create a local MCP resource using STDIO transport\necho = McpResource(\n    name=\"echo\",\n    transport_params=StdioTransportParams(\n        server_script=\"examples/learning_paths/02_core_concepts/mcp_servers/mcp_echo.py\",\n        command=\"python\",\n        args=[\"examples/learning_paths/02_core_concepts/mcp_servers/mcp_echo.py\"]\n    )\n)\n\n# Test the echo server\nresponse = await echo.query({\n    \"tool\": \"echo\",\n    \"arguments\": {\"message\": \"Hello from MCP!\"}\n})\n\nprint(f\"Echo response: {response.content}\")",
   "outputs": []
  },
  {
   "cell_type": "markdown",
   "metadata": {},
   "source": [
    "## 2. Transport Types\n",
    "\n",
    "MCP resources support two types of transport:\n",
    "\n",
    "1. **STDIO Transport**: For local MCP servers\n",
    "2. **HTTP Transport**: For remote MCP servers using Server-Sent Events (SSE)\n",
    "\n",
    "Let's see how to use both:"
   ]
  },
  {
   "cell_type": "code",
   "metadata": {},
   "source": "from opendxa.common.resource.mcp import HttpTransportParams\n\n# Example 1: STDIO Transport (Local Server)\nlocal_mcp = McpResource(\n    name=\"local_echo\",\n    transport_params=StdioTransportParams(\n        server_script=\"examples/learning_paths/02_core_concepts/mcp_servers/mcp_echo.py\",\n        command=\"python\",\n        args=[\"examples/learning_paths/02_core_concepts/mcp_servers/mcp_echo.py\"],\n        env={\"DEBUG\": \"1\"}  # Optional environment variables\n    )\n)\n\n# Example 2: HTTP Transport (Remote Server)\nremote_mcp = McpResource(\n    name=\"remote_echo\",\n    transport_params=HttpTransportParams(\n        url=\"https://api.example.com/mcp\",\n        headers={\"Authorization\": \"Bearer your-token\"},\n        timeout=5.0,  # Connection timeout in seconds\n        sse_read_timeout=300.0  # SSE read timeout in seconds\n    )\n)\n\n# Test both servers\nlocal_response = await local_mcp.query({\n    \"tool\": \"ping\"\n})\nprint(f\"Local server response: {local_response.content}\")\n\ntry:\n    remote_response = await remote_mcp.query({\n        \"tool\": \"ping\"\n    })\n    print(f\"Remote server response: {remote_response.content}\")\nexcept Exception as e:\n    print(f\"Remote server error: {e}\")",
   "outputs": []
  },
  {
   "cell_type": "markdown",
   "metadata": {},
   "source": [
    "## 3. Tool Discovery and Usage\n",
    "\n",
    "MCP resources provide a way to discover available tools at runtime. Let's see how to use this feature:"
   ]
  },
  {
   "cell_type": "code",
   "execution_count": null,
   "metadata": {},
   "source": [
    "# Discover available tools\n",
    "tools = await local_mcp.list_tools()\n",
    "print(f\"Found {len(tools)} available tools\\n\")\n",
    "\n",
    "# Print tool details\n",
    "for tool in tools:\n",
    "    print(f\"Tool: {tool.name}\")\n",
    "    print(f\"Description: {tool.description}\")\n",
    "    print(\"Parameters:\")\n",
    "    for param_name, param_details in tool.inputSchema[\"properties\"].items():\n",
    "        print(f\"  - {param_name}: {param_details.get('type')}\")\n",
    "        if param_name in tool.inputSchema.get(\"required\", []):\n",
    "            print(\"    (Required)\")\n",
    "    print()\n",
    "\n",
    "# Example: Using a discovered tool\n",
    "if tools:\n",
    "    tool = tools[0]  # Use the first available tool\n",
    "    print(f\"Testing tool: {tool.name}\")\n",
    "    \n",
    "    # Prepare arguments based on the tool's schema\n",
    "    arguments = {}\n",
    "    for param_name, param_details in tool.inputSchema[\"properties\"].items():\n",
    "        if param_name in tool.inputSchema.get(\"required\", []):\n",
    "            # Provide a default value based on the parameter type\n",
    "            param_type = param_details.get(\"type\")\n",
    "            if param_type == \"string\":\n",
    "                arguments[param_name] = \"test\"\n",
    "            elif param_type == \"number\":\n",
    "                arguments[param_name] = 42\n",
    "            elif param_type == \"boolean\":\n",
    "                arguments[param_name] = True\n",
    "            elif param_type == \"array\":\n",
    "                arguments[param_name] = []\n",
    "            elif param_type == \"object\":\n",
    "                arguments[param_name] = {}\n",
    "    \n",
    "    # Execute the tool\n",
    "    response = await local_mcp.query({\n",
    "        \"tool\": tool.name,\n",
    "        \"arguments\": arguments\n",
    "    })\n",
    "    \n",
    "    print(f\"Tool response: {response.content}\")"
   ]
  },
  {
   "cell_type": "markdown",
   "metadata": {},
   "source": [
    "## 4. Error Handling\n",
    "\n",
    "MCP resources provide robust error handling. Let's see how to handle different types of errors:"
   ]
  },
  {
   "cell_type": "code",
   "execution_count": null,
   "metadata": {},
   "source": [
    "# Example 1: Invalid tool name\n",
    "try:\n",
    "    response = await local_mcp.query({\n",
    "        \"tool\": \"nonexistent_tool\",\n",
    "        \"arguments\": {}\n",
    "    })\n",
    "    print(f\"Response: {response.content}\")\n",
    "except Exception as e:\n",
    "    print(f\"Error: {e}\")\n",
    "\n",
    "# Example 2: Invalid arguments\n",
    "try:\n",
    "    response = await local_mcp.query({\n",
    "        \"tool\": \"echo\",\n",
    "        \"arguments\": {\"invalid_param\": \"value\"}\n",
    "    })\n",
    "    print(f\"Response: {response.content}\")\n",
    "except Exception as e:\n",
    "    print(f\"Error: {e}\")\n",
    "\n",
    "# Example 3: Missing required arguments\n",
    "try:\n",
    "    response = await local_mcp.query({\n",
    "        \"tool\": \"echo\"  # Missing required 'message' argument\n",
    "    })\n",
    "    print(f\"Response: {response.content}\")\n",
    "except Exception as e:\n",
    "    print(f\"Error: {e}\")"
   ]
  },
  {
   "cell_type": "markdown",
   "metadata": {},
   "source": [
    "## 5. Advanced Features\n",
    "\n",
    "### 5.1 Environment Variables\n",
    "\n",
    "You can pass environment variables to local MCP servers:"
   ]
  },
  {
   "cell_type": "code",
   "execution_count": null,
   "metadata": {},
   "source": [
    "# Create MCP resource with environment variables\n",
    "mcp_with_env = McpResource(\n",
    "    name=\"env_mcp\",\n",
    "    transport_params=StdioTransportParams(\n",
    "        server_script=\"examples/learning_paths/02_core_concepts/mcp_servers/mcp_echo.py\",\n",
    "        command=\"python\",\n",
    "        args=[\"examples/learning_paths/02_core_concepts/mcp_servers/mcp_echo.py\"],\n",
    "        env={\n",
    "            \"DEBUG\": \"1\",\n",
    "            \"LOG_LEVEL\": \"INFO\",\n",
    "            \"CUSTOM_VAR\": \"custom_value\"\n",
    "        }\n",
    "    )\n",
    ")\n",
    "\n",
    "# Test the server with environment variables\n",
    "response = await mcp_with_env.query({\n",
    "    \"tool\": \"ping\"\n",
    "})\n",
    "print(f\"Response: {response.content}\")"
   ]
  },
  {
   "cell_type": "markdown",
   "metadata": {},
   "source": [
    "### 5.2 Tool Schema Validation\n",
    "\n",
    "MCP automatically validates tool arguments against their schemas:"
   ]
  },
  {
   "cell_type": "code",
   "execution_count": null,
   "metadata": {},
   "source": [
    "# Example 1: Valid arguments\n",
    "try:\n",
    "    response = await local_mcp.query({\n",
    "        \"tool\": \"echo\",\n",
    "        \"arguments\": {\"message\": \"Valid message\"}\n",
    "    })\n",
    "    print(f\"Valid arguments response: {response.content}\")\n",
    "except Exception as e:\n",
    "    print(f\"Error: {e}\")\n",
    "\n",
    "# Example 2: Invalid argument type\n",
    "try:\n",
    "    response = await local_mcp.query({\n",
    "        \"tool\": \"echo\",\n",
    "        \"arguments\": {\"message\": 42}  # Should be a string\n",
    "    })\n",
    "    print(f\"Response: {response.content}\")\n",
    "except Exception as e:\n",
    "    print(f\"Error: {e}\")"
   ]
  },
  {
   "cell_type": "markdown",
   "metadata": {},
   "source": "## 6. Best Practices\n\nHere are some best practices for working with MCP resources:\n\n1. **Server Design**\n   - Keep servers focused on specific functionality\n   - Implement proper error handling\n   - Use type hints and docstrings\n   - Follow the single responsibility principle\n\n2. **Client Usage**\n   - Always initialize resources before use\n   - Implement proper error handling\n   - Use appropriate timeouts for remote servers\n   - Validate tool arguments before calling\n\n3. **Transport Selection**\n   - Use STDIO transport for local servers\n   - Use HTTP transport for remote servers\n   - Configure appropriate timeouts\n   - Handle connection errors gracefully\n\n4. **Tool Design**\n   - Keep tools focused and single-purpose\n   - Provide clear documentation\n   - Use appropriate parameter types\n   - Handle edge cases\n\n5. **Error Handling**\n   - Implement proper error handling\n   - Use appropriate error messages\n   - Handle timeouts and connection errors\n   - Validate inputs and outputs\n\n## Summary\n\nIn this tutorial, we covered:\n\n1. Understanding MCP and its features\n2. Working with different transport types\n3. Discovering and using MCP tools\n4. Handling errors and edge cases\n5. Using advanced features\n6. Following best practices\n\nThe MCP resource in OpenDXA provides a powerful and flexible way to integrate external services and tools into your agents. By following the best practices outlined in this tutorial, you can create robust and maintainable MCP-based applications.",
   "outputs": []
  }
 ],
 "metadata": {
  "kernelspec": {
   "display_name": "Python 3",
   "language": "python",
   "name": "python3"
  },
  "language_info": {
   "codemirror_mode": {
    "name": "ipython",
    "version": 3
   },
   "file_extension": ".py",
   "mimetype": "text/x-python",
   "name": "python",
   "nbconvert_exporter": "python",
   "pygments_lexer": "ipython3",
   "version": "3.8.0"
  }
 },
 "nbformat": 4,
 "nbformat_minor": 4
}