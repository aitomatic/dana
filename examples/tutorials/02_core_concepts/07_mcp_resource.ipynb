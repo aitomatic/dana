{
 "cells": [
  {
   "cell_type": "markdown",
   "metadata": {},
   "source": [
    "# MCPResource in OpenDXA\n",
    "\n",
    "This tutorial covers the Model Context Protocol (MCP) resource in OpenDXA, which provides a standardized way to integrate external services and tools into your agents.\n",
    "\n",
    "## Learning Objectives\n",
    "\n",
    "By the end of this tutorial, you will understand:\n",
    "\n",
    "1. What MCP is and how it works\n",
    "2. How to create and use MCP resources\n",
    "3. How to work with different transport types (STDIO and HTTP)\n",
    "4. How to discover and use MCP tools\n",
    "5. Best practices for MCP resource usage\n",
    "\n",
    "## Prerequisites\n",
    "\n",
    "- Basic understanding of OpenDXA's architecture\n",
    "- Familiarity with Python async/await syntax\n",
    "- Understanding of basic resource management concepts\n",
    "\n",
    "## 1. Understanding MCP\n",
    "\n",
    "The Model Context Protocol (MCP) is a standardized way to expose data and functionality to LLM applications. MCP servers can:\n",
    "\n",
    "1. **Expose Data**: Through resources (similar to GET endpoints)\n",
    "2. **Provide Functionality**: Through tools (similar to POST endpoints)\n",
    "3. **Define Interaction Patterns**: Through prompts (reusable templates)\n",
    "\n",
    "Let's start by creating a simple MCP resource. First let’s install the required packages:"
   ]
  },
  {
   "cell_type": "code",
   "execution_count": null,
   "metadata": {},
   "outputs": [],
   "source": [
    "!npm install @modelcontextprotocol/server-filesystem"
   ]
  },
  {
   "cell_type": "code",
   "execution_count": 1,
   "metadata": {},
   "outputs": [
    {
     "name": "stdout",
     "output_type": "stream",
     "text": [
      "[Tool(name='read_file', description='Read the complete contents of a file from the file system. Handles various text encodings and provides detailed error messages if the file cannot be read. Use this tool when you need to examine the contents of a single file. Only works within allowed directories.', inputSchema={'type': 'object', 'properties': {'path': {'type': 'string'}}, 'required': ['path'], 'additionalProperties': False, '$schema': 'http://json-schema.org/draft-07/schema#'}),\n",
      " Tool(name='read_multiple_files', description=\"Read the contents of multiple files simultaneously. This is more efficient than reading files one by one when you need to analyze or compare multiple files. Each file's content is returned with its path as a reference. Failed reads for individual files won't stop the entire operation. Only works within allowed directories.\", inputSchema={'type': 'object', 'properties': {'paths': {'type': 'array', 'items': {'type': 'string'}}}, 'required': ['paths'], 'additionalProperties': False, '$schema': 'http://json-schema.org/draft-07/schema#'}),\n",
      " Tool(name='write_file', description='Create a new file or completely overwrite an existing file with new content. Use with caution as it will overwrite existing files without warning. Handles text content with proper encoding. Only works within allowed directories.', inputSchema={'type': 'object', 'properties': {'path': {'type': 'string'}, 'content': {'type': 'string'}}, 'required': ['path', 'content'], 'additionalProperties': False, '$schema': 'http://json-schema.org/draft-07/schema#'}),\n",
      " Tool(name='edit_file', description='Make line-based edits to a text file. Each edit replaces exact line sequences with new content. Returns a git-style diff showing the changes made. Only works within allowed directories.', inputSchema={'type': 'object', 'properties': {'path': {'type': 'string'}, 'edits': {'type': 'array', 'items': {'type': 'object', 'properties': {'oldText': {'type': 'string', 'description': 'Text to search for - must match exactly'}, 'newText': {'type': 'string', 'description': 'Text to replace with'}}, 'required': ['oldText', 'newText'], 'additionalProperties': False}}, 'dryRun': {'type': 'boolean', 'default': False, 'description': 'Preview changes using git-style diff format'}}, 'required': ['path', 'edits'], 'additionalProperties': False, '$schema': 'http://json-schema.org/draft-07/schema#'}),\n",
      " Tool(name='create_directory', description='Create a new directory or ensure a directory exists. Can create multiple nested directories in one operation. If the directory already exists, this operation will succeed silently. Perfect for setting up directory structures for projects or ensuring required paths exist. Only works within allowed directories.', inputSchema={'type': 'object', 'properties': {'path': {'type': 'string'}}, 'required': ['path'], 'additionalProperties': False, '$schema': 'http://json-schema.org/draft-07/schema#'}),\n",
      " Tool(name='list_directory', description='Get a detailed listing of all files and directories in a specified path. Results clearly distinguish between files and directories with [FILE] and [DIR] prefixes. This tool is essential for understanding directory structure and finding specific files within a directory. Only works within allowed directories.', inputSchema={'type': 'object', 'properties': {'path': {'type': 'string'}}, 'required': ['path'], 'additionalProperties': False, '$schema': 'http://json-schema.org/draft-07/schema#'}),\n",
      " Tool(name='directory_tree', description=\"Get a recursive tree view of files and directories as a JSON structure. Each entry includes 'name', 'type' (file/directory), and 'children' for directories. Files have no children array, while directories always have a children array (which may be empty). The output is formatted with 2-space indentation for readability. Only works within allowed directories.\", inputSchema={'type': 'object', 'properties': {'path': {'type': 'string'}}, 'required': ['path'], 'additionalProperties': False, '$schema': 'http://json-schema.org/draft-07/schema#'}),\n",
      " Tool(name='move_file', description='Move or rename files and directories. Can move files between directories and rename them in a single operation. If the destination exists, the operation will fail. Works across different directories and can be used for simple renaming within the same directory. Both source and destination must be within allowed directories.', inputSchema={'type': 'object', 'properties': {'source': {'type': 'string'}, 'destination': {'type': 'string'}}, 'required': ['source', 'destination'], 'additionalProperties': False, '$schema': 'http://json-schema.org/draft-07/schema#'}),\n",
      " Tool(name='search_files', description=\"Recursively search for files and directories matching a pattern. Searches through all subdirectories from the starting path. The search is case-insensitive and matches partial names. Returns full paths to all matching items. Great for finding files when you don't know their exact location. Only searches within allowed directories.\", inputSchema={'type': 'object', 'properties': {'path': {'type': 'string'}, 'pattern': {'type': 'string'}, 'excludePatterns': {'type': 'array', 'items': {'type': 'string'}, 'default': []}}, 'required': ['path', 'pattern'], 'additionalProperties': False, '$schema': 'http://json-schema.org/draft-07/schema#'}),\n",
      " Tool(name='get_file_info', description='Retrieve detailed metadata about a file or directory. Returns comprehensive information including size, creation time, last modified time, permissions, and type. This tool is perfect for understanding file characteristics without reading the actual content. Only works within allowed directories.', inputSchema={'type': 'object', 'properties': {'path': {'type': 'string'}}, 'required': ['path'], 'additionalProperties': False, '$schema': 'http://json-schema.org/draft-07/schema#'}),\n",
      " Tool(name='list_allowed_directories', description='Returns the list of directories that this server is allowed to access. Use this to understand which directories are available before trying to access files.', inputSchema={'type': 'object', 'properties': {}, 'required': []})]\n",
      "('Resource response: ResourceResponse(success=True, '\n",
      " \"content=CallToolResult(meta=None, content=[TextContent(type='text', \"\n",
      " \"text='Allowed directories:\\\\n/Users', annotations=None)], isError=False), \"\n",
      " 'error=None)')\n"
     ]
    },
    {
     "data": {
      "text/html": [
       "<pre style=\"white-space:pre;overflow-x:auto;line-height:normal;font-family:Menlo,'DejaVu Sans Mono',consolas,'Courier New',monospace\"><span style=\"color: #7fbfbf; text-decoration-color: #7fbfbf\">[04/13/25 11:51:29] </span><span style=\"color: #000080; text-decoration-color: #000080\">INFO    </span> HTTP Request: <span style=\"color: #808000; text-decoration-color: #808000; font-weight: bold\">POST</span> <span style=\"color: #0000ff; text-decoration-color: #0000ff; text-decoration: underline\">https://api.deepseek.com/chat/completions</span> <span style=\"color: #008000; text-decoration-color: #008000\">\"HTTP/1.1</span> <a href=\"file:///Users/ctn/src/aitomatic/opendxa/.venv/lib/python3.12/site-packages/httpx/_client.py\" target=\"_blank\"><span style=\"color: #7f7f7f; text-decoration-color: #7f7f7f\">_client.py</span></a><span style=\"color: #7f7f7f; text-decoration-color: #7f7f7f\">:</span><a href=\"file:///Users/ctn/src/aitomatic/opendxa/.venv/lib/python3.12/site-packages/httpx/_client.py#1038\" target=\"_blank\"><span style=\"color: #7f7f7f; text-decoration-color: #7f7f7f\">1038</span></a>\n",
       "<span style=\"color: #7fbfbf; text-decoration-color: #7fbfbf\">                    </span>         <span style=\"color: #008000; text-decoration-color: #008000\">200 OK\"</span>                                                                <span style=\"color: #7f7f7f; text-decoration-color: #7f7f7f\">               </span>\n",
       "</pre>\n"
      ],
      "text/plain": [
       "\u001b[2;36m[04/13/25 11:51:29]\u001b[0m\u001b[2;36m \u001b[0m\u001b[34mINFO    \u001b[0m HTTP Request: \u001b[1;33mPOST\u001b[0m \u001b[4;94mhttps://api.deepseek.com/chat/completions\u001b[0m \u001b[32m\"HTTP/1.1\u001b[0m \u001b]8;id=426911;file:///Users/ctn/src/aitomatic/opendxa/.venv/lib/python3.12/site-packages/httpx/_client.py\u001b\\\u001b[2m_client.py\u001b[0m\u001b]8;;\u001b\\\u001b[2m:\u001b[0m\u001b]8;id=421763;file:///Users/ctn/src/aitomatic/opendxa/.venv/lib/python3.12/site-packages/httpx/_client.py#1038\u001b\\\u001b[2m1038\u001b[0m\u001b]8;;\u001b\\\n",
       "\u001b[2;36m                    \u001b[0m         \u001b[32m200 OK\"\u001b[0m                                                                \u001b[2m               \u001b[0m\n"
      ]
     },
     "metadata": {},
     "output_type": "display_data"
    },
    {
     "data": {
      "text/html": [
       "<pre style=\"white-space:pre;overflow-x:auto;line-height:normal;font-family:Menlo,'DejaVu Sans Mono',consolas,'Courier New',monospace\"><span style=\"color: #7fbfbf; text-decoration-color: #7fbfbf\">[04/13/25 11:51:46] </span><span style=\"color: #000080; text-decoration-color: #000080\">INFO    </span> HTTP Request: <span style=\"color: #808000; text-decoration-color: #808000; font-weight: bold\">POST</span> <span style=\"color: #0000ff; text-decoration-color: #0000ff; text-decoration: underline\">https://api.deepseek.com/chat/completions</span> <span style=\"color: #008000; text-decoration-color: #008000\">\"HTTP/1.1</span> <a href=\"file:///Users/ctn/src/aitomatic/opendxa/.venv/lib/python3.12/site-packages/httpx/_client.py\" target=\"_blank\"><span style=\"color: #7f7f7f; text-decoration-color: #7f7f7f\">_client.py</span></a><span style=\"color: #7f7f7f; text-decoration-color: #7f7f7f\">:</span><a href=\"file:///Users/ctn/src/aitomatic/opendxa/.venv/lib/python3.12/site-packages/httpx/_client.py#1038\" target=\"_blank\"><span style=\"color: #7f7f7f; text-decoration-color: #7f7f7f\">1038</span></a>\n",
       "<span style=\"color: #7fbfbf; text-decoration-color: #7fbfbf\">                    </span>         <span style=\"color: #008000; text-decoration-color: #008000\">200 OK\"</span>                                                                <span style=\"color: #7f7f7f; text-decoration-color: #7f7f7f\">               </span>\n",
       "</pre>\n"
      ],
      "text/plain": [
       "\u001b[2;36m[04/13/25 11:51:46]\u001b[0m\u001b[2;36m \u001b[0m\u001b[34mINFO    \u001b[0m HTTP Request: \u001b[1;33mPOST\u001b[0m \u001b[4;94mhttps://api.deepseek.com/chat/completions\u001b[0m \u001b[32m\"HTTP/1.1\u001b[0m \u001b]8;id=204650;file:///Users/ctn/src/aitomatic/opendxa/.venv/lib/python3.12/site-packages/httpx/_client.py\u001b\\\u001b[2m_client.py\u001b[0m\u001b]8;;\u001b\\\u001b[2m:\u001b[0m\u001b]8;id=337365;file:///Users/ctn/src/aitomatic/opendxa/.venv/lib/python3.12/site-packages/httpx/_client.py#1038\u001b\\\u001b[2m1038\u001b[0m\u001b]8;;\u001b\\\n",
       "\u001b[2;36m                    \u001b[0m         \u001b[32m200 OK\"\u001b[0m                                                                \u001b[2m               \u001b[0m\n"
      ]
     },
     "metadata": {},
     "output_type": "display_data"
    },
    {
     "data": {
      "text/html": [
       "<pre style=\"white-space:pre;overflow-x:auto;line-height:normal;font-family:Menlo,'DejaVu Sans Mono',consolas,'Courier New',monospace\"><span style=\"color: #7fbfbf; text-decoration-color: #7fbfbf\">[04/13/25 11:51:53] </span><span style=\"color: #000080; text-decoration-color: #000080\">INFO    </span> HTTP Request: <span style=\"color: #808000; text-decoration-color: #808000; font-weight: bold\">POST</span> <span style=\"color: #0000ff; text-decoration-color: #0000ff; text-decoration: underline\">https://api.deepseek.com/chat/completions</span> <span style=\"color: #008000; text-decoration-color: #008000\">\"HTTP/1.1</span> <a href=\"file:///Users/ctn/src/aitomatic/opendxa/.venv/lib/python3.12/site-packages/httpx/_client.py\" target=\"_blank\"><span style=\"color: #7f7f7f; text-decoration-color: #7f7f7f\">_client.py</span></a><span style=\"color: #7f7f7f; text-decoration-color: #7f7f7f\">:</span><a href=\"file:///Users/ctn/src/aitomatic/opendxa/.venv/lib/python3.12/site-packages/httpx/_client.py#1038\" target=\"_blank\"><span style=\"color: #7f7f7f; text-decoration-color: #7f7f7f\">1038</span></a>\n",
       "<span style=\"color: #7fbfbf; text-decoration-color: #7fbfbf\">                    </span>         <span style=\"color: #008000; text-decoration-color: #008000\">200 OK\"</span>                                                                <span style=\"color: #7f7f7f; text-decoration-color: #7f7f7f\">               </span>\n",
       "</pre>\n"
      ],
      "text/plain": [
       "\u001b[2;36m[04/13/25 11:51:53]\u001b[0m\u001b[2;36m \u001b[0m\u001b[34mINFO    \u001b[0m HTTP Request: \u001b[1;33mPOST\u001b[0m \u001b[4;94mhttps://api.deepseek.com/chat/completions\u001b[0m \u001b[32m\"HTTP/1.1\u001b[0m \u001b]8;id=838367;file:///Users/ctn/src/aitomatic/opendxa/.venv/lib/python3.12/site-packages/httpx/_client.py\u001b\\\u001b[2m_client.py\u001b[0m\u001b]8;;\u001b\\\u001b[2m:\u001b[0m\u001b]8;id=258642;file:///Users/ctn/src/aitomatic/opendxa/.venv/lib/python3.12/site-packages/httpx/_client.py#1038\u001b\\\u001b[2m1038\u001b[0m\u001b]8;;\u001b\\\n",
       "\u001b[2;36m                    \u001b[0m         \u001b[32m200 OK\"\u001b[0m                                                                \u001b[2m               \u001b[0m\n"
      ]
     },
     "metadata": {},
     "output_type": "display_data"
    },
    {
     "name": "stdout",
     "output_type": "stream",
     "text": [
      "('The `/Users` directory contains the following items:\\n'\n",
      " '- 1 file: `.localized`\\n'\n",
      " '- 5 directories: `Shared`, `aitomatic`, `alexandra`, `ctn`, `elise`\\n'\n",
      " '\\n'\n",
      " '### Count of Files:\\n'\n",
      " 'There is **1 file** in the `/Users` directory (the `.localized` file). The '\n",
      " 'other items are directories and are not counted as files.\\n'\n",
      " '\\n'\n",
      " '### Conclusion:\\n'\n",
      " 'The task is complete. The default directory `/Users` contains **1 file**.')\n"
     ]
    }
   ],
   "source": [
    "from opendxa import McpResource\n",
    "from pprint import pprint\n",
    "\n",
    "dirname = \"/Users/\"\n",
    "\n",
    "# From dictionary\n",
    "config = {\n",
    "    \"command\": \"npx\",\n",
    "    \"args\": [\"-y\", \"@modelcontextprotocol/server-filesystem\", dirname]\n",
    "}\n",
    "filesystem_resource = McpResource.from_config(\"filesystem\", config)\n",
    "pprint(await filesystem_resource.list_tools())\n",
    "\n",
    "response = await filesystem_resource.query({\n",
    "    \"tool\": \"list_allowed_directories\",\n",
    "    \"arguments\": {}  # {\"path\": dirname}\n",
    "})\n",
    "pprint(f\"Resource response: {response}\")\n",
    "\n",
    "# We can then make that resource available to an Agent.\n",
    "from opendxa import Agent, DXA_LOGGER\n",
    "\n",
    "agent = Agent().with_resources({\"filesystem\": filesystem_resource})\n",
    "# DXA_LOGGER.basicConfig(level=DXA_LOGGER.DEBUG)\n",
    "result = agent.ask(\"Use a tool to determine how many files do I have in the default directory\")\n",
    "\n",
    "pprint(result)"
   ]
  },
  {
   "cell_type": "markdown",
   "metadata": {},
   "source": [
    "## 2. Launching our own Python MCP services\n",
    "\n",
    "We can create our own Python MCP services and launch them automatically via an `MCPResource` that is attached to those services."
   ]
  },
  {
   "cell_type": "code",
   "execution_count": null,
   "metadata": {},
   "outputs": [],
   "source": [
    "from opendxa.common.resource.mcp import HttpTransportParams\n",
    "\n",
    "# Example 1: STDIO Transport (Local Server)\n",
    "local_mcp = McpResource(\n",
    "    name=\"local_echo\",\n",
    "    transport_params=StdioTransportParams(\n",
    "        server_script=\"examples/learning_paths/02_core_concepts/mcp_servers/mcp_echo.py\",\n",
    "        command=\"python\",\n",
    "        args=[\"examples/learning_paths/02_core_concepts/mcp_servers/mcp_echo.py\"],\n",
    "        env={\"DEBUG\": \"1\"}  # Optional environment variables\n",
    "    )\n",
    ")\n",
    "\n",
    "# Example 2: HTTP Transport (Remote Server)\n",
    "remote_mcp = McpResource(\n",
    "    name=\"remote_echo\",\n",
    "    transport_params=HttpTransportParams(\n",
    "        url=\"https://api.example.com/mcp\",\n",
    "        headers={\"Authorization\": \"Bearer your-token\"},\n",
    "        timeout=5.0,  # Connection timeout in seconds\n",
    "        sse_read_timeout=300.0  # SSE read timeout in seconds\n",
    "    )\n",
    ")\n",
    "\n",
    "# Test both servers\n",
    "local_response = await local_mcp.query({\n",
    "    \"tool\": \"ping\"\n",
    "})\n",
    "print(f\"Local server response: {local_response.content}\")\n",
    "\n",
    "try:\n",
    "    remote_response = await remote_mcp.query({\n",
    "        \"tool\": \"ping\"\n",
    "    })\n",
    "    print(f\"Remote server response: {remote_response.content}\")\n",
    "except Exception as e:\n",
    "    print(f\"Remote server error: {e}\")"
   ]
  },
  {
   "cell_type": "markdown",
   "metadata": {},
   "source": [
    "## 3. Tool Discovery and Usage\n",
    "\n",
    "MCP resources provide a way to discover available tools at runtime. Let's see how to use this feature:"
   ]
  },
  {
   "cell_type": "code",
   "execution_count": null,
   "metadata": {},
   "outputs": [],
   "source": [
    "# Discover available tools\n",
    "tools = await local_mcp.list_tools()\n",
    "print(f\"Found {len(tools)} available tools\\n\")\n",
    "\n",
    "# Print tool details\n",
    "for tool in tools:\n",
    "    print(f\"Tool: {tool.name}\")\n",
    "    print(f\"Description: {tool.description}\")\n",
    "    print(\"Parameters:\")\n",
    "    for param_name, param_details in tool.inputSchema[\"properties\"].items():\n",
    "        print(f\"  - {param_name}: {param_details.get('type')}\")\n",
    "        if param_name in tool.inputSchema.get(\"required\", []):\n",
    "            print(\"    (Required)\")\n",
    "    print()\n",
    "\n",
    "# Example: Using a discovered tool\n",
    "if tools:\n",
    "    tool = tools[0]  # Use the first available tool\n",
    "    print(f\"Testing tool: {tool.name}\")\n",
    "    \n",
    "    # Prepare arguments based on the tool's schema\n",
    "    arguments = {}\n",
    "    for param_name, param_details in tool.inputSchema[\"properties\"].items():\n",
    "        if param_name in tool.inputSchema.get(\"required\", []):\n",
    "            # Provide a default value based on the parameter type\n",
    "            param_type = param_details.get(\"type\")\n",
    "            if param_type == \"string\":\n",
    "                arguments[param_name] = \"test\"\n",
    "            elif param_type == \"number\":\n",
    "                arguments[param_name] = 42\n",
    "            elif param_type == \"boolean\":\n",
    "                arguments[param_name] = True\n",
    "            elif param_type == \"array\":\n",
    "                arguments[param_name] = []\n",
    "            elif param_type == \"object\":\n",
    "                arguments[param_name] = {}\n",
    "    \n",
    "    # Execute the tool\n",
    "    response = await local_mcp.query({\n",
    "        \"tool\": tool.name,\n",
    "        \"arguments\": arguments\n",
    "    })\n",
    "    \n",
    "    print(f\"Tool response: {response.content}\")"
   ]
  },
  {
   "cell_type": "markdown",
   "metadata": {},
   "source": [
    "## 4. Error Handling\n",
    "\n",
    "MCP resources provide robust error handling. Let's see how to handle different types of errors:"
   ]
  },
  {
   "cell_type": "code",
   "execution_count": null,
   "metadata": {},
   "outputs": [],
   "source": [
    "# Example 1: Invalid tool name\n",
    "try:\n",
    "    response = await local_mcp.query({\n",
    "        \"tool\": \"nonexistent_tool\",\n",
    "        \"arguments\": {}\n",
    "    })\n",
    "    print(f\"Response: {response.content}\")\n",
    "except Exception as e:\n",
    "    print(f\"Error: {e}\")\n",
    "\n",
    "# Example 2: Invalid arguments\n",
    "try:\n",
    "    response = await local_mcp.query({\n",
    "        \"tool\": \"echo\",\n",
    "        \"arguments\": {\"invalid_param\": \"value\"}\n",
    "    })\n",
    "    print(f\"Response: {response.content}\")\n",
    "except Exception as e:\n",
    "    print(f\"Error: {e}\")\n",
    "\n",
    "# Example 3: Missing required arguments\n",
    "try:\n",
    "    response = await local_mcp.query({\n",
    "        \"tool\": \"echo\"  # Missing required 'message' argument\n",
    "    })\n",
    "    print(f\"Response: {response.content}\")\n",
    "except Exception as e:\n",
    "    print(f\"Error: {e}\")"
   ]
  },
  {
   "cell_type": "markdown",
   "metadata": {},
   "source": [
    "## 5. Advanced Features\n",
    "\n",
    "### 5.1 Environment Variables\n",
    "\n",
    "You can pass environment variables to local MCP servers:"
   ]
  },
  {
   "cell_type": "code",
   "execution_count": null,
   "metadata": {},
   "outputs": [],
   "source": [
    "# Create MCP resource with environment variables\n",
    "mcp_with_env = McpResource(\n",
    "    name=\"env_mcp\",\n",
    "    transport_params=StdioTransportParams(\n",
    "        server_script=\"examples/learning_paths/02_core_concepts/mcp_servers/mcp_echo.py\",\n",
    "        command=\"python\",\n",
    "        args=[\"examples/learning_paths/02_core_concepts/mcp_servers/mcp_echo.py\"],\n",
    "        env={\n",
    "            \"DEBUG\": \"1\",\n",
    "            \"LOG_LEVEL\": \"INFO\",\n",
    "            \"CUSTOM_VAR\": \"custom_value\"\n",
    "        }\n",
    "    )\n",
    ")\n",
    "\n",
    "# Test the server with environment variables\n",
    "response = await mcp_with_env.query({\n",
    "    \"tool\": \"ping\"\n",
    "})\n",
    "print(f\"Response: {response.content}\")"
   ]
  },
  {
   "cell_type": "markdown",
   "metadata": {},
   "source": [
    "### 5.2 Tool Schema Validation\n",
    "\n",
    "MCP automatically validates tool arguments against their schemas:"
   ]
  },
  {
   "cell_type": "code",
   "execution_count": null,
   "metadata": {},
   "outputs": [],
   "source": [
    "# Example 1: Valid arguments\n",
    "try:\n",
    "    response = await local_mcp.query({\n",
    "        \"tool\": \"echo\",\n",
    "        \"arguments\": {\"message\": \"Valid message\"}\n",
    "    })\n",
    "    print(f\"Valid arguments response: {response.content}\")\n",
    "except Exception as e:\n",
    "    print(f\"Error: {e}\")\n",
    "\n",
    "# Example 2: Invalid argument type\n",
    "try:\n",
    "    response = await local_mcp.query({\n",
    "        \"tool\": \"echo\",\n",
    "        \"arguments\": {\"message\": 42}  # Should be a string\n",
    "    })\n",
    "    print(f\"Response: {response.content}\")\n",
    "except Exception as e:\n",
    "    print(f\"Error: {e}\")"
   ]
  },
  {
   "cell_type": "markdown",
   "metadata": {},
   "source": [
    "## 6. Best Practices\n",
    "\n",
    "Here are some best practices for working with MCP resources:\n",
    "\n",
    "1. **Server Design**\n",
    "   - Keep servers focused on specific functionality\n",
    "   - Implement proper error handling\n",
    "   - Use type hints and docstrings\n",
    "   - Follow the single responsibility principle\n",
    "\n",
    "2. **Client Usage**\n",
    "   - Always initialize resources before use\n",
    "   - Implement proper error handling\n",
    "   - Use appropriate timeouts for remote servers\n",
    "   - Validate tool arguments before calling\n",
    "\n",
    "3. **Transport Selection**\n",
    "   - Use STDIO transport for local servers\n",
    "   - Use HTTP transport for remote servers\n",
    "   - Configure appropriate timeouts\n",
    "   - Handle connection errors gracefully\n",
    "\n",
    "4. **Tool Design**\n",
    "   - Keep tools focused and single-purpose\n",
    "   - Provide clear documentation\n",
    "   - Use appropriate parameter types\n",
    "   - Handle edge cases\n",
    "\n",
    "5. **Error Handling**\n",
    "   - Implement proper error handling\n",
    "   - Use appropriate error messages\n",
    "   - Handle timeouts and connection errors\n",
    "   - Validate inputs and outputs\n",
    "\n",
    "## Summary\n",
    "\n",
    "In this tutorial, we covered:\n",
    "\n",
    "1. Understanding MCP and its features\n",
    "2. Working with different transport types\n",
    "3. Discovering and using MCP tools\n",
    "4. Handling errors and edge cases\n",
    "5. Using advanced features\n",
    "6. Following best practices\n",
    "\n",
    "The MCP resource in OpenDXA provides a powerful and flexible way to integrate external services and tools into your agents. By following the best practices outlined in this tutorial, you can create robust and maintainable MCP-based applications."
   ]
  }
 ],
 "metadata": {
  "kernelspec": {
   "display_name": ".venv",
   "language": "python",
   "name": "python3"
  },
  "language_info": {
   "codemirror_mode": {
    "name": "ipython",
    "version": 3
   },
   "file_extension": ".py",
   "mimetype": "text/x-python",
   "name": "python",
   "nbconvert_exporter": "python",
   "pygments_lexer": "ipython3",
   "version": "3.12.7"
  }
 },
 "nbformat": 4,
 "nbformat_minor": 4
}
