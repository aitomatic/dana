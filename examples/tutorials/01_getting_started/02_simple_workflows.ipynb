{
 "cells": [
  {
   "cell_type": "markdown",
   "metadata": {},
   "source": [
    "# Simple Workflows in OpenDXA\n",
    "\n",
    "This tutorial demonstrates how to create and work with simple workflows in the OpenDXA framework. We'll cover the basic components of workflows and show how to create, visualize, and execute them.\n",
    "\n",
    "## Prerequisites\n",
    "\n",
    "- Basic understanding of OpenDXA (from the previous tutorial)\n",
    "- OpenDXA package installed\n",
    "- Python 3.8 or higher"
   ]
  },
  {
   "cell_type": "markdown",
   "metadata": {},
   "source": [
    "## 1. Understanding Workflow Components\n",
    "\n",
    "A workflow in OpenDXA consists of three main components:\n",
    "\n",
    "1. **START Node**: The entry point of the workflow\n",
    "2. **Task Nodes**: The actual work to be performed\n",
    "3. **END Node**: The exit point of the workflow\n",
    "\n",
    "Let's create a simple workflow to understand these components."
   ]
  },
  {
   "cell_type": "code",
   "execution_count": null,
   "metadata": {},
   "outputs": [],
   "source": [
    "from opendxa import WorkflowFactory\n",
    "\n",
    "# Create a simple workflow using the factory\n",
    "workflow = WorkflowFactory.create_default_workflow(\n",
    "    objective=\"Design a database schema for a library management system\"\n",
    ")\n",
    "\n",
    "# Visualize the workflow structure\n",
    "from pprint import pprint\n",
    "pprint(workflow.pretty_print())"
   ]
  },
  {
   "cell_type": "markdown",
   "metadata": {},
   "source": [
    "## 2. Creating a Custom Workflow\n",
    "\n",
    "While the default workflow is useful for simple tasks, we can create custom workflows for more specific needs. Let's create a workflow for a data processing task."
   ]
  },
  {
   "cell_type": "code",
   "execution_count": null,
   "metadata": {},
   "outputs": [],
   "source": [
    "from opendxa import Workflow,ExecutionNode, ExecutionEdge\n",
    "\n",
    "# Create a new workflow\n",
    "workflow = Workflow(\n",
    "    name=\"data_processing_workflow\",\n",
    "    objective=\"A workflow for processing and analyzing data\"\n",
    ")\n",
    "\n",
    "# Create nodes\n",
    "start_node = ExecutionNode(\n",
    "    node_id=\"START\",\n",
    "    node_type=\"START\",\n",
    "    objective=\"Start of data processing\"\n",
    ")\n",
    "\n",
    "load_data_node = ExecutionNode(\n",
    "    node_id=\"LOAD_DATA\",\n",
    "    node_type=\"TASK\",\n",
    "    objective=\"Load and validate input data\"\n",
    ")\n",
    "\n",
    "process_data_node = ExecutionNode(\n",
    "    node_id=\"PROCESS_DATA\",\n",
    "    node_type=\"TASK\",\n",
    "    objective=\"Process and transform data\"\n",
    ")\n",
    "\n",
    "end_node = ExecutionNode(\n",
    "    node_id=\"END\",\n",
    "    node_type=\"END\",\n",
    "    objective=\"End of data processing\"\n",
    ")\n",
    "\n",
    "# Add nodes to workflow\n",
    "workflow.add_node(start_node)\n",
    "workflow.add_node(load_data_node)\n",
    "workflow.add_node(process_data_node)\n",
    "workflow.add_node(end_node)\n",
    "\n",
    "edge = ExecutionEdge(start_node, load_data_node)\n",
    "\n",
    "# Create edges to connect nodes\n",
    "workflow.add_edge(ExecutionEdge(start_node, load_data_node))\n",
    "workflow.add_edge(ExecutionEdge(load_data_node, process_data_node))\n",
    "workflow.add_edge(ExecutionEdge(process_data_node, end_node))\n",
    "\n",
    "# Visualize the workflow\n",
    "pprint(workflow.pretty_print())"
   ]
  },
  {
   "cell_type": "markdown",
   "metadata": {},
   "source": [
    "## 3. Executing a Workflow\n",
    "\n",
    "Now that we have created a workflow, let's see how to execute it. We'll use the workflow executor to run our workflow."
   ]
  },
  {
   "cell_type": "code",
   "execution_count": null,
   "metadata": {},
   "outputs": [],
   "source": [
    "from opendxa import Agent, WorkflowFactory\n",
    "\n",
    "workflow = WorkflowFactory.create_default_workflow(\n",
    "    objective=\"Design a database schema for a library management system\"\n",
    ")\n",
    "\n",
    "result = Agent().run(workflow)\n",
    "from pprint import pprint\n",
    "pprint(result)"
   ]
  },
  {
   "cell_type": "markdown",
   "metadata": {},
   "source": [
    "In detail, the workflow will be executed as follows:\n",
    "\n",
    "1. The workflow will be executed by the agent.\n",
    "2. The agent will use the workflow executor to execute the workflow.\n",
    "3. The workflow executor will execute the workflow by calling the nodes in the order they are defined in the workflow.\n",
    "4. The workflow executor will return the results of the workflow.\n",
    "\n",
    "Let’s take a look at this detailed process, bypassing an Agent and its runtime logic:"
   ]
  },
  {
   "cell_type": "code",
   "execution_count": null,
   "metadata": {},
   "outputs": [],
   "source": [
    "from opendxa import WorkflowExecutor, ExecutionContext, WorkflowFactory\n",
    "\n",
    "# Create an execution context\n",
    "context = ExecutionContext()\n",
    "\n",
    "# Create a workflow executor\n",
    "executor = WorkflowExecutor()\n",
    "\n",
    "# Create a workflow\n",
    "workflow = WorkflowFactory.create_default_workflow(\n",
    "    objective=\"Design a database schema for a library management system\"\n",
    ")\n",
    "\n",
    "# Execute the workflow\n",
    "result = await executor.execute(workflow, context)\n",
    "\n",
    "# Print the execution results\n",
    "print(\"Workflow execution completed:\")\n",
    "from pprint import pprint\n",
    "pprint(result)"
   ]
  },
  {
   "cell_type": "markdown",
   "metadata": {},
   "source": [
    "You may be curious what this Workflow-Planning-Reasoning stack sends to the LLM. Let's take a look at the context that is sent to the LLM."
   ]
  },
  {
   "cell_type": "code",
   "execution_count": null,
   "metadata": {},
   "outputs": [],
   "source": [
    "from opendxa import Agent, WorkflowFactory, DXA_LOGGER, ReasoningStrategy\n",
    "\n",
    "workflow = WorkflowFactory.create_default_workflow(\n",
    "    objective=\"Determine if 0.89 is greater than 0.9\"\n",
    ")\n",
    "\n",
    "DXA_LOGGER.basicConfig(level=DXA_LOGGER.DEBUG)  # Set all loggers to DEBUG\n",
    "result = Agent()\\\n",
    "    .with_reasoning_llm(\"deepseek:deepseek-coder\")\\\n",
    "    .with_reasoning(strategy=ReasoningStrategy.CHAIN_OF_THOUGHT)\\\n",
    "    .run(workflow)"
   ]
  },
  {
   "cell_type": "markdown",
   "metadata": {},
   "source": [
    "## 4. Workflow State Management\n",
    "\n",
    "OpenDXA provides tools for managing workflow state during execution. Let's see how to track and manage workflow state."
   ]
  },
  {
   "cell_type": "code",
   "execution_count": null,
   "metadata": {},
   "outputs": [],
   "source": [
    "# Add state tracking to our workflow\n",
    "workflow.add_state_tracking()\n",
    "\n",
    "# Execute the workflow with state tracking\n",
    "result = executor.execute(workflow, context)\n",
    "\n",
    "# Print the workflow state at each step\n",
    "print(\"\\nWorkflow State History:\")\n",
    "for state in workflow.state_history:\n",
    "    print(f\"Node: {state.node_name}, Status: {state.status}\")"
   ]
  },
  {
   "cell_type": "markdown",
   "metadata": {},
   "source": [
    "## 5. Error Handling in Workflows\n",
    "\n",
    "Let's see how to handle errors in workflow execution and implement error recovery strategies."
   ]
  },
  {
   "cell_type": "code",
   "execution_count": null,
   "metadata": {},
   "outputs": [],
   "source": [
    "# Add error handling to our workflow\n",
    "workflow.add_error_handling()\n",
    "\n",
    "# Execute the workflow with error handling\n",
    "try:\n",
    "    result = executor.execute(workflow, context)\n",
    "except Exception as e:\n",
    "    print(f\"Error during workflow execution: {e}\")\n",
    "    # Handle the error appropriately\n",
    "    workflow.handle_error(e)"
   ]
  },
  {
   "cell_type": "markdown",
   "metadata": {},
   "source": [
    "## Next Steps\n",
    "\n",
    "In this tutorial, we've covered:\n",
    "\n",
    "1. Understanding workflow components\n",
    "2. Creating custom workflows\n",
    "3. Executing workflows\n",
    "4. Managing workflow state\n",
    "5. Handling errors in workflows\n",
    "\n",
    "In the next tutorial, we'll explore agent configuration and how to customize the behavior of your OpenDXA agents."
   ]
  }
 ],
 "metadata": {
  "kernelspec": {
   "display_name": ".venv",
   "language": "python",
   "name": "python3"
  },
  "language_info": {
   "codemirror_mode": {
    "name": "ipython",
    "version": 3
   },
   "file_extension": ".py",
   "mimetype": "text/x-python",
   "name": "python",
   "nbconvert_exporter": "python",
   "pygments_lexer": "ipython3",
   "version": "3.12.7"
  }
 },
 "nbformat": 4,
 "nbformat_minor": 4
}
