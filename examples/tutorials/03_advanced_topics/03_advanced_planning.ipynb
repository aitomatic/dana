{
 "cells": [
  {
   "cell_type": "markdown",
   "metadata": {},
   "source": "# Advanced Planning in OpenDXA\n\nThis tutorial explores advanced planning strategies and implementations in OpenDXA, building upon the basic planning concepts covered earlier.\n\n## Prerequisites\n- Understanding of OpenDXA basics\n- Familiarity with simple workflows\n- Knowledge of basic planning concepts\n- OpenDXA package installed\n- Python 3.8 or higher",
   "outputs": []
  },
  {
   "cell_type": "code",
   "metadata": {},
   "source": "!pip install opendxa",
   "outputs": []
  },
  {
   "cell_type": "markdown",
   "metadata": {},
   "source": [
    "## 1. Advanced Planning Strategies\n",
    "\n",
    "### 1.1 Hierarchical Planning\n",
    "Breaking down complex plans into manageable sub-plans."
   ]
  },
  {
   "cell_type": "code",
   "metadata": {},
   "source": "from opendxa.planning import Plan, PlanStep, PlanEdge\nfrom opendxa.planning.strategies import HierarchicalPlanningStrategy\nfrom opendxa.planning.execution import PlanExecutor\n\n# Create a hierarchical planning strategy\nstrategy = HierarchicalPlanningStrategy(\n    max_depth=3,  # Maximum depth of sub-plans\n    min_step_size=2  # Minimum number of steps in a sub-plan\n)\n\n# Create a complex plan\nplan = Plan(\n    name=\"hierarchical_plan\",\n    description=\"Plan with hierarchical structure\"\n)\n\n# Create main plan steps\nstep1 = PlanStep(\n    name=\"step1\",\n    description=\"First main step\",\n    handler=lambda state: {\"result\": \"Step 1 completed\"}\n)\n\nstep2 = PlanStep(\n    name=\"step2\",\n    description=\"Second main step\",\n    handler=lambda state: {\"result\": \"Step 2 completed\"}\n)\n\n# Create sub-plan steps\nsub_step1 = PlanStep(\n    name=\"sub_step1\",\n    description=\"First sub-step\",\n    handler=lambda state: {\"result\": \"Sub-step 1 completed\"}\n)\n\nsub_step2 = PlanStep(\n    name=\"sub_step2\",\n    description=\"Second sub-step\",\n    handler=lambda state: {\"result\": \"Sub-step 2 completed\"}\n)\n\n# Add steps to plan\nplan.add_step(step1)\nplan.add_step(step2)\nplan.add_step(sub_step1)\nplan.add_step(sub_step2)\n\n# Connect steps with dependencies\nplan.add_edge(PlanEdge(step1, step2))\nplan.add_edge(PlanEdge(step1, sub_step1))\nplan.add_edge(PlanEdge(sub_step1, sub_step2))\nplan.add_edge(PlanEdge(sub_step2, step2))\n\n# Execute plan with hierarchical strategy\nexecutor = PlanExecutor(strategy=strategy)\nresult = executor.execute(plan)\nprint(f\"Execution result: {result}\")",
   "outputs": []
  },
  {
   "cell_type": "markdown",
   "metadata": {},
   "source": [
    "### 1.2 Dynamic Planning\n",
    "Adapting plans based on execution context and results."
   ]
  },
  {
   "cell_type": "code",
   "metadata": {},
   "source": "from opendxa.planning.strategies import DynamicPlanningStrategy\n\n# Create a dynamic planning strategy\nstrategy = DynamicPlanningStrategy(\n    adaptation_threshold=0.5,  # Threshold for plan adaptation\n    max_adaptations=3  # Maximum number of adaptations\n)\n\n# Create a plan with dynamic steps\nplan = Plan(\n    name=\"dynamic_plan\",\n    description=\"Plan with dynamic adaptation\"\n)\n\n# Create plan steps with dynamic handlers\nstep1 = PlanStep(\n    name=\"step1\",\n    description=\"First step\",\n    handler=lambda state: {\"value\": state.get(\"initial_value\", 0) * 2}\n)\n\nstep2 = PlanStep(\n    name=\"step2\",\n    description=\"Second step\",\n    handler=lambda state: {\"value\": state.get(\"value\", 0) + 10}\n)\n\nstep3 = PlanStep(\n    name=\"step3\",\n    description=\"Third step\",\n    handler=lambda state: {\"value\": state.get(\"value\", 0) / 2}\n)\n\n# Add steps to plan\nplan.add_step(step1)\nplan.add_step(step2)\nplan.add_step(step3)\n\n# Connect steps with conditional dependencies\nplan.add_edge(PlanEdge(step1, step2, condition=lambda state: state.get(\"value\", 0) > 50))\nplan.add_edge(PlanEdge(step1, step3, condition=lambda state: state.get(\"value\", 0) <= 50))\n\n# Execute plan with dynamic strategy\nexecutor = PlanExecutor(strategy=strategy)\nresult = executor.execute(plan, initial_state={\"initial_value\": 25})\nprint(f\"Execution result: {result}\")",
   "outputs": []
  },
  {
   "cell_type": "markdown",
   "metadata": {},
   "source": [
    "### 1.3 Resource-Aware Planning\n",
    "Optimizing plans based on available resources and constraints."
   ]
  },
  {
   "cell_type": "code",
   "metadata": {},
   "source": "from opendxa.planning.strategies import ResourceAwarePlanningStrategy\nfrom opendxa.resources import Resource, ResourceType\n\n# Create resources\ncpu_resource = Resource(\n    name=\"cpu\",\n    type=ResourceType.COMPUTE,\n    capacity=4,  # 4 CPU cores\n    unit=\"cores\"\n)\n\nmemory_resource = Resource(\n    name=\"memory\",\n    type=ResourceType.MEMORY,\n    capacity=8192,  # 8GB RAM\n    unit=\"MB\"\n)\n\n# Create a resource-aware planning strategy\nstrategy = ResourceAwarePlanningStrategy(\n    resources=[cpu_resource, memory_resource],\n    optimization_target=\"time\"  # Optimize for execution time\n)\n\n# Create a plan with resource requirements\nplan = Plan(\n    name=\"resource_aware_plan\",\n    description=\"Plan with resource constraints\"\n)\n\n# Create plan steps with resource requirements\nstep1 = PlanStep(\n    name=\"step1\",\n    description=\"CPU-intensive step\",\n    handler=lambda state: {\"result\": \"Step 1 completed\"},\n    resource_requirements={\"cpu\": 2, \"memory\": 1024}  # 2 cores, 1GB RAM\n)\n\nstep2 = PlanStep(\n    name=\"step2\",\n    description=\"Memory-intensive step\",\n    handler=lambda state: {\"result\": \"Step 2 completed\"},\n    resource_requirements={\"cpu\": 1, \"memory\": 4096}  # 1 core, 4GB RAM\n)\n\nstep3 = PlanStep(\n    name=\"step3\",\n    description=\"Lightweight step\",\n    handler=lambda state: {\"result\": \"Step 3 completed\"},\n    resource_requirements={\"cpu\": 1, \"memory\": 512}  # 1 core, 512MB RAM\n)\n\n# Add steps to plan\nplan.add_step(step1)\nplan.add_step(step2)\nplan.add_step(step3)\n\n# Connect steps with dependencies\nplan.add_edge(PlanEdge(step1, step2))\nplan.add_edge(PlanEdge(step2, step3))\n\n# Execute plan with resource-aware strategy\nexecutor = PlanExecutor(strategy=strategy)\nresult = executor.execute(plan)\nprint(f\"Execution result: {result}\")",
   "outputs": []
  },
  {
   "cell_type": "markdown",
   "metadata": {},
   "source": [
    "## 2. Real-World Example: Semiconductor Manufacturing Planning\n",
    "\n",
    "Let's create a comprehensive planning system for semiconductor manufacturing that combines all these advanced planning strategies."
   ]
  },
  {
   "cell_type": "code",
   "execution_count": null,
   "metadata": {},
   "source": [
    "# Create resources for semiconductor manufacturing\n",
    "equipment_resource = Resource(\n",
    "    name=\"equipment\",\n",
    "    type=ResourceType.EQUIPMENT,\n",
    "    capacity=5,  # 5 pieces of equipment\n",
    "    unit=\"pieces\"\n",
    ")\n",
    "\n",
    "material_resource = Resource(\n",
    "    name=\"material\",\n",
    "    type=ResourceType.MATERIAL,\n",
    "    capacity=1000,  # 1000 units of material\n",
    "    unit=\"units\"\n",
    ")\n",
    "\n",
    "# Create a comprehensive planning strategy\n",
    "strategy = ResourceAwarePlanningStrategy(\n",
    "    resources=[equipment_resource, material_resource],\n",
    "    optimization_target=\"efficiency\"  # Optimize for resource efficiency\n",
    ")\n",
    "\n",
    "# Create a semiconductor manufacturing plan\n",
    "plan = Plan(\n",
    "    name=\"semiconductor_manufacturing\",\n",
    "    description=\"Advanced semiconductor manufacturing plan\"\n",
    ")\n",
    "\n",
    "# Create plan steps for different manufacturing stages\n",
    "prepare_wafer = PlanStep(\n",
    "    name=\"prepare_wafer\",\n",
    "    description=\"Prepare silicon wafer\",\n",
    "    handler=lambda state: {\"wafer_prepared\": True},\n",
    "    resource_requirements={\"equipment\": 1, \"material\": 100}\n",
    ")\n",
    "\n",
    "deposit_layer = PlanStep(\n",
    "    name=\"deposit_layer\",\n",
    "    description=\"Deposit material layer\",\n",
    "    handler=lambda state: {\"layer_deposited\": True},\n",
    "    resource_requirements={\"equipment\": 2, \"material\": 200}\n",
    ")\n",
    "\n",
    "pattern_layer = PlanStep(\n",
    "    name=\"pattern_layer\",\n",
    "    description=\"Pattern the layer\",\n",
    "    handler=lambda state: {\"layer_patterned\": True},\n",
    "    resource_requirements={\"equipment\": 1, \"material\": 50}\n",
    ")\n",
    "\n",
    "etch_layer = PlanStep(\n",
    "    name=\"etch_layer\",\n",
    "    description=\"Etch the layer\",\n",
    "    handler=lambda state: {\"layer_etched\": True},\n",
    "    resource_requirements={\"equipment\": 1, \"material\": 75}\n",
    ")\n",
    "\n",
    "inspect_layer = PlanStep(\n",
    "    name=\"inspect_layer\",\n",
    "    description=\"Inspect the layer\",\n",
    "    handler=lambda state: {\"layer_inspected\": True, \"defects\": []},\n",
    "    resource_requirements={\"equipment\": 1, \"material\": 25}\n",
    ")\n",
    "\n",
    "handle_defects = PlanStep(\n",
    "    name=\"handle_defects\",\n",
    "    description=\"Handle any defects\",\n",
    "    handler=lambda state: {\"defects_handled\": True},\n",
    "    resource_requirements={\"equipment\": 1, \"material\": 100}\n",
    ")\n",
    "\n",
    "# Add steps to plan\n",
    "plan.add_step(prepare_wafer)\n",
    "plan.add_step(deposit_layer)\n",
    "plan.add_step(pattern_layer)\n",
    "plan.add_step(etch_layer)\n",
    "plan.add_step(inspect_layer)\n",
    "plan.add_step(handle_defects)\n",
    "\n",
    "# Connect steps with conditional dependencies\n",
    "plan.add_edge(PlanEdge(prepare_wafer, deposit_layer))\n",
    "plan.add_edge(PlanEdge(deposit_layer, pattern_layer))\n",
    "plan.add_edge(PlanEdge(pattern_layer, etch_layer))\n",
    "plan.add_edge(PlanEdge(etch_layer, inspect_layer))\n",
    "plan.add_edge(PlanEdge(inspect_layer, handle_defects, condition=lambda state: len(state.get(\"defects\", [])) > 0))\n",
    "\n",
    "# Execute plan with resource-aware strategy\n",
    "executor = PlanExecutor(strategy=strategy)\n",
    "result = executor.execute(plan)\n",
    "print(f\"Manufacturing plan result: {result}\")"
   ]
  },
  {
   "cell_type": "markdown",
   "metadata": {},
   "source": "## Next Steps\n\nIn this tutorial, we explored advanced planning strategies in OpenDXA, including:\n1. Hierarchical planning for complex tasks\n2. Dynamic planning for adaptive execution\n3. Resource-aware planning for optimization\n4. A comprehensive real-world example\n\nIn the next tutorial, we'll explore Advanced Reasoning strategies.",
   "outputs": []
  }
 ],
 "metadata": {
  "kernelspec": {
   "display_name": "Python 3",
   "language": "python",
   "name": "python3"
  }
 },
 "nbformat": 4,
 "nbformat_minor": 4
}