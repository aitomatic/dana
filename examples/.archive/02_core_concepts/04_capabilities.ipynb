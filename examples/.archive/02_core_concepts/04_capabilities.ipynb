{
 "cells": [
  {
   "cell_type": "markdown",
   "metadata": {},
   "source": "# Capabilities in Dana\n\nThis tutorial covers the capabilities system in Dana, which provides a way to define and manage agent capabilities within the planning and reasoning layers.\n\n## Learning Objectives\n\nBy the end of this tutorial, you will understand:\n\n1. How to define agent capabilities\n2. How to create custom capabilities\n3. How to compose capabilities\n4. How to manage capability discovery and registration\n5. How to version and update capabilities\n6. How to test and validate capabilities\n\n## Prerequisites\n\n- Basic understanding of Dana's 2-layer architecture (planning and reasoning)\n- Familiarity with Python classes and inheritance\n- Understanding of basic resource management concepts\n\n## 1. Understanding Capabilities\n\nCapabilities in Dana are modular components that define what an agent can do. They can be:\n\n1. **Basic Capabilities**: Simple, single-function capabilities\n2. **Composite Capabilities**: Combinations of multiple capabilities\n3. **Domain-Specific Capabilities**: Specialized for particular domains\n\nCapabilities are used by both the planning layer (to determine what can be done) and the reasoning layer (to implement how it's done).\n\nLet's start by creating some basic capabilities:"
  },
  {
   "cell_type": "code",
   "metadata": {},
   "source": "from dana.agent.capability import BaseCapability\nfrom typing import Dict, Any, Optional\n\nclass DataAnalysisCapability(BaseCapability):\n    \"\"\"Example capability for data analysis.\"\"\"\n    def __init__(self, name: str = \"data_analysis\"):\n        super().__init__(name)\n        self.description = \"Analyzes data using various statistical methods\"\n        self.version = \"1.0.0\"\n        \n    async def execute(self, data: Dict[str, Any]) -> Dict[str, Any]:\n        \"\"\"Execute data analysis.\"\"\"\n        # Example implementation\n        return {\n            \"mean\": sum(data.get(\"values\", [])) / len(data.get(\"values\", [])),\n            \"count\": len(data.get(\"values\", []))\n        }\n\nclass VisualizationCapability(BaseCapability):\n    \"\"\"Example capability for data visualization.\"\"\"\n    def __init__(self, name: str = \"visualization\"):\n        super().__init__(name)\n        self.description = \"Creates visualizations from data\"\n        self.version = \"1.0.0\"\n        \n    async def execute(self, data: Dict[str, Any]) -> Dict[str, Any]:\n        \"\"\"Create visualization.\"\"\"\n        # Example implementation\n        return {\n            \"plot_type\": data.get(\"plot_type\", \"line\"),\n            \"data_points\": len(data.get(\"values\", []))\n        }"
  },
  {
   "cell_type": "markdown",
   "metadata": {},
   "source": "## 2. Creating Custom Capabilities\n\nLet's create a more complex capability that combines data analysis and visualization:"
  },
  {
   "cell_type": "code",
   "metadata": {},
   "source": "class DataAnalysisAndVisualizationCapability(BaseCapability):\n    \"\"\"Composite capability combining data analysis and visualization.\"\"\"\n    def __init__(self, name: str = \"data_analysis_and_visualization\"):\n        super().__init__(name)\n        self.description = \"Analyzes data and creates visualizations\"\n        self.version = \"1.0.0\"\n        self.analysis_capability = DataAnalysisCapability()\n        self.visualization_capability = VisualizationCapability()\n        \n    async def execute(self, data: Dict[str, Any]) -> Dict[str, Any]:\n        \"\"\"Execute data analysis and create visualization.\"\"\"\n        # First analyze the data\n        analysis_result = await self.analysis_capability.execute(data)\n        \n        # Then create visualization\n        visualization_data = {\n            \"values\": data.get(\"values\", []),\n            \"plot_type\": data.get(\"plot_type\", \"line\"),\n            \"analysis\": analysis_result\n        }\n        visualization_result = await self.visualization_capability.execute(visualization_data)\n        \n        return {\n            \"analysis\": analysis_result,\n            \"visualization\": visualization_result\n        }"
  },
  {
   "cell_type": "markdown",
   "metadata": {},
   "source": "## 3. Capability Discovery and Registration\n\nCapabilities need to be registered with the execution context to be used by the planning and reasoning layers. Let's see how this works:"
  },
  {
   "cell_type": "code",
   "metadata": {},
   "source": "from dana.execution import ExecutionContext\n\n# Create capabilities\nanalysis_capability = DataAnalysisCapability()\nvisualization_capability = VisualizationCapability()\ncomposite_capability = DataAnalysisAndVisualizationCapability()\n\n# Create execution context\ncontext = ExecutionContext()\n\n# Register capabilities\ncontext.register_capability(analysis_capability)\ncontext.register_capability(visualization_capability)\ncontext.register_capability(composite_capability)\n\n# List registered capabilities\nprint(\"Registered Capabilities:\")\nfor capability in context.get_capabilities():\n    print(f\"- {capability.name} (v{capability.version}): {capability.description}\")"
  },
  {
   "cell_type": "markdown",
   "metadata": {},
   "source": "## 4. Using Capabilities in Planning and Reasoning\n\nLet's see how capabilities are used in both the planning and reasoning layers:"
  },
  {
   "cell_type": "code",
   "metadata": {},
   "source": "from dana.execution.planning import Plan\nfrom dana.execution.planning.plan_step import PlanStep\nfrom dana.execution.reasoning import ChainOfThoughtStrategy\n\n# Create a plan that uses our capabilities\nplan = Plan(\n    name=\"data_analysis_plan\",\n    description=\"Plan for analyzing and visualizing data\",\n    objective=\"Analyze and visualize manufacturing data\"\n)\n\n# Create plan steps that use our capabilities\nplan.add_step(PlanStep(\n    name=\"analyze_data\",\n    description=\"Analyze manufacturing data\",\n    capability=\"data_analysis\",\n    expected_duration=\"1 day\"\n))\n\nplan.add_step(PlanStep(\n    name=\"visualize_results\",\n    description=\"Create visualizations of analysis results\",\n    capability=\"visualization\",\n    expected_duration=\"1 day\"\n))\n\n# Create a reasoning strategy\nreasoning_strategy = ChainOfThoughtStrategy()\n\n# Execute the plan\nresult = context.execute_plan(plan, reasoning_strategy)\n\nprint(\"Plan Execution Result:\")\nprint(f\"- Status: {result.status}\")\nprint(f\"- Completed Steps: {result.completed_steps}\")\nprint(f\"- Total Duration: {result.total_duration}\")"
  },
  {
   "cell_type": "markdown",
   "metadata": {},
   "source": "## 5. Versioning and Updates\n\nCapabilities can be versioned and updated. Let's see how this works:"
  },
  {
   "cell_type": "code",
   "metadata": {},
   "source": "class UpdatedDataAnalysisCapability(DataAnalysisCapability):\n    \"\"\"Updated version of the data analysis capability.\"\"\"\n    def __init__(self, name: str = \"data_analysis\"):\n        super().__init__(name)\n        self.version = \"2.0.0\"\n        self.description = \"Enhanced data analysis with additional statistical methods\"\n        \n    async def execute(self, data: Dict[str, Any]) -> Dict[str, Any]:\n        \"\"\"Execute enhanced data analysis.\"\"\"\n        # Enhanced implementation\n        values = data.get(\"values\", [])\n        if not values:\n            return {\"error\": \"No data provided\"}\n            \n        mean = sum(values) / len(values)\n        variance = sum((x - mean) ** 2 for x in values) / len(values)\n        std_dev = variance ** 0.5\n        \n        return {\n            \"mean\": mean,\n            \"variance\": variance,\n            \"std_dev\": std_dev,\n            \"count\": len(values)\n        }\n\n# Create and register the updated capability\nupdated_capability = UpdatedDataAnalysisCapability()\ncontext.register_capability(updated_capability)\n\n# Check version compatibility\nprint(\"Capability Versions:\")\nfor capability in context.get_capabilities():\n    if capability.name == \"data_analysis\":\n        print(f\"- {capability.name}: v{capability.version}\")"
  },
  {
   "cell_type": "markdown",
   "metadata": {},
   "source": "## 6. Testing and Validation\n\nIt's important to test and validate capabilities. Let's see how to do this:"
  },
  {
   "cell_type": "code",
   "metadata": {},
   "source": "import pytest\n\n# Test data\nTEST_DATA = {\n    \"values\": [1, 2, 3, 4, 5],\n    \"plot_type\": \"line\"\n}\n\n# Test the data analysis capability\nasync def test_data_analysis_capability():\n    capability = DataAnalysisCapability()\n    result = await capability.execute(TEST_DATA)\n    \n    assert \"mean\" in result\n    assert \"count\" in result\n    assert result[\"count\"] == 5\n    assert result[\"mean\"] == 3.0\n\n# Test the visualization capability\nasync def test_visualization_capability():\n    capability = VisualizationCapability()\n    result = await capability.execute(TEST_DATA)\n    \n    assert \"plot_type\" in result\n    assert \"data_points\" in result\n    assert result[\"plot_type\"] == \"line\"\n    assert result[\"data_points\"] == 5\n\n# Test the composite capability\nasync def test_composite_capability():\n    capability = DataAnalysisAndVisualizationCapability()\n    result = await capability.execute(TEST_DATA)\n    \n    assert \"analysis\" in result\n    assert \"visualization\" in result\n    assert result[\"analysis\"][\"mean\"] == 3.0\n    assert result[\"visualization\"][\"plot_type\"] == \"line\"\n\n# Run the tests\nif __name__ == \"__main__\":\n    pytest.main([__file__])"
  },
  {
   "cell_type": "markdown",
   "metadata": {},
   "source": "## Next Steps\n\nIn this tutorial, we've covered:\n\n1. Understanding capabilities in Dana\n2. Creating custom capabilities\n3. Composing capabilities\n4. Managing capability discovery and registration\n5. Versioning and updating capabilities\n6. Testing and validating capabilities\n\nIn the next tutorial, we'll explore the resources system in Dana, which provides access to various tools and services that capabilities can use."
  }
 ],
 "metadata": {
  "kernelspec": {
   "display_name": "Python 3",
   "language": "python",
   "name": "python3"
  },
  "language_info": {
   "codemirror_mode": {
    "name": "ipython",
    "version": 3
   },
   "file_extension": ".py",
   "mimetype": "text/x-python",
   "name": "python",
   "nbconvert_exporter": "python",
   "pygments_lexer": "ipython3",
   "version": "3.8.0"
  }
 },
 "nbformat": 4,
 "nbformat_minor": 4
}
