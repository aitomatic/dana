{
 "cells": [
  {
   "cell_type": "markdown",
   "metadata": {},
   "source": "# MCPResource in Dana\n\nThis tutorial covers the Model Context Protocol (MCP) resource in Dana, which provides a standardized way to integrate external services and tools into your agents. MCP resources are particularly useful in both the planning and reasoning layers for interacting with external systems.\n\n## Learning Objectives\n\nBy the end of this tutorial, you will understand:\n\n1. What MCP is and how it works in the 2-layer architecture\n2. How to create and use MCP resources\n3. How to work with different transport types (STDIO and HTTP)\n4. How to discover and use MCP tools\n5. Best practices for MCP resource usage in planning and reasoning\n\n## Prerequisites\n\n- Understanding of Dana's 2-layer architecture\n- Familiarity with resource management in Dana\n- Basic knowledge of HTTP and STDIO communication\n\n## 1. Understanding MCP in the 2-Layer Architecture\n\nMCP (Model Context Protocol) provides a standardized way to integrate external services into both the planning and reasoning layers. It allows:\n\n- Planning layer to discover and plan using external tools\n- Reasoning layer to execute and interact with external services\n- Standardized communication between layers and external systems\n\nLet's start with a basic example:"
  },
  {
   "cell_type": "code",
   "metadata": {},
   "source": "from dana import MCPResource, ExecutionContext, Plan, PlanStep, ChainOfThoughtStrategy\n\n# Create an MCP resource\nmcp_resource = MCPResource(\n    name=\"example_mcp\",\n    description=\"Example MCP resource for demonstration\",\n    transport_type=\"http\",  # or \"stdio\"\n    endpoint=\"http://localhost:8000\"  # for HTTP transport\n)\n\n# Create execution context\ncontext = ExecutionContext()\n\n# Register the MCP resource\ncontext.register_resource(mcp_resource)\n\n# Create a plan that uses the MCP resource\nplan = Plan(\n    name=\"mcp_plan\",\n    description=\"Plan using MCP resource\",\n    objective=\"Execute operations using MCP resource\"\n)\n\n# Add plan steps that use the MCP resource\nplan.add_step(PlanStep(\n    name=\"discover_tools\",\n    description=\"Discover available MCP tools\",\n    tool=\"mcp_discover\",\n    tool_params={\"resource\": \"example_mcp\"}\n))\n\n# Create reasoning strategy\nreasoning_strategy = ChainOfThoughtStrategy()\n\n# Execute the plan\nresult = context.execute_plan(plan, reasoning_strategy)\n\nprint(\"Plan Execution Result:\")\nprint(f\"- Status: {result.status}\")\nprint(f\"- Completed Steps: {result.completed_steps}\")\nprint(f\"- Total Duration: {result.total_duration}\")"
  },
  {
   "cell_type": "markdown",
   "metadata": {},
   "source": "## 2. Working with Different Transport Types\n\nMCP supports two main transport types: HTTP and STDIO. Let's explore both:"
  },
  {
   "cell_type": "code",
   "metadata": {},
   "source": "from dana import HTTPTransport, STDIOTransport\n\n# Create HTTP transport MCP resource\nhttp_mcp = MCPResource(\n    name=\"http_mcp\",\n    description=\"MCP resource using HTTP transport\",\n    transport_type=\"http\",\n    endpoint=\"http://localhost:8000\",\n    transport=HTTPTransport(\n        base_url=\"http://localhost:8000\",\n        timeout=30,\n        retry_count=3\n    )\n)\n\n# Create STDIO transport MCP resource\nstdio_mcp = MCPResource(\n    name=\"stdio_mcp\",\n    description=\"MCP resource using STDIO transport\",\n    transport_type=\"stdio\",\n    transport=STDIOTransport(\n        command=[\"python\", \"mcp_service.py\"],\n        working_dir=\"./services\"\n    )\n)\n\n# Example of using both transports in a plan\nplan = Plan(\n    name=\"multi_transport_plan\",\n    description=\"Plan using multiple transport types\",\n    objective=\"Execute operations using different MCP transports\"\n)\n\n# Add steps for HTTP transport\nplan.add_step(PlanStep(\n    name=\"http_operation\",\n    description=\"Execute HTTP MCP operation\",\n    tool=\"mcp_execute\",\n    tool_params={\n        \"resource\": \"http_mcp\",\n        \"operation\": \"analyze_data\",\n        \"params\": {\"data\": [1, 2, 3, 4, 5]}\n    }\n))\n\n# Add steps for STDIO transport\nplan.add_step(PlanStep(\n    name=\"stdio_operation\",\n    description=\"Execute STDIO MCP operation\",\n    tool=\"mcp_execute\",\n    tool_params={\n        \"resource\": \"stdio_mcp\",\n        \"operation\": \"process_data\",\n        \"params\": {\"input\": \"test_data\"}\n    }\n))"
  },
  {
   "cell_type": "markdown",
   "metadata": {},
   "source": "## 3. Tool Discovery and Usage\n\nMCP resources can discover and use tools dynamically. Let's see how:"
  },
  {
   "cell_type": "code",
   "metadata": {},
   "source": "from dana import ToolDiscovery\n\n# Create a tool discovery instance\ndiscovery = ToolDiscovery()\n\n# Discover tools from an MCP resource\ntools = discovery.discover_tools(http_mcp)\n\nprint(\"Discovered Tools:\")\nfor tool in tools:\n    print(f\"- {tool['name']}: {tool['description']}\")\n    print(f\"  Parameters: {tool['parameters']}\")\n\n# Use discovered tools in a plan\nplan = Plan(\n    name=\"discovered_tools_plan\",\n    description=\"Plan using discovered tools\",\n    objective=\"Execute operations using discovered MCP tools\"\n)\n\nfor tool in tools:\n    plan.add_step(PlanStep(\n        name=f\"use_{tool['name']}\",\n        description=f\"Use discovered tool {tool['name']}\",\n        tool=\"mcp_execute\",\n        tool_params={\n            \"resource\": \"http_mcp\",\n            \"operation\": tool['name'],\n            \"params\": {}\n        }\n    ))"
  },
  {
   "cell_type": "markdown",
   "metadata": {},
   "source": "## 4. Error Handling and Best Practices\n\nLet's look at error handling and best practices for MCP resources:"
  },
  {
   "cell_type": "code",
   "metadata": {},
   "source": "from dana import MCPError\n\nclass RobustMCPResource(MCPResource):\n    \"\"\"Example of a robust MCP resource implementation.\"\"\"\n    \n    def __init__(self, *args, **kwargs):\n        super().__init__(*args, **kwargs)\n        self._retry_count = kwargs.get('retry_count', 3)\n        self._timeout = kwargs.get('timeout', 30)\n    \n    async def execute_operation(self, operation: str, params: dict) -> dict:\n        \"\"\"Execute an MCP operation with robust error handling.\"\"\"\n        try:\n            # Validate operation\n            if not self._is_valid_operation(operation):\n                raise MCPError(f\"Invalid operation: {operation}\")\n                \n            # Validate parameters\n            self._validate_params(operation, params)\n            \n            # Execute with retries\n            for attempt in range(self._retry_count):\n                try:\n                    result = await self._execute_with_timeout(operation, params)\n                    return result\n                except TimeoutError:\n                    if attempt == self._retry_count - 1:\n                        raise MCPError(f\"Operation timed out after {self._retry_count} attempts\")\n                    continue\n                except Exception as e:\n                    if attempt == self._retry_count - 1:\n                        raise MCPError(f\"Operation failed: {str(e)}\")\n                    continue\n                    \n        except MCPError as e:\n            # Log error and re-raise\n            self._log_error(f\"MCP Error: {str(e)}\")\n            raise\n        except Exception as e:\n            # Handle unexpected errors\n            self._log_error(f\"Unexpected error: {str(e)}\")\n            raise MCPError(f\"Unexpected error: {str(e)}\")\n    \n    def _is_valid_operation(self, operation: str) -> bool:\n        \"\"\"Check if operation is valid.\"\"\"\n        return operation in self._get_available_operations()\n    \n    def _validate_params(self, operation: str, params: dict) -> None:\n        \"\"\"Validate operation parameters.\"\"\"\n        required_params = self._get_required_params(operation)\n        for param in required_params:\n            if param not in params:\n                raise MCPError(f\"Missing required parameter: {param}\")\n    \n    def _log_error(self, message: str) -> None:\n        \"\"\"Log error message.\"\"\"\n        print(f\"[ERROR] {message}\")"
  },
  {
   "cell_type": "markdown",
   "metadata": {},
   "source": "## 5. Testing MCP Resources\n\nLet's see how to test MCP resources:"
  },
  {
   "cell_type": "code",
   "metadata": {},
   "source": "import pytest\n\n# Test data\nTEST_OPERATION = \"test_operation\"\nTEST_PARAMS = {\"param1\": \"value1\", \"param2\": \"value2\"}\n\n# Test the MCP resource\nasync def test_mcp_resource():\n    resource = RobustMCPResource(\n        name=\"test_mcp\",\n        description=\"Test MCP resource\",\n        transport_type=\"http\",\n        endpoint=\"http://localhost:8000\",\n        retry_count=2,\n        timeout=10\n    )\n    \n    # Test valid operation\n    result = await resource.execute_operation(TEST_OPERATION, TEST_PARAMS)\n    assert \"result\" in result\n    \n    # Test invalid operation\n    with pytest.raises(MCPError):\n        await resource.execute_operation(\"invalid_operation\", {})\n        \n    # Test missing parameters\n    with pytest.raises(MCPError):\n        await resource.execute_operation(TEST_OPERATION, {})\n\n# Run the tests\nif __name__ == \"__main__\":\n    pytest.main([__file__])"
  },
  {
   "cell_type": "markdown",
   "metadata": {},
   "source": "## Next Steps\n\nIn this tutorial, we've covered:\n\n1. Understanding MCP in the 2-layer architecture\n2. Working with different transport types\n3. Tool discovery and usage\n4. Error handling and best practices\n5. Testing MCP resources\n\nIn the next tutorial, we'll explore the MCP (Model Control Protocol) resource in more detail, focusing on advanced features and integration patterns."
  }
 ],
 "metadata": {
  "kernelspec": {
   "display_name": "Python 3",
   "language": "python",
   "name": "python3"
  },
  "language_info": {
   "codemirror_mode": {
    "name": "ipython",
    "version": 3
   },
   "file_extension": ".py",
   "mimetype": "text/x-python",
   "name": "python",
   "nbconvert_exporter": "python",
   "pygments_lexer": "ipython3",
   "version": "3.8.0"
  }
 },
 "nbformat": 4,
 "nbformat_minor": 4
}
