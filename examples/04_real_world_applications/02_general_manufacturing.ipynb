{
 "cells": [
  {
   "cell_type": "markdown",
   "metadata": {},
   "source": [
    "# General Manufacturing with Dana\n",
    "\n",
    "This tutorial demonstrates how to use Dana's 2-layer architecture for general manufacturing applications, focusing on production line optimization, quality control, and supply chain management.\n",
    "\n",
    "## Prerequisites\n",
    "\n",
    "- Understanding of Dana's 2-layer architecture (Planning and Reasoning layers)\n",
    "- Familiarity with manufacturing concepts\n",
    "- Python 3.8 or higher\n",
    "- Dana package installed\n",
    "\n",
    "## Learning Objectives\n",
    "\n",
    "By the end of this tutorial, you will be able to:\n",
    "\n",
    "1. Create specialized planning strategies for general manufacturing\n",
    "2. Implement custom reasoning strategies for production optimization\n",
    "3. Design resource-aware execution strategies\n",
    "4. Integrate both layers for comprehensive manufacturing solutions"
   ]
  },
  {
   "cell_type": "markdown",
   "metadata": {},
   "source": [
    "## 1. Setting Up the Environment\n",
    "\n",
    "First, let's import the necessary components from Dana."
   ]
  },
  {
   "cell_type": "code",
   "execution_count": null,
   "metadata": {},
   "outputs": [],
   "source": [
    "from dana import BaseResource, ExecutionContext, Plan, ResourceSelector\n",
    "\n",
    "# Create an execution context\n",
    "context = ExecutionContext()"
   ]
  },
  {
   "cell_type": "markdown",
   "metadata": {},
   "source": [
    "## 2. Creating Manufacturing Resources\n",
    "\n",
    "Let's create specialized resources for general manufacturing:"
   ]
  },
  {
   "cell_type": "code",
   "execution_count": null,
   "metadata": {},
   "outputs": [],
   "source": [
    "class ProductionLineResource(BaseResource):\n",
    "    \"\"\"Resource for managing production lines.\"\"\"\n",
    "\n",
    "    def __init__(self):\n",
    "        super().__init__(\n",
    "            name=\"production_line\", description=\"Resource for managing production lines\", capabilities=[\"monitor\", \"optimize\", \"control\"]\n",
    "        )\n",
    "\n",
    "    async def monitor(self, line_id: str) -> dict:\n",
    "        \"\"\"Monitor a production line.\"\"\"\n",
    "        return {\"line_id\": line_id, \"status\": \"running\", \"metrics\": {\"throughput\": 100, \"efficiency\": 0.85, \"quality_rate\": 0.98}}\n",
    "\n",
    "    async def optimize(self, line_data: dict) -> dict:\n",
    "        \"\"\"Optimize production line performance.\"\"\"\n",
    "        return {\"optimization\": {\"status\": \"optimized\", \"recommendations\": [\"Adjust line speed\", \"Reallocate resources\"]}}\n",
    "\n",
    "    async def control(self, command: str) -> dict:\n",
    "        \"\"\"Control production line operations.\"\"\"\n",
    "        return {\"control\": {\"command\": command, \"status\": \"executed\", \"result\": \"success\"}}\n",
    "\n",
    "\n",
    "class QualityControlResource(BaseResource):\n",
    "    \"\"\"Resource for quality control operations.\"\"\"\n",
    "\n",
    "    def __init__(self):\n",
    "        super().__init__(\n",
    "            name=\"quality_control\", description=\"Resource for quality control operations\", capabilities=[\"inspect\", \"analyze\", \"report\"]\n",
    "        )\n",
    "\n",
    "    async def inspect(self, product_id: str) -> dict:\n",
    "        \"\"\"Inspect a product for quality.\"\"\"\n",
    "        return {\"product_id\": product_id, \"inspection\": {\"status\": \"passed\", \"defects\": [], \"score\": 0.95}}\n",
    "\n",
    "    async def analyze(self, quality_data: dict) -> dict:\n",
    "        \"\"\"Analyze quality control data.\"\"\"\n",
    "        return {\"analysis\": {\"defect_rate\": 0.02, \"trends\": [], \"recommendations\": []}}\n",
    "\n",
    "    async def report(self, period: str) -> dict:\n",
    "        \"\"\"Generate quality control report.\"\"\"\n",
    "        return {\"report\": {\"period\": period, \"summary\": {\"total_inspections\": 1000, \"defect_rate\": 0.02, \"improvements\": []}}}\n",
    "\n",
    "\n",
    "# Create and register resources\n",
    "production_line = ProductionLineResource()\n",
    "quality_control = QualityControlResource()\n",
    "\n",
    "context.register_resource(production_line)\n",
    "context.register_resource(quality_control)"
   ]
  },
  {
   "cell_type": "markdown",
   "metadata": {},
   "source": [
    "## 3. Creating Planning Strategies\n",
    "\n",
    "Let's create specialized planning strategies for general manufacturing:"
   ]
  },
  {
   "cell_type": "code",
   "execution_count": null,
   "metadata": {},
   "outputs": [],
   "source": [
    "class ManufacturingPlanningStrategy:\n",
    "    \"\"\"Planning strategy for general manufacturing.\"\"\"\n",
    "\n",
    "    def __init__(self, context: ExecutionContext):\n",
    "        this.context = context\n",
    "        this.resource_selector = ResourceSelector(context)\n",
    "\n",
    "    async def plan(self, task: str) -> Plan:\n",
    "        \"\"\"Create manufacturing plan.\"\"\"\n",
    "        plan = Plan(name=\"manufacturing_plan\", description=f\"Plan for task: {task}\", objective=task)\n",
    "\n",
    "        # Add production line steps\n",
    "        plan.add_step(\n",
    "            PlanStep(name=\"monitor_production\", description=\"Monitor production line\", tool=\"monitor\", tool_params={\"line_id\": \"line_001\"})\n",
    "        )\n",
    "\n",
    "        # Add quality control steps\n",
    "        plan.add_step(\n",
    "            PlanStep(\n",
    "                name=\"quality_inspection\",\n",
    "                description=\"Perform quality inspection\",\n",
    "                tool=\"inspect\",\n",
    "                tool_params={\"product_id\": \"product_001\"},\n",
    "            )\n",
    "        )\n",
    "\n",
    "        return plan"
   ]
  },
  {
   "cell_type": "markdown",
   "metadata": {},
   "source": [
    "## 4. Creating Reasoning Strategies\n",
    "\n",
    "Let's create specialized reasoning strategies for general manufacturing:"
   ]
  },
  {
   "cell_type": "code",
   "execution_count": null,
   "metadata": {},
   "outputs": [],
   "source": [
    "class ManufacturingReasoningStrategy:\n",
    "    \"\"\"Reasoning strategy for general manufacturing.\"\"\"\n",
    "\n",
    "    def __init__(self, context: ExecutionContext):\n",
    "        this.context = context\n",
    "        this.resource_selector = ResourceSelector(context)\n",
    "\n",
    "    async def reason(self, plan: Plan) -> dict:\n",
    "        \"\"\"Execute manufacturing plan.\"\"\"\n",
    "        results = {}\n",
    "\n",
    "        # Execute each step\n",
    "        for step in plan.steps:\n",
    "            # Select appropriate resource\n",
    "            resource = await this.resource_selector.select_resource({\"operation\": step.tool, \"parameters\": step.tool_params})\n",
    "\n",
    "            # Execute step\n",
    "            result = await resource.execute(step.tool, step.tool_params)\n",
    "            results[step.name] = result\n",
    "\n",
    "            # Handle quality issues\n",
    "            if \"inspection\" in result and result[\"inspection\"][\"status\"] != \"passed\":\n",
    "                await this._handle_quality_issue(result[\"inspection\"])\n",
    "\n",
    "        return results\n",
    "\n",
    "    async def _handle_quality_issue(self, inspection: dict) -> None:\n",
    "        \"\"\"Handle quality control issues.\"\"\"\n",
    "        # Example implementation\n",
    "        print(f\"Quality issue detected: {inspection}\")"
   ]
  },
  {
   "cell_type": "markdown",
   "metadata": {},
   "source": [
    "## 5. Putting It All Together\n",
    "\n",
    "Let's create a complete manufacturing solution:"
   ]
  },
  {
   "cell_type": "code",
   "execution_count": null,
   "metadata": {},
   "outputs": [],
   "source": [
    "# Create planning and reasoning strategies\n",
    "planning_strategy = ManufacturingPlanningStrategy(context)\n",
    "reasoning_strategy = ManufacturingReasoningStrategy(context)\n",
    "\n",
    "# Create a plan for production optimization\n",
    "plan = await planning_strategy.plan(\"Optimize production line\")\n",
    "\n",
    "# Execute the plan\n",
    "results = await reasoning_strategy.reason(plan)\n",
    "\n",
    "# Print results\n",
    "print(\"Manufacturing Process Results:\")\n",
    "for step_name, result in results.items():\n",
    "    print(f\"- {step_name}: {result}\")"
   ]
  },
  {
   "cell_type": "markdown",
   "metadata": {},
   "source": [
    "## 6. Testing the Solution\n",
    "\n",
    "Let's test our manufacturing solution:"
   ]
  },
  {
   "cell_type": "code",
   "execution_count": null,
   "metadata": {},
   "outputs": [],
   "source": [
    "import pytest\n",
    "\n",
    "# Test data\n",
    "TEST_LINE_ID = \"line_001\"\n",
    "TEST_PRODUCT_ID = \"product_001\"\n",
    "\n",
    "\n",
    "# Test production line monitoring\n",
    "async def test_production_monitoring():\n",
    "    result = await production_line.monitor(TEST_LINE_ID)\n",
    "    assert \"line_id\" in result\n",
    "    assert \"status\" in result\n",
    "    assert \"metrics\" in result\n",
    "\n",
    "\n",
    "# Test quality control\n",
    "async def test_quality_control():\n",
    "    result = await quality_control.inspect(TEST_PRODUCT_ID)\n",
    "    assert \"product_id\" in result\n",
    "    assert \"inspection\" in result\n",
    "\n",
    "    analysis = await quality_control.analyze(result)\n",
    "    assert \"analysis\" in analysis\n",
    "\n",
    "    report = await quality_control.report(\"daily\")\n",
    "    assert \"report\" in report\n",
    "\n",
    "\n",
    "# Test planning strategy\n",
    "async def test_planning_strategy():\n",
    "    strategy = ManufacturingPlanningStrategy(context)\n",
    "    plan = await strategy.plan(\"Test manufacturing task\")\n",
    "    assert plan.name == \"manufacturing_plan\"\n",
    "    assert len(plan.steps) > 0\n",
    "\n",
    "\n",
    "# Test reasoning strategy\n",
    "async def test_reasoning_strategy():\n",
    "    strategy = ManufacturingReasoningStrategy(context)\n",
    "    plan = Plan(name=\"test_plan\", description=\"Test plan\", objective=\"Test objective\")\n",
    "\n",
    "    plan.add_step(PlanStep(name=\"test_step\", description=\"Test step\", tool=\"monitor\", tool_params={\"line_id\": TEST_LINE_ID}))\n",
    "\n",
    "    results = await strategy.reason(plan)\n",
    "    assert \"test_step\" in results\n",
    "\n",
    "\n",
    "# Run the tests\n",
    "if __name__ == \"__main__\":\n",
    "    pytest.main([__file__])"
   ]
  },
  {
   "cell_type": "markdown",
   "metadata": {},
   "source": [
    "## Next Steps\n",
    "\n",
    "In this tutorial, we've covered:\n",
    "\n",
    "1. Setting up the environment for general manufacturing\n",
    "2. Creating manufacturing resources\n",
    "3. Creating planning strategies\n",
    "4. Creating reasoning strategies\n",
    "5. Putting it all together\n",
    "6. Testing the solution\n",
    "\n",
    "In the next tutorial, we'll explore financial applications with Dana."
   ]
  }
 ],
 "metadata": {
  "kernelspec": {
   "display_name": "Python 3",
   "language": "python",
   "name": "python3"
  },
  "language_info": {
   "codemirror_mode": {
    "name": "ipython",
    "version": 3
   },
   "file_extension": ".py",
   "mimetype": "text/x-python",
   "name": "python",
   "nbconvert_exporter": "python",
   "pygments_lexer": "ipython3",
   "version": "3.8.0"
  }
 },
 "nbformat": 4,
 "nbformat_minor": 4
}
