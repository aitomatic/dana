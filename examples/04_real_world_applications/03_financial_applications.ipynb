{
 "cells": [
  {
   "cell_type": "markdown",
   "metadata": {},
   "source": "# Financial Applications with OpenDXA\n\nThis tutorial demonstrates how to use OpenDXA's 2-layer architecture for financial applications, focusing on risk assessment, portfolio optimization, and market analysis.\n\n## Prerequisites\n\n- Understanding of OpenDXA's 2-layer architecture (Planning and Reasoning layers)\n- Familiarity with financial concepts\n- Python 3.8 or higher\n- OpenDXA package installed\n\n## Learning Objectives\n\nBy the end of this tutorial, you will be able to:\n\n1. Create specialized planning strategies for financial analysis\n2. Implement custom reasoning strategies for risk assessment\n3. Design resource-aware execution strategies\n4. Integrate both layers for comprehensive financial solutions"
  },
  {
   "cell_type": "markdown",
   "metadata": {},
   "source": "## 1. Setting Up the Environment\n\nFirst, let's import the necessary components from OpenDXA."
  },
  {
   "cell_type": "code",
   "metadata": {},
   "source": "from opendxa import Plan, PlanFactory, PlanExecutor\nfrom opendxa import Reasoning, ReasoningFactory, ReasoningExecutor\nfrom opendxa import ExecutionContext, BaseResource, ResourceSelector\n\n# Create an execution context\ncontext = ExecutionContext()"
  },
  {
   "cell_type": "markdown",
   "metadata": {},
   "source": "## 2. Creating Financial Resources\n\nLet's create specialized resources for financial applications:"
  },
  {
   "cell_type": "code",
   "metadata": {},
   "source": "class RiskAssessmentResource(BaseResource):\n    \"\"\"Resource for risk assessment operations.\"\"\"\n    \n    def __init__(self):\n        super().__init__(\n            name=\"risk_assessment\",\n            description=\"Resource for risk assessment operations\",\n            capabilities=[\"assess\", \"analyze\", \"report\"]\n        )\n    \n    async def assess(self, investment_data: dict) -> dict:\n        \"\"\"Assess risk for an investment.\"\"\"\n        return {\n            \"investment_id\": investment_data.get(\"id\"),\n            \"assessment\": {\n                \"risk_score\": 0.75,\n                \"risk_factors\": [\n                    {\"factor\": \"Market Volatility\", \"severity\": \"HIGH\"},\n                    {\"factor\": \"Liquidity Risk\", \"severity\": \"MEDIUM\"}\n                ]\n            }\n        }\n    \n    async def analyze(self, risk_data: dict) -> dict:\n        \"\"\"Analyze risk assessment data.\"\"\"\n        return {\n            \"analysis\": {\n                \"trend\": \"increasing\",\n                \"recommendations\": [\n                    \"Diversify portfolio\",\n                    \"Increase hedging positions\"\n                ]\n            }\n        }\n    \n    async def report(self, period: str) -> dict:\n        \"\"\"Generate risk assessment report.\"\"\"\n        return {\n            \"report\": {\n                \"period\": period,\n                \"summary\": {\n                    \"total_assessments\": 100,\n                    \"average_risk\": 0.65,\n                    \"trends\": []\n                }\n            }\n        }\n\nclass PortfolioResource(BaseResource):\n    \"\"\"Resource for portfolio management.\"\"\"\n    \n    def __init__(self):\n        super().__init__(\n            name=\"portfolio\",\n            description=\"Resource for portfolio management\",\n            capabilities=[\"optimize\", \"rebalance\", \"analyze\"]\n        )\n    \n    async def optimize(self, portfolio_data: dict) -> dict:\n        \"\"\"Optimize portfolio allocation.\"\"\"\n        return {\n            \"portfolio_id\": portfolio_data.get(\"id\"),\n            \"optimization\": {\n                \"allocation\": {\n                    \"stocks\": 0.6,\n                    \"bonds\": 0.3,\n                    \"cash\": 0.1\n                },\n                \"expected_return\": 0.08,\n                \"risk_level\": 0.65\n            }\n        }\n    \n    async def rebalance(self, portfolio_data: dict) -> dict:\n        \"\"\"Rebalance portfolio.\"\"\"\n        return {\n            \"rebalancing\": {\n                \"status\": \"completed\",\n                \"changes\": [\n                    {\"asset\": \"stocks\", \"change\": 0.05},\n                    {\"asset\": \"bonds\", \"change\": -0.05}\n                ]\n            }\n        }\n    \n    async def analyze(self, portfolio_data: dict) -> dict:\n        \"\"\"Analyze portfolio performance.\"\"\"\n        return {\n            \"analysis\": {\n                \"performance\": 0.12,\n                \"benchmark\": 0.10,\n                \"risk_metrics\": {\n                    \"sharpe_ratio\": 1.5,\n                    \"beta\": 1.2\n                }\n            }\n        }\n\n# Create and register resources\nrisk_assessor = RiskAssessmentResource()\nportfolio_manager = PortfolioResource()\n\ncontext.register_resource(risk_assessor)\ncontext.register_resource(portfolio_manager)"
  },
  {
   "cell_type": "markdown",
   "metadata": {},
   "source": "## 3. Creating Planning Strategies\n\nLet's create specialized planning strategies for financial applications:"
  },
  {
   "cell_type": "code",
   "metadata": {},
   "source": "class FinancialPlanningStrategy:\n    \"\"\"Planning strategy for financial applications.\"\"\"\n    \n    def __init__(self, context: ExecutionContext):\n        this.context = context\n        this.resource_selector = ResourceSelector(context)\n    \n    async def plan(self, task: str) -> Plan:\n        \"\"\"Create financial plan.\"\"\"\n        plan = Plan(\n            name=\"financial_plan\",\n            description=f\"Plan for task: {task}\",\n            objective=task\n        )\n        \n        # Add risk assessment steps\n        plan.add_step(PlanStep(\n            name=\"assess_risk\",\n            description=\"Assess investment risk\",\n            tool=\"assess\",\n            tool_params={\"investment_data\": {\"id\": \"inv_001\"}}\n        ))\n        \n        # Add portfolio optimization steps\n        plan.add_step(PlanStep(\n            name=\"optimize_portfolio\",\n            description=\"Optimize portfolio allocation\",\n            tool=\"optimize\",\n            tool_params={\"portfolio_data\": {\"id\": \"port_001\"}}\n        ))\n        \n        return plan"
  },
  {
   "cell_type": "markdown",
   "metadata": {},
   "source": "## 4. Creating Reasoning Strategies\n\nLet's create specialized reasoning strategies for financial applications:"
  },
  {
   "cell_type": "code",
   "metadata": {},
   "source": "class FinancialReasoningStrategy:\n    \"\"\"Reasoning strategy for financial applications.\"\"\"\n    \n    def __init__(self, context: ExecutionContext):\n        this.context = context\n        this.resource_selector = ResourceSelector(context)\n    \n    async def reason(self, plan: Plan) -> dict:\n        \"\"\"Execute financial plan.\"\"\"\n        results = {}\n        \n        # Execute each step\n        for step in plan.steps:\n            # Select appropriate resource\n            resource = await this.resource_selector.select_resource({\n                \"operation\": step.tool,\n                \"parameters\": step.tool_params\n            })\n            \n            # Execute step\n            result = await resource.execute(step.tool, step.tool_params)\n            results[step.name] = result\n            \n            # Handle high-risk scenarios\n            if \"assessment\" in result and result[\"assessment\"][\"risk_score\"] > 0.7:\n                await this._handle_high_risk(result[\"assessment\"])\n        \n        return results\n    \n    async def _handle_high_risk(self, assessment: dict) -> None:\n        \"\"\"Handle high-risk scenarios.\"\"\"\n        # Example implementation\n        print(f\"High risk detected: {assessment}\")"
  },
  {
   "cell_type": "markdown",
   "metadata": {},
   "source": "## 5. Putting It All Together\n\nLet's create a complete financial solution:"
  },
  {
   "cell_type": "code",
   "metadata": {},
   "source": "# Create planning and reasoning strategies\nplanning_strategy = FinancialPlanningStrategy(context)\nreasoning_strategy = FinancialReasoningStrategy(context)\n\n# Create a plan for portfolio optimization\nplan = await planning_strategy.plan(\"Optimize investment portfolio\")\n\n# Execute the plan\nresults = await reasoning_strategy.reason(plan)\n\n# Print results\nprint(\"Financial Analysis Results:\")\nfor step_name, result in results.items():\n    print(f\"- {step_name}: {result}\")"
  },
  {
   "cell_type": "markdown",
   "metadata": {},
   "source": "## 6. Testing the Solution\n\nLet's test our financial solution:"
  },
  {
   "cell_type": "code",
   "metadata": {},
   "source": "import pytest\n\n# Test data\nTEST_INVESTMENT_ID = \"inv_001\"\nTEST_PORTFOLIO_ID = \"port_001\"\n\n# Test risk assessment\nasync def test_risk_assessment():\n    result = await risk_assessor.assess({\"id\": TEST_INVESTMENT_ID})\n    assert \"investment_id\" in result\n    assert \"assessment\" in result\n    \n    analysis = await risk_assessor.analyze(result)\n    assert \"analysis\" in analysis\n    \n    report = await risk_assessor.report(\"monthly\")\n    assert \"report\" in report\n\n# Test portfolio management\nasync def test_portfolio_management():\n    result = await portfolio_manager.optimize({\"id\": TEST_PORTFOLIO_ID})\n    assert \"portfolio_id\" in result\n    assert \"optimization\" in result\n    \n    rebalance = await portfolio_manager.rebalance({\"id\": TEST_PORTFOLIO_ID})\n    assert \"rebalancing\" in rebalance\n    \n    analysis = await portfolio_manager.analyze({\"id\": TEST_PORTFOLIO_ID})\n    assert \"analysis\" in analysis\n\n# Test planning strategy\nasync def test_planning_strategy():\n    strategy = FinancialPlanningStrategy(context)\n    plan = await strategy.plan(\"Test financial task\")\n    assert plan.name == \"financial_plan\"\n    assert len(plan.steps) > 0\n\n# Test reasoning strategy\nasync def test_reasoning_strategy():\n    strategy = FinancialReasoningStrategy(context)\n    plan = Plan(\n        name=\"test_plan\",\n        description=\"Test plan\",\n        objective=\"Test objective\"\n    )\n    \n    plan.add_step(PlanStep(\n        name=\"test_step\",\n        description=\"Test step\",\n        tool=\"assess\",\n        tool_params={\"investment_data\": {\"id\": TEST_INVESTMENT_ID}}\n    ))\n    \n    results = await strategy.reason(plan)\n    assert \"test_step\" in results\n\n# Run the tests\nif __name__ == \"__main__\":\n    pytest.main([__file__])"
  },
  {
   "cell_type": "markdown",
   "metadata": {},
   "source": "## Next Steps\n\nIn this tutorial, we've covered:\n\n1. Setting up the environment for financial applications\n2. Creating financial resources\n3. Creating planning strategies\n4. Creating reasoning strategies\n5. Putting it all together\n6. Testing the solution\n\nThis concludes our series of real-world application tutorials. You can now apply these concepts to build your own specialized applications using OpenDXA's 2-layer architecture."
  }
 ],
 "metadata": {
  "kernelspec": {
   "display_name": "Python 3",
   "language": "python",
   "name": "python3"
  },
  "language_info": {
   "codemirror_mode": {
    "name": "ipython",
    "version": 3
   },
   "file_extension": ".py",
   "mimetype": "text/x-python",
   "name": "python",
   "nbconvert_exporter": "python",
   "pygments_lexer": "ipython3",
   "version": "3.8.0"
  }
 },
 "nbformat": 4,
 "nbformat_minor": 4
}