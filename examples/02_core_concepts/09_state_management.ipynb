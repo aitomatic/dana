{
 "cells": [
  {
   "cell_type": "markdown",
   "metadata": {},
   "source": [
    "# State Management in OpenDXA\n",
    "\n",
    "This tutorial explores how state is managed within an OpenDXA agent during its execution lifecycle. Effective state management is crucial for maintaining context, sharing information between components, and enabling complex reasoning processes.\n",
    "\n",
    "## Prerequisites\n",
    "\n",
    "- Understanding of OpenDXA basics (from [Introduction to OpenDXA](../01_getting_started/01_introduction_to_dxa.ipynb))\n",
    "- Familiarity with Agent concepts ([Agent Basics](./01_agent_basics.ipynb) - *assuming this exists or will exist*)\n",
    "- OpenDXA package installed\n",
    "- Python 3.8 or higher"
   ]
  },
  {
   "cell_type": "markdown",
   "metadata": {},
   "source": [
    "## 1. Understanding the Agent State (Blackboard)\n",
    "\n",
    "Each OpenDXA Agent maintains an internal state, often referred to conceptually as a **Blackboard**. This blackboard acts as a central repository for information gathered, generated, or required during the agent's operation. It allows different parts of the agent (like the planning and reasoning layers, or various tools/capabilities) to communicate and share context.\n",
    "\n",
    "The state is typically accessed via the `agent.state` attribute (or a similar mechanism depending on the specific implementation)."
   ]
  },
  {
   "cell_type": "markdown",
   "metadata": {},
   "source": [
    "## 2. Private vs. Shared State (Conceptual)\n",
    "\n",
    "While the exact implementation might vary, it's useful to think of the state as having two conceptual parts:\n",
    "\n",
    "*   **Private Blackboard:** Contains information primarily internal to the agent's own reasoning process. This might include intermediate thoughts, detailed step breakdowns, or temporary variables.\n",
    "*   **Shared Blackboard:** Contains information intended to be accessible more broadly, perhaps across different agent components (like planning and reasoning outputs) or even potentially by other agents or external systems in more complex scenarios.\n",
    "\n",
    "The distinction helps manage the flow and scope of information within the agent architecture."
   ]
  },
  {
   "cell_type": "code",
   "execution_count": 1,
   "metadata": {},
   "outputs": [
    {
     "name": "stdout",
     "output_type": "stream",
     "text": [
      "Created agent: state_demo_agent\n",
      "Using state manager: AgentState\n",
      "Set 'user_request_id' to 'XYZ-12345'\n",
      "Retrieved value for 'user_request_id': XYZ-12345\n",
      "Value for 'non_existent_key': Not Found\n"
     ]
    }
   ],
   "source": [
    "# Import the necessary class\n",
    "from opendxa import Agent\n",
    "\n",
    "# Instantiate a simple agent\n",
    "agent = Agent(name=\"state_demo_agent\").initialize()\n",
    "print(f\"Created agent: {agent.name}\")\n",
    "\n",
    "# Example: Accessing and Modifying State\n",
    "try:\n",
    "    # Get the state manager object\n",
    "    agent_state = agent.state \n",
    "    print(f\"Using state manager: {type(agent_state).__name__}\")\n",
    "\n",
    "    # Setting a value\n",
    "    key_name = 'user_request_id'\n",
    "    value = 'XYZ-12345'\n",
    "    agent_state.set(key_name, value) \n",
    "    print(f\"Set '{key_name}' to '{value}'\")\n",
    "\n",
    "    # Getting a value\n",
    "    retrieved_value = agent_state.get(key_name)\n",
    "    print(f\"Retrieved value for '{key_name}': {retrieved_value}\")\n",
    "\n",
    "    # Getting a non-existent key (demonstrates default behavior)\n",
    "    non_existent_value = agent_state.get('non_existent_key', default='Not Found')\n",
    "    print(f\"Value for 'non_existent_key': {non_existent_value}\")\n",
    "\n",
    "except AttributeError as e:\n",
    "     # Catching AttributeError specifically in case agent.state or methods don't exist\n",
    "     print(f\"Error accessing state properties or methods: {e}\")\n",
    "except Exception as e:\n",
    "     # Catch any other unexpected errors during state operations\n",
    "     print(f\"An unexpected error occurred: {e}\")\n",
    "\n",
    "# Note: The exact methods (`set`, `get`) and the structure of `agent.state` \n",
    "# depend on the specific StateManager implementation used by the Agent.\n",
    "# By default, it uses a simple dictionary-based manager.\n",
    "# Consult the OpenDXA documentation for more advanced configurations."
   ]
  },
  {
   "cell_type": "markdown",
   "metadata": {},
   "source": [
    "## 3. Importance of State Management\n",
    "\n",
    "- **Context Preservation:** Allows the agent to remember information across multiple steps or turns.\n",
    "- **Component Communication:** Enables different layers (Planning, Reasoning) and tools to share data.\n",
    "- **Decision Making:** Provides the necessary information for the agent to make informed decisions.\n",
    "- **Debugging:** Examining the state can be crucial for understanding the agent's behavior."
   ]
  },
  {
   "cell_type": "markdown",
   "metadata": {},
   "source": [
    "## 4. Next Steps\n",
    "\n",
    "In this tutorial, we've covered:\n",
    "\n",
    "1. The concept of Agent State (Blackboard) in OpenDXA.\n",
    "2. The conceptual distinction between Private and Shared state.\n",
    "3. Basic examples of setting and retrieving state information.\n",
    "4. The importance of state management.\n",
    "\n",
    "Further exploration could involve:\n",
    "- Examining specific `StateManager` implementations in OpenDXA.\n",
    "- Understanding how state is used by the Planning and Reasoning layers ([Planning Layer](./01_planning_layer.ipynb), [Reasoning Layer](./02_reasoning_layer.ipynb)).\n",
    "- Exploring how Memories interact with state ([Memories](./04_memories.ipynb))."
   ]
  }
 ],
 "metadata": {
  "kernelspec": {
   "display_name": ".venv",
   "language": "python",
   "name": "python3"
  },
  "language_info": {
   "codemirror_mode": {
    "name": "ipython",
    "version": 3
   },
   "file_extension": ".py",
   "mimetype": "text/x-python",
   "name": "python",
   "nbconvert_exporter": "python",
   "pygments_lexer": "ipython3",
   "version": "3.12.7"
  }
 },
 "nbformat": 4,
 "nbformat_minor": 4
}
