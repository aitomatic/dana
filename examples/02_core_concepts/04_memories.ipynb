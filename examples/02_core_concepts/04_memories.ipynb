{
 "cells": [
  {
   "cell_type": "markdown",
   "metadata": {},
   "source": [
    "# Memory Subsystem in Dana\n",
    "\n",
    "This tutorial covers the Memory subsystem in Dana, which implements a sophisticated memory management system with decay mechanisms. We'll explore the different types of memory resources and how to use them effectively.\n",
    "\n",
    "## Prerequisites\n",
    "\n",
    "- Understanding of Dana basics (from [Introduction to Dana](../01_getting_started/01_introduction_to_dxa.ipynb))\n",
    "- Familiarity with agent configuration (from [Agent Configuration](../01_getting_started/03_agent_configuration.ipynb))\n",
    "- Dana package installed\n",
    "- Python 3.8 or higher"
   ]
  },
  {
   "cell_type": "markdown",
   "metadata": {},
   "source": [
    "## 1. Memory Types and Characteristics\n",
    "\n",
    "Dana provides three types of memory resources with different characteristics:"
   ]
  },
  {
   "cell_type": "code",
   "execution_count": null,
   "metadata": {},
   "outputs": [],
   "source": [
    "from dana import LTMemoryResource, PermMemoryResource, STMemoryResource\n",
    "\n",
    "# Create memory resources\n",
    "short_term = STMemoryResource(name=\"short_term_memory\", description=\"Memory for recent interactions\")\n",
    "\n",
    "long_term = LTMemoryResource(name=\"long_term_memory\", description=\"Memory for persistent knowledge\")\n",
    "\n",
    "permanent = PermMemoryResource(name=\"permanent_memory\", description=\"Memory for critical information\")\n",
    "\n",
    "# Print memory characteristics\n",
    "print(\"Short-Term Memory:\")\n",
    "print(f\"- Decay Rate: {short_term.decay_rate}\")\n",
    "print(f\"- Decay Interval: {short_term.decay_interval} seconds\")\n",
    "print(f\"- Half-Life: {short_term.half_life} days\")\n",
    "\n",
    "print(\"\\nLong-Term Memory:\")\n",
    "print(f\"- Decay Rate: {long_term.decay_rate}\")\n",
    "print(f\"- Decay Interval: {long_term.decay_interval} seconds\")\n",
    "print(f\"- Half-Life: {long_term.half_life} days\")\n",
    "\n",
    "print(\"\\nPermanent Memory:\")\n",
    "print(\"- No decay mechanism\")\n",
    "print(f\"- Decay Rate: {permanent.decay_rate}\")\n",
    "print(f\"- Decay Interval: {permanent.decay_interval} seconds\")\n",
    "print(f\"- Half-Life: {permanent.half_life} days\")"
   ]
  },
  {
   "cell_type": "markdown",
   "metadata": {},
   "source": [
    "## 2. Storing and Retrieving Memories\n",
    "\n",
    "Let's see how to store and retrieve memories with different importance levels."
   ]
  },
  {
   "cell_type": "code",
   "execution_count": null,
   "metadata": {},
   "outputs": [],
   "source": [
    "import asyncio\n",
    "\n",
    "\n",
    "async def demonstrate_memory_operations():\n",
    "    # Store memories with different importance levels\n",
    "    await short_term.store(\n",
    "        content=\"Recent manufacturing data\",\n",
    "        importance=0.5,  # Default importance for short-term\n",
    "    )\n",
    "\n",
    "    await long_term.store(\n",
    "        content=\"Process optimization techniques\",\n",
    "        importance=2.0,  # Default importance for long-term\n",
    "    )\n",
    "\n",
    "    await permanent.store(\n",
    "        content=\"Critical safety protocols\",\n",
    "        importance=3.0,  # Default importance for permanent\n",
    "    )\n",
    "\n",
    "    # Retrieve memories\n",
    "    # st_memories = await short_term.retrieve(limit=5)\n",
    "    # lt_memories = await long_term.retrieve(limit=10)\n",
    "    # perm_memories = await permanent.retrieve(limit=20)\n",
    "\n",
    "    # print(\"Short-Term Memories:\")\n",
    "    # print(st_memories)\n",
    "\n",
    "    # print(\"\\nLong-Term Memories:\")\n",
    "    # print(lt_memories)\n",
    "\n",
    "    # print(\"\\nPermanent Memories:\")\n",
    "    # print(perm_memories)\n",
    "\n",
    "\n",
    "# Run the demonstration\n",
    "from dana import safe_asyncio_run\n",
    "\n",
    "safe_asyncio_run(await demonstrate_memory_operations())"
   ]
  },
  {
   "cell_type": "markdown",
   "metadata": {},
   "source": [
    "## 3. Memory Decay Demonstration\n",
    "\n",
    "Let's demonstrate how memory decay works by storing memories and observing their importance over time."
   ]
  },
  {
   "cell_type": "code",
   "execution_count": null,
   "metadata": {},
   "outputs": [],
   "source": [
    "import time\n",
    "\n",
    "\n",
    "async def demonstrate_memory_decay():\n",
    "    # Store a memory in short-term memory\n",
    "    await short_term.store(content=\"Test memory for decay demonstration\", importance=1.0)\n",
    "\n",
    "    # Get initial decay stats\n",
    "    initial_stats = short_term.get_decay_stats()\n",
    "    print(\"Initial Memory Stats:\")\n",
    "    print(initial_stats)\n",
    "\n",
    "    # Wait for one decay interval\n",
    "    print(f\"\\nWaiting for {short_term.decay_interval} seconds...\")\n",
    "    time.sleep(short_term.decay_interval)\n",
    "\n",
    "    # Get updated decay stats\n",
    "    updated_stats = short_term.get_decay_stats()\n",
    "    print(\"\\nUpdated Memory Stats:\")\n",
    "    print(updated_stats)\n",
    "\n",
    "\n",
    "# Run the demonstration\n",
    "asyncio.run(demonstrate_memory_decay())"
   ]
  },
  {
   "cell_type": "markdown",
   "metadata": {},
   "source": [
    "## 4. Memory Integration with Agent\n",
    "\n",
    "Let's see how to integrate different memory types with an agent."
   ]
  },
  {
   "cell_type": "code",
   "execution_count": null,
   "metadata": {},
   "outputs": [],
   "source": [
    "from dana import Agent\n",
    "\n",
    "\n",
    "async def demonstrate_agent_memory():\n",
    "    # Create an agent with memory resources\n",
    "    agent = Agent(name=\"memory_agent\", description=\"Agent with memory capabilities\")\n",
    "\n",
    "    # Add memory resources to the agent\n",
    "    agent.add_resource(short_term)\n",
    "    agent.add_resource(long_term)\n",
    "    agent.add_resource(permanent)\n",
    "\n",
    "    # Store memories through the agent\n",
    "    await agent.store_memory(content=\"Recent manufacturing issue\", memory_type=\"short_term\")\n",
    "\n",
    "    await agent.store_memory(content=\"Best practices for quality control\", memory_type=\"long_term\")\n",
    "\n",
    "    await agent.store_memory(content=\"Critical safety procedures\", memory_type=\"permanent\")\n",
    "\n",
    "    # Retrieve memories through the agent\n",
    "    memories = await agent.retrieve_memories()\n",
    "    print(\"Agent Memories:\")\n",
    "    print(memories)\n",
    "\n",
    "\n",
    "# Run the demonstration\n",
    "asyncio.run(demonstrate_agent_memory())"
   ]
  },
  {
   "cell_type": "markdown",
   "metadata": {},
   "source": [
    "## Next Steps\n",
    "\n",
    "In this tutorial, we've covered:\n",
    "\n",
    "1. Different types of memory resources and their characteristics\n",
    "2. Storing and retrieving memories with different importance levels\n",
    "3. Memory decay mechanisms and their effects\n",
    "4. Integrating memory resources with agents\n",
    "\n",
    "Now that you understand the Memory subsystem, you can explore more advanced features like:\n",
    "- Customizing decay rates and intervals\n",
    "- Implementing custom memory storage backends\n",
    "- Using memory in complex agent workflows\n",
    "- Monitoring memory usage and performance"
   ]
  }
 ],
 "metadata": {
  "kernelspec": {
   "display_name": ".venv",
   "language": "python",
   "name": "python3"
  },
  "language_info": {
   "codemirror_mode": {
    "name": "ipython",
    "version": 3
   },
   "file_extension": ".py",
   "mimetype": "text/x-python",
   "name": "python",
   "nbconvert_exporter": "python",
   "pygments_lexer": "ipython3",
   "version": "3.12.7"
  }
 },
 "nbformat": 4,
 "nbformat_minor": 4
}
