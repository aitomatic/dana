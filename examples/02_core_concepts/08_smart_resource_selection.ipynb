{
 "cells": [
  {
   "cell_type": "markdown",
   "metadata": {},
   "source": "# Smart Resource Selection and Orchestration\n\n## Introduction\n\nIn this tutorial, we'll explore how OpenDXA agents can intelligently select and use different resources based on task requirements in both the planning and reasoning layers. Resource selection is a crucial capability for building versatile agents that can handle a variety of tasks efficiently.\n\nYou'll learn how to create custom resources, integrate Model Control Protocol (MCP) services, and use specialized agents as resources. We'll demonstrate how an agent automatically selects the most appropriate resource for each specific task, leading to more effective problem-solving.\n\n### Learning Objectives\n\nBy the end of this tutorial, you will understand:\n\n1. How resource selection works in the 2-layer architecture\n2. How to create and register custom resources\n3. How to use MCP services as resources\n4. How to implement resource selection strategies\n5. Best practices for resource orchestration\n\n### Prerequisites\n\n- Understanding of OpenDXA's 2-layer architecture\n- Familiarity with resource management in OpenDXA\n- Basic knowledge of MCP resources\n\n## 1. Resource Selection in the 2-Layer Architecture\n\nResource selection happens in both layers:\n\n- Planning layer: Selects resources for task planning\n- Reasoning layer: Selects resources for task execution\n\nLet's start with a basic example:"
  },
  {
   "cell_type": "code",
   "metadata": {},
   "source": "from opendxa import ExecutionContext, Plan, PlanStep, ChainOfThoughtStrategy\nfrom opendxa import BaseResource, ResourceSelector\n\n# Create custom resources\nclass DataAnalysisResource(BaseResource):\n    \"\"\"Resource for data analysis tasks.\"\"\"\n    def __init__(self):\n        super().__init__(\n            name=\"data_analysis\",\n            description=\"Resource for data analysis tasks\",\n            capabilities=[\"analyze\", \"visualize\"]\n        )\n    \n    async def analyze(self, data):\n        return {\"result\": \"analysis complete\"}\n    \n    async def visualize(self, data):\n        return {\"result\": \"visualization complete\"}\n\nclass MLModelResource(BaseResource):\n    \"\"\"Resource for machine learning tasks.\"\"\"\n    def __init__(self):\n        super().__init__(\n            name=\"ml_model\",\n            description=\"Resource for machine learning tasks\",\n            capabilities=[\"predict\", \"train\"]\n        )\n    \n    async def predict(self, data):\n        return {\"result\": \"prediction complete\"}\n    \n    async def train(self, data):\n        return {\"result\": \"training complete\"}\n\n# Create execution context\ncontext = ExecutionContext()\n\n# Register resources\ncontext.register_resource(DataAnalysisResource())\ncontext.register_resource(MLModelResource())\n\n# Create resource selector\nselector = ResourceSelector(context)\n\n# Create a plan that uses resource selection\nplan = Plan(\n    name=\"resource_selection_plan\",\n    description=\"Plan demonstrating resource selection\",\n    objective=\"Execute tasks using appropriate resources\"\n)\n\n# Add plan steps with resource selection\nplan.add_step(PlanStep(\n    name=\"analyze_data\",\n    description=\"Analyze data using appropriate resource\",\n    tool=\"analyze\",\n    tool_params={\"data\": [1, 2, 3, 4, 5]}\n))\n\nplan.add_step(PlanStep(\n    name=\"predict_results\",\n    description=\"Predict results using appropriate resource\",\n    tool=\"predict\",\n    tool_params={\"data\": [1, 2, 3, 4, 5]}\n))\n\n# Create reasoning strategy\nreasoning_strategy = ChainOfThoughtStrategy()\n\n# Execute the plan\nresult = context.execute_plan(plan, reasoning_strategy)\n\nprint(\"Plan Execution Result:\")\nprint(f\"- Status: {result.status}\")\nprint(f\"- Completed Steps: {result.completed_steps}\")\nprint(f\"- Total Duration: {result.total_duration}\")"
  },
  {
   "cell_type": "markdown",
   "metadata": {},
   "source": "## 2. Advanced Resource Selection Strategies\n\nLet's explore more advanced resource selection strategies:"
  },
  {
   "cell_type": "code",
   "metadata": {},
   "source": "from opendxa import ResourceSelectionStrategy\n\nclass CapabilityBasedStrategy(ResourceSelectionStrategy):\n    \"\"\"Strategy that selects resources based on capabilities.\"\"\"\n    \n    def __init__(self, context):\n        super().__init__(context)\n        self._capability_scores = {\n            \"analyze\": 1.0,\n            \"visualize\": 0.8,\n            \"predict\": 0.9,\n            \"train\": 0.7\n        }\n    \n    async def select_resource(self, task: dict) -> BaseResource:\n        \"\"\"Select the best resource for a given task.\"\"\"\n        required_capabilities = task.get(\"required_capabilities\", [])\n        \n        # Score each resource based on capabilities\n        resource_scores = {}\n        for resource in self.context.resources:\n            score = 0\n            for capability in required_capabilities:\n                if capability in resource.capabilities:\n                    score += self._capability_scores.get(capability, 0.5)\n            resource_scores[resource] = score\n        \n        # Select resource with highest score\n        return max(resource_scores.items(), key=lambda x: x[1])[0]\n\nclass PerformanceBasedStrategy(ResourceSelectionStrategy):\n    \"\"\"Strategy that selects resources based on performance metrics.\"\"\"\n    \n    def __init__(self, context):\n        super().__init__(context)\n        self._performance_metrics = {}\n    \n    async def select_resource(self, task: dict) -> BaseResource:\n        \"\"\"Select the best resource based on performance metrics.\"\"\"\n        # Update performance metrics\n        self._update_metrics()\n        \n        # Select resource with best performance\n        return max(\n            self._performance_metrics.items(),\n            key=lambda x: x[1][\"score\"]\n        )[0]\n    \n    def _update_metrics(self):\n        \"\"\"Update performance metrics for resources.\"\"\"\n        for resource in self.context.resources:\n            if resource not in self._performance_metrics:\n                self._performance_metrics[resource] = {\n                    \"score\": 0.5,\n                    \"success_rate\": 1.0,\n                    \"response_time\": 1.0\n                }\n            \n            # Update metrics based on recent performance\n            self._performance_metrics[resource][\"score\"] = \\\n                self._performance_metrics[resource][\"success_rate\"] * \\\n                (1.0 / self._performance_metrics[resource][\"response_time\"])"
  },
  {
   "cell_type": "markdown",
   "metadata": {},
   "source": "## 3. Resource Orchestration\n\nLet's see how to orchestrate multiple resources:"
  },
  {
   "cell_type": "code",
   "metadata": {},
   "source": "from opendxa import ResourceOrchestrator\n\nclass TaskOrchestrator(ResourceOrchestrator):\n    \"\"\"Orchestrator for managing multiple resources.\"\"\"\n    \n    def __init__(self, context):\n        super().__init__(context)\n        self._resource_selector = CapabilityBasedStrategy(context)\n    \n    async def orchestrate_task(self, task: dict) -> dict:\n        \"\"\"Orchestrate resources for a given task.\"\"\"\n        # Select appropriate resource\n        resource = await self._resource_selector.select_resource(task)\n        \n        # Execute task with selected resource\n        result = await self._execute_with_resource(resource, task)\n        \n        # Handle any errors or retries\n        if not result.get(\"success\"):\n            result = await self._handle_failure(resource, task, result)\n        \n        return result\n    \n    async def _execute_with_resource(self, resource: BaseResource, task: dict) -> dict:\n        \"\"\"Execute task with selected resource.\"\"\"\n        try:\n            # Get appropriate method from resource\n            method = getattr(resource, task[\"operation\"])\n            \n            # Execute method with task parameters\n            return await method(**task[\"parameters\"])\n        except Exception as e:\n            return {\"success\": False, \"error\": str(e)}\n    \n    async def _handle_failure(self, resource: BaseResource, task: dict, result: dict) -> dict:\n        \"\"\"Handle task execution failure.\"\"\"\n        # Try alternative resource\n        alternative_resource = await self._resource_selector.select_resource({\n            **task,\n            \"exclude_resources\": [resource]\n        })\n        \n        if alternative_resource:\n            return await self._execute_with_resource(alternative_resource, task)\n        \n        return result"
  },
  {
   "cell_type": "markdown",
   "metadata": {},
   "source": "## 4. Testing Resource Selection\n\nLet's see how to test resource selection:"
  },
  {
   "cell_type": "code",
   "metadata": {},
   "source": "import pytest\n\n# Test data\nTEST_TASK = {\n    \"operation\": \"analyze\",\n    \"parameters\": {\"data\": [1, 2, 3, 4, 5]},\n    \"required_capabilities\": [\"analyze\"]\n}\n\n# Test resource selection\nasync def test_resource_selection():\n    context = ExecutionContext()\n    context.register_resource(DataAnalysisResource())\n    context.register_resource(MLModelResource())\n    \n    selector = CapabilityBasedStrategy(context)\n    resource = await selector.select_resource(TEST_TASK)\n    \n    assert resource.name == \"data_analysis\"\n    assert \"analyze\" in resource.capabilities\n\n# Test resource orchestration\nasync def test_resource_orchestration():\n    context = ExecutionContext()\n    context.register_resource(DataAnalysisResource())\n    context.register_resource(MLModelResource())\n    \n    orchestrator = TaskOrchestrator(context)\n    result = await orchestrator.orchestrate_task(TEST_TASK)\n    \n    assert result[\"success\"]\n    assert \"result\" in result\n\n# Run the tests\nif __name__ == \"__main__\":\n    pytest.main([__file__])"
  },
  {
   "cell_type": "markdown",
   "metadata": {},
   "source": "## Next Steps\n\nIn this tutorial, we've covered:\n\n1. Resource selection in the 2-layer architecture\n2. Advanced resource selection strategies\n3. Resource orchestration\n4. Testing resource selection\n\nIn the next tutorial, we'll explore advanced resource management patterns and optimization techniques."
  }
 ],
 "metadata": {
  "kernelspec": {
   "display_name": "Python 3",
   "language": "python",
   "name": "python3"
  },
  "language_info": {
   "codemirror_mode": {
    "name": "ipython",
    "version": 3
   },
   "file_extension": ".py",
   "mimetype": "text/x-python",
   "name": "python",
   "nbconvert_exporter": "python",
   "pygments_lexer": "ipython3",
   "version": "3.8.0"
  }
 },
 "nbformat": 4,
 "nbformat_minor": 4
}
