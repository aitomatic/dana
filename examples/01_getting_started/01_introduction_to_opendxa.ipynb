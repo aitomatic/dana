{
 "cells": [
  {
   "cell_type": "markdown",
   "metadata": {},
   "source": [
    "# Introduction to OpenDXA\n",
    "\n",
    "This tutorial provides an introduction to the OpenDXA framework, explaining its core concepts and showing how to get started with basic usage.\n",
    "\n",
    "## Prerequisites\n",
    "\n",
    "- Python 3.8 or higher\n",
    "- Basic understanding of Python programming\n",
    "- Familiarity with AI/ML concepts"
   ]
  },
  {
   "cell_type": "code",
   "execution_count": null,
   "metadata": {},
   "outputs": [],
   "source": [
    "# Install OpenDXA if you haven't already\n",
    "%pip install opendxa"
   ]
  },
  {
   "cell_type": "markdown",
   "metadata": {},
   "source": [
    "## What is OpenDXA?\n",
    "\n",
    "OpenDXA (Open Domain-Expert Agent) is a framework designed for building and executing AI workflows. It provides a structured approach to:\n",
    "\n",
    "1. Planning execution (WHAT steps need to be taken)\n",
    "2. Reasoning about decisions (HOW to implement each step)\n",
    "\n",
    "The framework is particularly well-suited for industrial AI applications, with a focus on manufacturing workflows."
   ]
  },
  {
   "cell_type": "markdown",
   "metadata": {},
   "source": [
    "## The Simplest Way to Use OpenDXA\n",
    "\n",
    "The most straightforward way to use OpenDXA is with a single line of code:"
   ]
  },
  {
   "cell_type": "code",
   "execution_count": null,
   "metadata": {},
   "outputs": [],
   "source": [
    "from opendxa import Agent\n",
    "\n",
    "# Create an agent and ask a question\n",
    "response = Agent().ask(\"What is OpenDXA from Aitomatic and why is it useful?\")\n",
    "\n",
    "from pprint import pprint\n",
    "pprint(response)\n",
    "print(response.content[\"choices\"][0].message.content)"
   ]
  },
  {
   "cell_type": "markdown",
   "metadata": {},
   "source": [
    "This one-liner:\n",
    "1. Creates a default agent with standard settings\n",
    "2. Sets up a default planning and reasoning pipeline\n",
    "3. Handles all planning and reasoning behind the scenes\n",
    "4. Returns a response in a dictionary format\n",
    "\n",
    "The response contains the answer in the 'result' key."
   ]
  },
  {
   "cell_type": "markdown",
   "metadata": {},
   "source": [
    "## Creating and Configuring Agents\n",
    "\n",
    "For more control, you can create a named agent and configure it with various capabilities:"
   ]
  },
  {
   "cell_type": "code",
   "execution_count": null,
   "metadata": {},
   "outputs": [],
   "source": [
    "from opendxa import Agent\n",
    "\n",
    "# Create a named agent\n",
    "agent = Agent(name=\"my_agent\")\n",
    "\n",
    "# You can configure with just a model name\n",
    "agent = agent.with_llm(\"anthropic:claude-3-5-sonnet-20241022\")\n",
    "\n",
    "# You can also configure the agent with an LLM resource\n",
    "#agent = agent.with_llm(\n",
    "#    LLMResource(\n",
    "#        # You can configure the LLM resource with parameters like:\n",
    "#        name=\"my_llm\",\n",
    "#        config = {\n",
    "#            \"model\": \"openai:gpt-4\",\n",
    "#            \"temperature\": 0.7\n",
    "#        }\n",
    "#    )\n",
    "#)\n",
    "\n",
    "# Or with a configuration dictionary\n",
    "#agent = agent.with_llm({\n",
    "#    \"model\": \"openai:gpt-4o\",\n",
    "#    \"temperature\": 0.5,\n",
    "#    \"max_tokens\": 1000\n",
    "#})\n",
    "\n",
    "# Ask a question\n",
    "response = agent.ask(\"Explain the 2-layer architecture of OpenDXA\")\n",
    "from pprint import pprint\n",
    "print(response)\n",
    "print(response.content[\"choices\"][0].message.content)"
   ]
  },
  {
   "cell_type": "markdown",
   "metadata": {},
   "source": [
    "## Understanding the OpenDXA Architecture\n",
    "\n",
    "OpenDXA's 2-layer architecture consists of:\n",
    "\n",
    "1. **Planning Layer (WHAT)**: Breaks down objectives into executable steps\n",
    "2. **Reasoning Layer (HOW)**: Implements the actual execution logic\n",
    "\n",
    "This architecture enables:\n",
    "- Clear separation of concerns\n",
    "- Flexible task decomposition\n",
    "- Adaptable execution strategies\n",
    "- Robust error handling\n",
    "\n",
    "When you call `agent.ask()`, OpenDXA:\n",
    "1. Plans how to approach answering the question\n",
    "2. Uses reasoning to generate a thoughtful response"
   ]
  },
  {
   "cell_type": "markdown",
   "metadata": {},
   "source": [
    "## Agent Configuration Methods\n",
    "\n",
    "OpenDXA provides a fluent API for configuring agents through various `with_*` methods:\n",
    "\n",
    "### Basic Configuration\n",
    "- **`with_llm(llm)`**: Set the main LLM resource\n",
    "- **`with_resources(resources)`**: Add external resources (APIs, databases, etc.)\n",
    "- **`with_capabilities(capabilities)`**: Add agent capabilities (memory, expertise)\n",
    "- **`with_io(io)`**: Set custom input/output handlers\n",
    "\n",
    "### Strategy Configuration\n",
    "- **`with_planning(strategy)`**: Set planning strategy\n",
    "- **`with_reasoning(strategy)`**: Set reasoning strategy\n",
    "\n",
    "### Specialized LLMs\n",
    "- **`with_planning_llm(llm)`**: Set LLM specifically for planning operations\n",
    "- **`with_reasoning_llm(llm)`**: Set LLM specifically for reasoning operations\n",
    "\n",
    "These methods can be chained for concise agent configuration:\n",
    "\n",
    "```python\n",
    "agent = Agent(name=\"research_agent\")\\\n",
    "    .with_llm(\"anthropic:claude-3-5-sonnet\")\\\n",
    "    .with_reasoning(\"chain_of_thought\")\\\n",
    "    .with_capabilities({\"research\": ResearchCapability()})\n",
    "```"
   ]
  },
  {
   "cell_type": "markdown",
   "metadata": {},
   "source": [
    "## Next Steps\n",
    "\n",
    "Now that you understand the basics of OpenDXA, you can:\n",
    "\n",
    "1. Learn about [Simple Workflows](02_simple_workflows.ipynb) to understand how to create and manage tasks\n",
    "2. Explore more agent configuration options in the [Agent Configuration](03_agent_configuration.ipynb) tutorial\n",
    "3. Dive deeper into the 2-layer architecture in the Core Concepts tutorials\n",
    "\n",
    "In the next tutorial, we'll explore how to create and work with simple tasks in OpenDXA."
   ]
  }
 ],
 "metadata": {
  "kernelspec": {
   "display_name": ".venv",
   "language": "python",
   "name": "python3"
  },
  "language_info": {
   "codemirror_mode": {
    "name": "ipython",
    "version": 3
   },
   "file_extension": ".py",
   "mimetype": "text/x-python",
   "name": "python",
   "nbconvert_exporter": "python",
   "pygments_lexer": "ipython3",
   "version": "3.12.7"
  }
 },
 "nbformat": 4,
 "nbformat_minor": 4
}
