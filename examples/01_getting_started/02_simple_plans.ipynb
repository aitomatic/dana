{
 "cells": [
  {
   "cell_type": "markdown",
   "metadata": {},
   "source": [
    "# Simple Plans in OpenDXA\n",
    "\n",
    "This tutorial demonstrates how to create and work with simple plans in the OpenDXA framework. We'll cover the basic components of plans and show how to create, visualize, and execute them.\n",
    "\n",
    "## Prerequisites\n",
    "\n",
    "- Basic understanding of OpenDXA (from the previous tutorial)\n",
    "- OpenDXA package installed\n",
    "- Python 3.8 or higher"
   ]
  },
  {
   "cell_type": "markdown",
   "metadata": {},
   "source": [
    "## 1. Understanding Plan Components\n",
    "\n",
    "A plan in OpenDXA consists of two main components:\n",
    "\n",
    "1. **Plan Steps**: The individual tasks to be executed\n",
    "2. **Plan Edges**: The dependencies between plan steps\n",
    "\n",
    "Let's create a simple plan to understand these components."
   ]
  },
  {
   "cell_type": "code",
   "execution_count": null,
   "metadata": {},
   "outputs": [],
   "source": [
    "from opendxa import PlanFactory\n",
    "\n",
    "# Create a simple plan using the factory\n",
    "plan = PlanFactory.create_default_plan(\n",
    "    objective=\"Design a database schema for a library management system\"\n",
    ")\n",
    "\n",
    "# Visualize the plan structure\n",
    "from pprint import pprint\n",
    "\n",
    "pprint(plan.pretty_print())"
   ]
  },
  {
   "cell_type": "markdown",
   "metadata": {},
   "source": [
    "## 2. Creating a Custom Plan\n",
    "\n",
    "While the default plan is useful for simple tasks, we can create custom plans for more specific needs. Let's create a plan for a data processing task."
   ]
  },
  {
   "cell_type": "code",
   "execution_count": null,
   "metadata": {},
   "outputs": [],
   "source": [
    "from opendxa import Plan, PlanEdge, PlanStep\n",
    "\n",
    "# Create a new plan\n",
    "plan = Plan(\n",
    "    name=\"data_processing_plan\",\n",
    "    objective=\"A plan for processing and analyzing data\"\n",
    ")\n",
    "\n",
    "# Create plan steps\n",
    "load_data_step = PlanStep(\n",
    "    name=\"load_data\",\n",
    "    description=\"Load and validate input data\",\n",
    "    expected_duration=\"1 day\"\n",
    ")\n",
    "\n",
    "process_data_step = PlanStep(\n",
    "    name=\"process_data\",\n",
    "    description=\"Process and transform data\",\n",
    "    expected_duration=\"2 days\"\n",
    ")\n",
    "\n",
    "analyze_data_step = PlanStep(\n",
    "    name=\"analyze_data\",\n",
    "    description=\"Analyze processed data\",\n",
    "    expected_duration=\"1 day\"\n",
    ")\n",
    "\n",
    "# Add steps to plan\n",
    "plan.add_step(load_data_step)\n",
    "plan.add_step(process_data_step)\n",
    "plan.add_step(analyze_data_step)\n",
    "\n",
    "# Create edges to connect steps\n",
    "plan.add_edge(PlanEdge(load_data_step, process_data_step))\n",
    "plan.add_edge(PlanEdge(process_data_step, analyze_data_step))\n",
    "\n",
    "# Visualize the plan\n",
    "pprint(plan.pretty_print())"
   ]
  },
  {
   "cell_type": "markdown",
   "metadata": {},
   "source": [
    "## 3. Executing a Plan\n",
    "\n",
    "Now that we have created a plan, let's see how to execute it. We'll use the plan executor to run our plan."
   ]
  },
  {
   "cell_type": "code",
   "execution_count": null,
   "metadata": {},
   "outputs": [],
   "source": [
    "from opendxa import Agent, PlanFactory\n",
    "\n",
    "plan = PlanFactory.create_default_plan(\n",
    "    objective=\"Design a database schema for a library management system\"\n",
    ")\n",
    "\n",
    "result = Agent().execute(plan)\n",
    "from pprint import pprint\n",
    "\n",
    "pprint(result)"
   ]
  },
  {
   "cell_type": "markdown",
   "metadata": {},
   "source": [
    "In detail, the plan will be executed as follows:\n",
    "\n",
    "1. The plan will be executed by the agent.\n",
    "2. The agent will use the plan executor to execute the plan.\n",
    "3. The plan executor will execute the plan by calling the steps in the order defined by their dependencies.\n",
    "4. The plan executor will return the results of the plan.\n",
    "\n",
    "Let's take a look at this detailed process, bypassing an Agent and its runtime logic:"
   ]
  },
  {
   "cell_type": "code",
   "execution_count": null,
   "metadata": {},
   "outputs": [],
   "source": [
    "from opendxa import ExecutionContext, PlanExecutor, PlanFactory\n",
    "\n",
    "# Create an execution context\n",
    "context = ExecutionContext()\n",
    "\n",
    "# Create a plan executor\n",
    "executor = PlanExecutor()\n",
    "\n",
    "# Create a plan\n",
    "plan = PlanFactory.create_default_plan(\n",
    "    objective=\"Design a database schema for a library management system\"\n",
    ")\n",
    "\n",
    "# Execute the plan\n",
    "result = await executor.execute(plan, context)\n",
    "\n",
    "# Print the execution results\n",
    "print(\"Plan execution completed:\")\n",
    "from pprint import pprint\n",
    "\n",
    "pprint(result)"
   ]
  },
  {
   "cell_type": "markdown",
   "metadata": {},
   "source": [
    "You may be curious what this Planning-Reasoning stack sends to the LLM. Let's take a look at the context that is sent to the LLM."
   ]
  },
  {
   "cell_type": "code",
   "execution_count": null,
   "metadata": {},
   "outputs": [],
   "source": [
    "from opendxa import DXA_LOGGER, Agent, PlanFactory, ReasoningStrategy\n",
    "\n",
    "plan = PlanFactory.create_default_plan(\n",
    "    objective=\"Determine if 0.89 is greater than 0.9\"\n",
    ")\n",
    "\n",
    "DXA_LOGGER.basicConfig(level=DXA_LOGGER.DEBUG)  # Set all loggers to DEBUG\n",
    "result = Agent()\\\n",
    "    .with_reasoning(strategy=ReasoningStrategy.CHAIN_OF_THOUGHT)\\\n",
    "    .execute(plan)"
   ]
  },
  {
   "cell_type": "markdown",
   "metadata": {},
   "source": [
    "## 4. Plan State Management\n",
    "\n",
    "OpenDXA provides tools for managing plan state during execution. Let's see how to track and manage plan state."
   ]
  },
  {
   "cell_type": "code",
   "execution_count": null,
   "metadata": {},
   "outputs": [],
   "source": [
    "from opendxa import PlanStateManager\n",
    "\n",
    "# Create a plan state manager\n",
    "state_manager = PlanStateManager()\n",
    "\n",
    "# Create a plan\n",
    "plan = PlanFactory.create_default_plan(\n",
    "    objective=\"Process and analyze data\"\n",
    ")\n",
    "\n",
    "# Initialize plan state\n",
    "initial_state = {\n",
    "    \"data_loaded\": False,\n",
    "    \"data_processed\": False,\n",
    "    \"analysis_complete\": False\n",
    "}\n",
    "\n",
    "# Track plan state\n",
    "state_manager.initialize_state(plan, initial_state)\n",
    "\n",
    "# Update state during execution\n",
    "state_manager.update_state(plan, {\"data_loaded\": True})\n",
    "state_manager.update_state(plan, {\"data_processed\": True})\n",
    "state_manager.update_state(plan, {\"analysis_complete\": True})\n",
    "\n",
    "# Get current state\n",
    "current_state = state_manager.get_state(plan)\n",
    "print(\"Current Plan State:\")\n",
    "pprint(current_state)"
   ]
  },
  {
   "cell_type": "markdown",
   "metadata": {},
   "source": [
    "## Next Steps\n",
    "\n",
    "In this tutorial, we've covered:\n",
    "\n",
    "1. Understanding plan components\n",
    "2. Creating custom plans\n",
    "3. Executing plans\n",
    "4. Managing plan state\n",
    "\n",
    "In the next tutorial, we'll explore the Reasoning Layer (HOW) of the OpenDXA architecture, which implements the actual execution logic for each plan step."
   ]
  }
 ],
 "metadata": {
  "kernelspec": {
   "display_name": ".venv",
   "language": "python",
   "name": "python3"
  },
  "language_info": {
   "codemirror_mode": {
    "name": "ipython",
    "version": 3
   },
   "file_extension": ".py",
   "mimetype": "text/x-python",
   "name": "python",
   "nbconvert_exporter": "python",
   "pygments_lexer": "ipython3",
   "version": "3.12.7"
  }
 },
 "nbformat": 4,
 "nbformat_minor": 4
}
