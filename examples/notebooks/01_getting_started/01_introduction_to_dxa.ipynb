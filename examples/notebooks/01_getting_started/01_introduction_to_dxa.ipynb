{
 "cells": [
  {
   "cell_type": "markdown",
   "metadata": {},
   "source": [
    "# Introduction to OpenDXA\n",
    "\n",
    "This tutorial provides an introduction to the OpenDXA framework, explaining its core concepts and showing how to get started with basic usage.\n",
    "\n",
    "## Prerequisites\n",
    "\n",
    "- Python 3.8 or higher\n",
    "- Basic understanding of Python programming\n",
    "- Familiarity with AI/ML concepts"
   ]
  },
  {
   "cell_type": "code",
   "execution_count": null,
   "metadata": {},
   "outputs": [],
   "source": [
    "# Install OpenDXA if you haven't already\n",
    "!pip install opendxa"
   ]
  },
  {
   "cell_type": "markdown",
   "metadata": {},
   "source": [
    "## What is OpenDXA?\n",
    "\n",
    "OpenDXA (Open Domain-Expert Agent) is a framework designed for building and executing AI workflows. It provides a structured approach to:\n",
    "\n",
    "1. Defining workflows (WHAT needs to be done)\n",
    "2. Planning execution (HOW to do it)\n",
    "3. Reasoning about decisions (WHY certain choices are made)\n",
    "\n",
    "The framework is particularly well-suited for industrial AI applications, with a focus on manufacturing workflows."
   ]
  },
  {
   "cell_type": "markdown",
   "metadata": {},
   "source": [
    "## The Simplest Way to Use OpenDXA\n",
    "\n",
    "The most straightforward way to use OpenDXA is with a single line of code:"
   ]
  },
  {
   "cell_type": "code",
   "execution_count": null,
   "metadata": {},
   "outputs": [],
   "source": [
    "from opendxa import Agent\n",
    "\n",
    "# Create an agent and ask a question\n",
    "response = Agent().ask(\"What is OpenDXA from Aitomatic and why is it useful?\")\n",
    "print(response)"
   ]
  },
  {
   "cell_type": "markdown",
   "metadata": {},
   "source": [
    "This one-liner:\n",
    "1. Creates a default agent with standard settings\n",
    "2. Sets up a default workflow\n",
    "3. Handles all planning and reasoning behind the scenes\n",
    "4. Returns a response in a dictionary format\n",
    "\n",
    "The response contains the answer in the 'result' key."
   ]
  },
  {
   "cell_type": "markdown",
   "metadata": {},
   "source": [
    "## Creating a Named Agent\n",
    "\n",
    "For more control, you can create a named agent:"
   ]
  },
  {
   "cell_type": "code",
   "execution_count": null,
   "metadata": {},
   "outputs": [],
   "source": [
    "# Create a named agent\n",
    "agent = Agent(name=\"my_agent\")\n",
    "\n",
    "# Ask a question\n",
    "response = agent.ask(\"Explain the 3-layer architecture of OpenDXA\")\n",
    "print(response['result'])"
   ]
  },
  {
   "cell_type": "markdown",
   "metadata": {},
   "source": [
    "## Understanding the OpenDXA Architecture\n",
    "\n",
    "OpenDXA's 3-layer architecture consists of:\n",
    "\n",
    "1. **Workflow Layer (WHY)**: Defines the high-level objectives and goals\n",
    "2. **Planning Layer (WHAT)**: Breaks down objectives into executable steps\n",
    "3. **Reasoning Layer (HOW)**: Implements the actual execution logic\n",
    "\n",
    "This architecture enables:\n",
    "- Clear separation of concerns\n",
    "- Flexible workflow definition\n",
    "- Adaptable execution strategies\n",
    "- Robust error handling"
   ]
  },
  {
   "cell_type": "markdown",
   "metadata": {},
   "source": [
    "## Next Steps\n",
    "\n",
    "Now that you understand the basics of OpenDXA, you can:\n",
    "\n",
    "1. Learn about [Simple Workflows](02_simple_workflows.ipynb) to understand how to create and manage workflows\n",
    "2. Explore agent configuration options\n",
    "3. Dive deeper into the 3-layer architecture\n",
    "\n",
    "In the next tutorial, we'll explore how to create and work with simple workflows in OpenDXA."
   ]
  }
 ],
 "metadata": {
  "kernelspec": {
   "display_name": ".venv",
   "language": "python",
   "name": "python3"
  },
  "language_info": {
   "codemirror_mode": {
    "name": "ipython",
    "version": 3
   },
   "file_extension": ".py",
   "mimetype": "text/x-python",
   "name": "python",
   "nbconvert_exporter": "python",
   "pygments_lexer": "ipython3",
   "version": "3.12.7"
  }
 },
 "nbformat": 4,
 "nbformat_minor": 4
}
