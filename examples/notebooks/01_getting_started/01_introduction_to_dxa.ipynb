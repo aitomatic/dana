{
 "cells": [
  {
   "cell_type": "markdown",
   "metadata": {},
   "source": [
    "# Introduction to DXA Framework\n",
    "\n",
    "Welcome to the DXA (Decision eXecution Architecture) framework! This tutorial provides a gentle introduction to DXA and its core concepts.\n",
    "\n",
    "## What is DXA?\n",
    "\n",
    "DXA is a framework for building AI agents with:\n",
    "- Structured execution patterns\n",
    "- Multi-layer processing (Workflow, Planning, Reasoning)\n",
    "- Flexible resource integration\n",
    "- Robust logging and monitoring\n",
    "\n",
    "## Prerequisites\n",
    "\n",
    "Before we begin, make sure you have the DXA package installed:"
   ]
  },
  {
   "cell_type": "code",
   "execution_count": null,
   "metadata": {},
   "outputs": [],
   "source": [
    "# Install DXA if not already installed\n",
    "%pip install dxa"
   ]
  },
  {
   "cell_type": "markdown",
   "metadata": {},
   "source": [
    "## The Simplest Way to Use DXA\n",
    "\n",
    "Here's the most straightforward way to use DXA - just one line of code:"
   ]
  },
  {
   "cell_type": "code",
   "execution_count": null,
   "metadata": {},
   "outputs": [],
   "source": [
    "from dxa.agent import Agent\n",
    "\n",
    "# One line to create an agent and get an answer\n",
    "response = Agent().ask(\"What is DXA and why is it useful?\")\n",
    "print(response['result'])"
   ]
  },
  {
   "cell_type": "markdown",
   "metadata": {},
   "source": [
    "That's it! This single line:\n",
    "1. Creates a default agent with standard settings\n",
    "2. Automatically sets up a default workflow\n",
    "3. Handles all the planning and reasoning behind the scenes\n",
    "4. Returns a response with the answer\n",
    "\n",
    "Now that you've seen the simplest way to use DXA, let's explore more features and customization options."
   ]
  },
  {
   "cell_type": "markdown",
   "metadata": {},
   "source": [
    "## Creating a Named Agent\n",
    "\n",
    "While the one-liner works great, you might want to create a named agent for better organization:"
   ]
  },
  {
   "cell_type": "code",
   "execution_count": null,
   "metadata": {},
   "outputs": [],
   "source": [
    "# Create a basic agent with a name\n",
    "agent = Agent(name=\"hello_agent\")\n",
    "print(\"Agent created successfully!\")"
   ]
  },
  {
   "cell_type": "markdown",
   "metadata": {},
   "source": [
    "## Asking Questions\n",
    "\n",
    "You can ask your named agent questions just as easily:"
   ]
  },
  {
   "cell_type": "code",
   "execution_count": null,
   "metadata": {},
   "outputs": [],
   "source": [
    "# Ask a simple question\n",
    "question = \"What is DXA and why is it useful?\"\n",
    "print(f\"Question: {question}\\n\")\n",
    "\n",
    "# Get the response\n",
    "response = agent.ask(question)\n",
    "print(f\"Answer: {response['result']}\")"
   ]
  },
  {
   "cell_type": "markdown",
   "metadata": {},
   "source": [
    "## Creating a Simple Workflow\n",
    "\n",
    "Now let's create a simple workflow. Workflows in DXA define the sequence of tasks that need to be performed:"
   ]
  },
  {
   "cell_type": "code",
   "execution_count": null,
   "metadata": {},
   "outputs": [],
   "source": [
    "from dxa.execution import WorkflowFactory\n",
    "\n",
    "# Define the objective for the workflow\n",
    "objective = \"Design a database schema for a library management system.\"\n",
    "\n",
    "# Create a Default workflow using the convenience method\n",
    "workflow = WorkflowFactory.create_default_workflow(objective=objective)\n",
    "\n",
    "# Print the workflow structure\n",
    "print(workflow.pretty_print())"
   ]
  },
  {
   "cell_type": "markdown",
   "metadata": {},
   "source": [
    "## Understanding the Default Workflow\n",
    "\n",
    "The Default workflow is a simple pattern that consists of:\n",
    "- START node: Entry point for execution\n",
    "- task node: Contains the objective to be accomplished\n",
    "- END node: Exit point for execution\n",
    "\n",
    "This is the simplest workflow pattern for general-purpose tasks. When you use the `agent.ask()` method, DXA automatically creates a Default workflow behind the scenes."
   ]
  },
  {
   "cell_type": "markdown",
   "metadata": {},
   "source": [
    "## Configuring Your Agent\n",
    "\n",
    "You can customize your agent with different configurations. Here's how to create an agent with custom settings:"
   ]
  },
  {
   "cell_type": "code",
   "execution_count": null,
   "metadata": {},
   "outputs": [],
   "source": [
    "from dxa.agent.resource import LLMResource\n",
    "\n",
    "# Create an agent with custom configuration\n",
    "configured_agent = Agent(\n",
    "    name=\"qa_agent\"  # Give your agent a name\n",
    ")\n",
    "\n",
    "# Add an LLM resource to the agent\n",
    "configured_agent = configured_agent.with_llm(\n",
    "    LLMResource(\n",
    "        # You can configure the LLM resource with parameters like:\n",
    "        # model=\"gpt-4\",\n",
    "        # temperature=0.7,\n",
    "        # etc.\n",
    "    )\n",
    ")\n",
    "\n",
    "print(\"Configured agent created successfully!\")"
   ]
  },
  {
   "cell_type": "markdown",
   "metadata": {},
   "source": [
    "## Multiple Questions\n",
    "\n",
    "Let's ask our configured agent a series of questions:"
   ]
  },
  {
   "cell_type": "code",
   "execution_count": null,
   "metadata": {},
   "outputs": [],
   "source": [
    "# List of questions to ask\n",
    "questions = [\n",
    "    \"What is the capital of France?\",\n",
    "    \"Explain the concept of machine learning in simple terms.\",\n",
    "    \"How does the DXA framework help with building AI applications?\"\n",
    "]\n",
    "\n",
    "# Ask each question and display the results\n",
    "for i, question in enumerate(questions, 1):\n",
    "    print(f\"\\n=== Question {i}: {question} ===\")\n",
    "    \n",
    "    # Get the response\n",
    "    response = configured_agent.ask(question)\n",
    "    \n",
    "    # Display the answer and execution time\n",
    "    print(f\"Answer: {response['result']}\")\n",
    "    print(f\"Execution time: {response.get('execution_time', 'N/A')} seconds\")"
   ]
  },
  {
   "cell_type": "markdown",
   "metadata": {},
   "source": [
    "## Understanding DXA Architecture\n",
    "\n",
    "When you ask a question using DXA, here's what happens behind the scenes:\n",
    "\n",
    "1. The agent creates a minimal workflow with your question\n",
    "2. The workflow is processed by the planning layer\n",
    "3. The planning layer creates reasoning tasks\n",
    "4. The reasoning layer executes those tasks using LLM resources\n",
    "5. The results are returned through the layers back to you\n",
    "\n",
    "## Next Steps\n",
    "\n",
    "Now that you've learned the basics of DXA, here are some suggestions for next steps:\n",
    "\n",
    "1. Try modifying the questions or adding your own\n",
    "2. Experiment with different LLM configurations\n",
    "3. Create more complex workflows with multiple steps\n",
    "4. Explore the DXA documentation for more advanced features\n",
    "\n",
    "Congratulations! You've completed your first DXA tutorial."
   ]
  }
 ],
 "metadata": {
  "kernelspec": {
   "display_name": ".venv",
   "language": "python",
   "name": "python3"
  },
  "language_info": {
   "codemirror_mode": {
    "name": "ipython",
    "version": 3
   },
   "file_extension": ".py",
   "mimetype": "text/x-python",
   "name": "python",
   "nbconvert_exporter": "python",
   "pygments_lexer": "ipython3",
   "version": "3.12.7"
  }
 },
 "nbformat": 4,
 "nbformat_minor": 4
}
