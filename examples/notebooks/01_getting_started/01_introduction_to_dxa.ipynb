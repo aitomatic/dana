{
 "cells": [
  {
   "cell_type": "markdown",
   "metadata": {},
   "source": [
    "# Introduction to OpenDXA\n",
    "\n",
    "This tutorial provides an introduction to the OpenDXA framework, explaining its core concepts and showing how to get started with basic usage.\n",
    "\n",
    "## Prerequisites\n",
    "\n",
    "- Python 3.8 or higher\n",
    "- Basic understanding of Python programming\n",
    "- Familiarity with AI/ML concepts"
   ]
  },
  {
   "cell_type": "code",
   "execution_count": null,
   "metadata": {},
   "outputs": [],
   "source": [
    "# Install OpenDXA if you haven't already\n",
    "!pip install opendxa"
   ]
  },
  {
   "cell_type": "markdown",
   "metadata": {},
   "source": [
    "## What is OpenDXA?\n",
    "\n",
    "OpenDXA (Open Domain-Expert Agent) is a framework designed for building and executing AI workflows. It provides a structured approach to:\n",
    "\n",
    "1. Defining workflows (WHAT needs to be done)\n",
    "2. Planning execution (HOW to do it)\n",
    "3. Reasoning about decisions (WHY certain choices are made)\n",
    "\n",
    "The framework is particularly well-suited for industrial AI applications, with a focus on manufacturing workflows."
   ]
  },
  {
   "cell_type": "markdown",
   "metadata": {},
   "source": [
    "## The Simplest Way to Use OpenDXA\n",
    "\n",
    "The most straightforward way to use OpenDXA is with a single line of code:"
   ]
  },
  {
   "cell_type": "code",
   "execution_count": 1,
   "metadata": {},
   "outputs": [
    {
     "name": "stderr",
     "output_type": "stream",
     "text": [
      "17:39:31 - [llm_conversation] INFO - PROMPT TO anthropic:claude-3-5-sonnet:\n",
      "--------------------------------------------------------------------------------\n",
      "[{'role': 'system', 'content': 'You are executing a reasoning task. Provide clear, logical analysis and reasoning.'}, {'role': 'user', 'content': 'Execute the reasoning task for the following objective hierarchy:\\n\\n1. Workflow Objective: What is OpenDXA and why is it useful?\\n2. Workflow Node within Workflow: query in What is OpenDXA and why is it useful?\\n3. Plan Node under Workflow Node Objective: query in What is OpenDXA and why is it useful?\\n4. Reasoning Node under Plan Node Objective: query in What is OpenDXA and why is it useful?\\n\\nReasoning Node Description: query in What is OpenDXA and why is it useful?\\n\\nPlease provide a detailed analysis and reasoning for this task, ensuring your response aligns with all levels of the objective hierarchy.'}]\n",
      "--------------------------------------------------------------------------------\n"
     ]
    },
    {
     "name": "stdout",
     "output_type": "stream",
     "text": [
      "\n",
      "Execution Hierarchy:\n",
      "===================\n",
      "Workflow Node:\n",
      "  ID: TASK_0\n",
      "  Type: NodeType.TASK\n",
      "  Description: query in What is OpenDXA and why is it useful?\n",
      "  Status: ExecutionNodeStatus.IN_PROGRESS\n",
      "  Workflow Objective: What is OpenDXA and why is it useful?\n",
      "  Node Objective: query in What is OpenDXA and why is it useful?\n",
      "\n",
      "  Plan Node:\n",
      "    ID: TASK\n",
      "    Type: NodeType.TASK\n",
      "    Description: query in What is OpenDXA and why is it useful?\n",
      "    Status: ExecutionNodeStatus.IN_PROGRESS\n",
      "    Plan Objective: query in What is OpenDXA and why is it useful?\n",
      "    Node Objective: query in What is OpenDXA and why is it useful?\n",
      "\n",
      "    Reasoning Node:\n",
      "      ID: TASK\n",
      "      Type: NodeType.TASK\n",
      "      Description: query in What is OpenDXA and why is it useful?\n",
      "      Status: ExecutionNodeStatus.IN_PROGRESS\n",
      "      Reasoning Objective: query in What is OpenDXA and why is it useful?\n",
      "      Node Objective: query in What is OpenDXA and why is it useful?\n",
      "      Metadata: {'reasoning_context': {'node_id': 'TASK', 'node_type': <NodeType.TASK: 'TASK'>, 'description': 'query in What is OpenDXA and why is it useful?', 'metadata': {}}}\n"
     ]
    },
    {
     "name": "stderr",
     "output_type": "stream",
     "text": [
      "HTTP Request: POST https://api.anthropic.com/v1/messages \"HTTP/1.1 404 Not Found\"\n",
      "17:39:32 - [opendxa.execution.reasoning] ERROR - Error executing node TASK: Error code: 404 - {'type': 'error', 'error': {'type': 'not_found_error', 'message': 'model: claude-3-5-sonnet'}}\n",
      "17:39:32 - [opendxa.execution.plan] ERROR - Error in node TASK: Error code: 404 - {'type': 'error', 'error': {'type': 'not_found_error', 'message': 'model: claude-3-5-sonnet'}}\n",
      "17:39:32 - [opendxa.execution.workflow] ERROR - Error in node TASK: Error code: 404 - {'type': 'error', 'error': {'type': 'not_found_error', 'message': 'model: claude-3-5-sonnet'}}\n"
     ]
    },
    {
     "ename": "TypeError",
     "evalue": "'NoneType' object is not subscriptable",
     "output_type": "error",
     "traceback": [
      "\u001b[31m---------------------------------------------------------------------------\u001b[39m",
      "\u001b[31mTypeError\u001b[39m                                 Traceback (most recent call last)",
      "\u001b[36mCell\u001b[39m\u001b[36m \u001b[39m\u001b[32mIn[1]\u001b[39m\u001b[32m, line 5\u001b[39m\n\u001b[32m      3\u001b[39m \u001b[38;5;66;03m# Create an agent and ask a question\u001b[39;00m\n\u001b[32m      4\u001b[39m response = Agent().ask(\u001b[33m\"\u001b[39m\u001b[33mWhat is OpenDXA and why is it useful?\u001b[39m\u001b[33m\"\u001b[39m)\n\u001b[32m----> \u001b[39m\u001b[32m5\u001b[39m \u001b[38;5;28mprint\u001b[39m(\u001b[43mresponse\u001b[49m\u001b[43m[\u001b[49m\u001b[33;43m'\u001b[39;49m\u001b[33;43mresult\u001b[39;49m\u001b[33;43m'\u001b[39;49m\u001b[43m]\u001b[49m)\n",
      "\u001b[31mTypeError\u001b[39m: 'NoneType' object is not subscriptable"
     ]
    }
   ],
   "source": [
    "from opendxa import Agent\n",
    "\n",
    "# Create an agent and ask a question\n",
    "response = Agent().ask(\"What is OpenDXA and why is it useful?\")\n",
    "print(response['result'])"
   ]
  },
  {
   "cell_type": "markdown",
   "metadata": {},
   "source": [
    "This one-liner:\n",
    "1. Creates a default agent with standard settings\n",
    "2. Sets up a default workflow\n",
    "3. Handles all planning and reasoning behind the scenes\n",
    "4. Returns a response in a dictionary format\n",
    "\n",
    "The response contains the answer in the 'result' key."
   ]
  },
  {
   "cell_type": "markdown",
   "metadata": {},
   "source": [
    "## Creating a Named Agent\n",
    "\n",
    "For more control, you can create a named agent:"
   ]
  },
  {
   "cell_type": "code",
   "execution_count": null,
   "metadata": {},
   "outputs": [],
   "source": [
    "# Create a named agent\n",
    "agent = Agent(name=\"my_agent\")\n",
    "\n",
    "# Ask a question\n",
    "response = agent.ask(\"Explain the 3-layer architecture of OpenDXA\")\n",
    "print(response['result'])"
   ]
  },
  {
   "cell_type": "markdown",
   "metadata": {},
   "source": [
    "## Understanding the OpenDXA Architecture\n",
    "\n",
    "OpenDXA's 3-layer architecture consists of:\n",
    "\n",
    "1. **Workflow Layer (WHY)**: Defines the high-level objectives and goals\n",
    "2. **Planning Layer (WHAT)**: Breaks down objectives into executable steps\n",
    "3. **Reasoning Layer (HOW)**: Implements the actual execution logic\n",
    "\n",
    "This architecture enables:\n",
    "- Clear separation of concerns\n",
    "- Flexible workflow definition\n",
    "- Adaptable execution strategies\n",
    "- Robust error handling"
   ]
  },
  {
   "cell_type": "markdown",
   "metadata": {},
   "source": [
    "## Next Steps\n",
    "\n",
    "Now that you understand the basics of OpenDXA, you can:\n",
    "\n",
    "1. Learn about [Simple Workflows](02_simple_workflows.ipynb) to understand how to create and manage workflows\n",
    "2. Explore agent configuration options\n",
    "3. Dive deeper into the 3-layer architecture\n",
    "\n",
    "In the next tutorial, we'll explore how to create and work with simple workflows in OpenDXA."
   ]
  }
 ],
 "metadata": {
  "kernelspec": {
   "display_name": ".venv",
   "language": "python",
   "name": "python3"
  },
  "language_info": {
   "codemirror_mode": {
    "name": "ipython",
    "version": 3
   },
   "file_extension": ".py",
   "mimetype": "text/x-python",
   "name": "python",
   "nbconvert_exporter": "python",
   "pygments_lexer": "ipython3",
   "version": "3.12.7"
  }
 },
 "nbformat": 4,
 "nbformat_minor": 4
}
