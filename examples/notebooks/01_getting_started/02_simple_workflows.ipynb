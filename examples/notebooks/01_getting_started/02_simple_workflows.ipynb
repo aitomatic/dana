{
 "cells": [
  {
   "cell_type": "markdown",
   "metadata": {},
   "source": [
    "# Simple Workflows in DXA\n",
    "\n",
    "This tutorial demonstrates how to create and work with simple workflows in the DXA framework. We'll cover the basic components of workflows and show how to create, visualize, and execute them.\n",
    "\n",
    "## Prerequisites\n",
    "\n",
    "- Basic understanding of DXA (from the previous tutorial)\n",
    "- DXA package installed\n",
    "- Python 3.8 or higher"
   ]
  },
  {
   "cell_type": "code",
   "execution_count": null,
   "metadata": {},
   "source": [
    "# Install DXA if you haven't already\n",
    "!pip install dxa"
   ]
  },
  {
   "cell_type": "markdown",
   "metadata": {},
   "source": [
    "## 1. Understanding Workflow Components\n",
    "\n",
    "A workflow in DXA consists of three main components:\n",
    "\n",
    "1. **START Node**: The entry point of the workflow\n",
    "2. **Task Nodes**: The actual work to be performed\n",
    "3. **END Node**: The exit point of the workflow\n",
    "\n",
    "Let's create a simple workflow to understand these components."
   ]
  },
  {
   "cell_type": "code",
   "execution_count": null,
   "metadata": {},
   "source": [
    "from dxa.execution.workflow import Workflow\n",
    "from dxa.execution.workflow.workflow_factory import WorkflowFactory\n",
    "\n",
    "# Create a simple workflow using the factory\n",
    "workflow = WorkflowFactory.create_default_workflow(\n",
    "    objective=\"Design a database schema for a library management system\"\n",
    ")\n",
    "\n",
    "# Visualize the workflow structure\n",
    "workflow.pretty_print()"
   ]
  },
  {
   "cell_type": "markdown",
   "metadata": {},
   "source": [
    "## 2. Creating a Custom Workflow\n",
    "\n",
    "While the default workflow is useful for simple tasks, we can create custom workflows for more specific needs. Let's create a workflow for a data processing task."
   ]
  },
  {
   "cell_type": "code",
   "execution_count": null,
   "metadata": {},
   "source": [
    "from dxa.execution.workflow.workflow_node import WorkflowNode\n",
    "from dxa.execution.workflow.workflow_edge import WorkflowEdge\n",
    "\n",
    "# Create a new workflow\n",
    "workflow = Workflow(\n",
    "    name=\"data_processing_workflow\",\n",
    "    description=\"A workflow for processing and analyzing data\"\n",
    ")\n",
    "\n",
    "# Create nodes\n",
    "start_node = WorkflowNode(\n",
    "    name=\"start\",\n",
    "    node_type=\"START\",\n",
    "    description=\"Start of data processing\"\n",
    ")\n",
    "\n",
    "load_data_node = WorkflowNode(\n",
    "    name=\"load_data\",\n",
    "    node_type=\"TASK\",\n",
    "    description=\"Load and validate input data\"\n",
    ")\n",
    "\n",
    "process_data_node = WorkflowNode(\n",
    "    name=\"process_data\",\n",
    "    node_type=\"TASK\",\n",
    "    description=\"Process and transform data\"\n",
    ")\n",
    "\n",
    "end_node = WorkflowNode(\n",
    "    name=\"end\",\n",
    "    node_type=\"END\",\n",
    "    description=\"End of data processing\"\n",
    ")\n",
    "\n",
    "# Add nodes to workflow\n",
    "workflow.add_node(start_node)\n",
    "workflow.add_node(load_data_node)\n",
    "workflow.add_node(process_data_node)\n",
    "workflow.add_node(end_node)\n",
    "\n",
    "# Create edges to connect nodes\n",
    "workflow.add_edge(WorkflowEdge(start_node, load_data_node))\n",
    "workflow.add_edge(WorkflowEdge(load_data_node, process_data_node))\n",
    "workflow.add_edge(WorkflowEdge(process_data_node, end_node))\n",
    "\n",
    "# Visualize the workflow\n",
    "workflow.pretty_print()"
   ]
  },
  {
   "cell_type": "markdown",
   "metadata": {},
   "source": [
    "## 3. Executing a Workflow\n",
    "\n",
    "Now that we have created a workflow, let's see how to execute it. We'll use the workflow executor to run our workflow."
   ]
  },
  {
   "cell_type": "code",
   "execution_count": null,
   "metadata": {},
   "source": [
    "from dxa.execution.workflow.workflow_executor import WorkflowExecutor\n",
    "from dxa.execution.execution_context import ExecutionContext\n",
    "\n",
    "# Create an execution context\n",
    "context = ExecutionContext()\n",
    "\n",
    "# Create a workflow executor\n",
    "executor = WorkflowExecutor()\n",
    "\n",
    "# Execute the workflow\n",
    "result = executor.execute(workflow, context)\n",
    "\n",
    "# Print the execution results\n",
    "print(\"Workflow execution completed:\")\n",
    "print(f\"Status: {result.status}\")\n",
    "print(f\"Results: {result.results}\")"
   ]
  },
  {
   "cell_type": "markdown",
   "metadata": {},
   "source": [
    "## 4. Workflow State Management\n",
    "\n",
    "DXA provides tools for managing workflow state during execution. Let's see how to track and manage workflow state."
   ]
  },
  {
   "cell_type": "code",
   "execution_count": null,
   "metadata": {},
   "source": [
    "# Add state tracking to our workflow\n",
    "workflow.add_state_tracking()\n",
    "\n",
    "# Execute the workflow with state tracking\n",
    "result = executor.execute(workflow, context)\n",
    "\n",
    "# Print the workflow state at each step\n",
    "print(\"\\nWorkflow State History:\")\n",
    "for state in workflow.state_history:\n",
    "    print(f\"Node: {state.node_name}, Status: {state.status}\")"
   ]
  },
  {
   "cell_type": "markdown",
   "metadata": {},
   "source": [
    "## 5. Error Handling in Workflows\n",
    "\n",
    "Let's see how to handle errors in workflow execution and implement error recovery strategies."
   ]
  },
  {
   "cell_type": "code",
   "execution_count": null,
   "metadata": {},
   "source": [
    "# Add error handling to our workflow\n",
    "workflow.add_error_handling()\n",
    "\n",
    "# Execute the workflow with error handling\n",
    "try:\n",
    "    result = executor.execute(workflow, context)\n",
    "except Exception as e:\n",
    "    print(f\"Error during workflow execution: {e}\")\n",
    "    # Handle the error appropriately\n",
    "    workflow.handle_error(e)"
   ]
  },
  {
   "cell_type": "markdown",
   "metadata": {},
   "source": [
    "## Next Steps\n",
    "\n",
    "In this tutorial, we've covered:\n",
    "\n",
    "1. Understanding workflow components\n",
    "2. Creating custom workflows\n",
    "3. Executing workflows\n",
    "4. Managing workflow state\n",
    "5. Handling errors in workflows\n",
    "\n",
    "In the next tutorial, we'll explore agent configuration and how to customize the behavior of your DXA agents."
   ]
  }
 ],
 "metadata": {
  "kernelspec": {
   "display_name": "Python 3",
   "language": "python",
   "name": "python3"
  },
  "language_info": {
   "codemirror_mode": {
    "name": "ipython",
    "version": 3
   },
   "file_extension": ".py",
   "mimetype": "text/x-python",
   "name": "python",
   "nbconvert_exporter": "python",
   "pygments_lexer": "ipython3",
   "version": "3.8.0"
  }
 },
 "nbformat": 4,
 "nbformat_minor": 4
}
