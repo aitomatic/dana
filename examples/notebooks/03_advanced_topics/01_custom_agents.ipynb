{
 "cells": [
  {
   "cell_type": "markdown",
   "metadata": {},
   "source": "# Custom Agents in OpenDXA\n\nThis tutorial explores how to create custom agents in OpenDXA by extending and specializing the base agent functionality. We'll learn how to create agents tailored for specific use cases and domains.\n\n## Prerequisites\n\n- Understanding of OpenDXA basics (from [Introduction to OpenDXA](../01_getting_started/01_introduction_to_dxa.ipynb))\n- Knowledge of agent configuration (from [Agent Configuration](../01_getting_started/03_agent_configuration.ipynb))\n- Familiarity with the core layers (from [Core Concepts](../02_core_concepts/))\n- OpenDXA package installed\n- Python 3.8 or higher",
   "outputs": []
  },
  {
   "cell_type": "code",
   "metadata": {},
   "source": "# Install OpenDXA if you haven't already\n!pip install opendxa",
   "outputs": []
  },
  {
   "cell_type": "markdown",
   "metadata": {},
   "source": "## 1. Understanding Agent Customization\n\nIn OpenDXA, agents can be customized in several ways:\n\n1. **Specialization**: Creating agents for specific domains or tasks\n2. **Extension**: Adding new capabilities to existing agents\n3. **Composition**: Combining multiple agents into more complex systems\n4. **Configuration**: Customizing agent behavior through settings\n\nLet's explore each of these approaches.",
   "outputs": []
  },
  {
   "cell_type": "code",
   "metadata": {},
   "source": "from opendxa.agent import Agent, AgentConfig\nfrom opendxa.execution.workflow import Workflow, WorkflowNode, WorkflowEdge\nfrom opendxa.execution.planning import Plan, PlanStep, PlanEdge\nfrom opendxa.execution.reasoning import ReasoningStrategy\nfrom opendxa.execution import ExecutionContext, ExecutionEnvironment\nfrom opendxa.integration import IntegrationManager\n\n# Create a base agent configuration\nbase_config = AgentConfig(\n    name=\"base_agent\",\n    description=\"A base agent for customization examples\",\n    version=\"1.0.0\"\n)\n\n# Create a base agent\nbase_agent = Agent(config=base_config)\n\nprint(f\"Base Agent: {base_agent.name} (v{base_agent.version})\")\nprint(f\"Description: {base_agent.description}\")",
   "outputs": []
  },
  {
   "cell_type": "markdown",
   "metadata": {},
   "source": [
    "## 2. Creating Specialized Agents\n",
    "\n",
    "Let's create a specialized agent for semiconductor manufacturing process optimization."
   ]
  },
  {
   "cell_type": "code",
   "metadata": {},
   "source": "from opendxa.agent import SpecializedAgent\nfrom opendxa.execution.workflow import ManufacturingWorkflow\nfrom opendxa.execution.planning import ManufacturingPlan\nfrom opendxa.execution.reasoning import ManufacturingReasoning\nfrom opendxa.execution import ManufacturingEnvironment\n\nclass SemiconductorAgent(SpecializedAgent):\n    def __init__(self, config):\n        super().__init__(config)\n        self.workflow = ManufacturingWorkflow()\n        self.planning = ManufacturingPlan()\n        self.reasoning = ManufacturingReasoning()\n        self.environment = ManufacturingEnvironment()\n    \n    def optimize_process(self, process_params):\n        \"\"\"Optimize semiconductor manufacturing process parameters.\"\"\"\n        # Create a workflow for process optimization\n        workflow = self.workflow.create_optimization_workflow(process_params)\n        \n        # Create a plan for executing the optimization\n        plan = self.planning.create_optimization_plan(workflow)\n        \n        # Execute the plan with manufacturing-specific reasoning\n        result = self.reasoning.execute_plan(plan, self.environment)\n        \n        return result\n    \n    def analyze_defects(self, defect_data):\n        \"\"\"Analyze semiconductor defect patterns.\"\"\"\n        # Create a workflow for defect analysis\n        workflow = self.workflow.create_analysis_workflow(defect_data)\n        \n        # Create a plan for executing the analysis\n        plan = self.planning.create_analysis_plan(workflow)\n        \n        # Execute the plan with manufacturing-specific reasoning\n        result = self.reasoning.execute_plan(plan, self.environment)\n        \n        return result\n\n# Create a configuration for the semiconductor agent\nsemiconductor_config = AgentConfig(\n    name=\"semiconductor_agent\",\n    description=\"An agent specialized for semiconductor manufacturing optimization\",\n    version=\"1.0.0\",\n    domain=\"semiconductor_manufacturing\"\n)\n\n# Create the semiconductor agent\nsemiconductor_agent = SemiconductorAgent(config=semiconductor_config)\n\nprint(f\"Semiconductor Agent: {semiconductor_agent.name} (v{semiconductor_agent.version})\")\nprint(f\"Description: {semiconductor_agent.description}\")\nprint(f\"Domain: {semiconductor_agent.domain}\")",
   "outputs": []
  },
  {
   "cell_type": "markdown",
   "metadata": {},
   "source": [
    "## 3. Extending Agent Capabilities\n",
    "\n",
    "Let's extend the base agent with new capabilities for data analysis."
   ]
  },
  {
   "cell_type": "code",
   "metadata": {},
   "source": "from opendxa.agent import ExtendedAgent\nfrom opendxa.execution.workflow import DataAnalysisWorkflow\nfrom opendxa.execution.planning import DataAnalysisPlan\nfrom opendxa.execution.reasoning import DataAnalysisReasoning\nfrom opendxa.execution import DataAnalysisEnvironment\n\nclass DataAnalysisAgent(ExtendedAgent):\n    def __init__(self, config):\n        super().__init__(config)\n        self.workflow = DataAnalysisWorkflow()\n        self.planning = DataAnalysisPlan()\n        self.reasoning = DataAnalysisReasoning()\n        self.environment = DataAnalysisEnvironment()\n    \n    def analyze_data(self, data, analysis_type):\n        \"\"\"Analyze data using various analysis techniques.\"\"\"\n        # Create a workflow for data analysis\n        workflow = self.workflow.create_analysis_workflow(data, analysis_type)\n        \n        # Create a plan for executing the analysis\n        plan = self.planning.create_analysis_plan(workflow)\n        \n        # Execute the plan with data analysis-specific reasoning\n        result = self.reasoning.execute_plan(plan, self.environment)\n        \n        return result\n    \n    def visualize_results(self, analysis_results):\n        \"\"\"Visualize data analysis results.\"\"\"\n        # Create a workflow for visualization\n        workflow = self.workflow.create_visualization_workflow(analysis_results)\n        \n        # Create a plan for executing the visualization\n        plan = self.planning.create_visualization_plan(workflow)\n        \n        # Execute the plan with data analysis-specific reasoning\n        result = self.reasoning.execute_plan(plan, self.environment)\n        \n        return result\n\n# Create a configuration for the data analysis agent\ndata_analysis_config = AgentConfig(\n    name=\"data_analysis_agent\",\n    description=\"An agent extended with data analysis capabilities\",\n    version=\"1.0.0\",\n    capabilities=[\"data_analysis\", \"visualization\"]\n)\n\n# Create the data analysis agent\ndata_analysis_agent = DataAnalysisAgent(config=data_analysis_config)\n\nprint(f\"Data Analysis Agent: {data_analysis_agent.name} (v{data_analysis_agent.version})\")\nprint(f\"Description: {data_analysis_agent.description}\")\nprint(f\"Capabilities: {data_analysis_agent.capabilities}\")",
   "outputs": []
  },
  {
   "cell_type": "markdown",
   "metadata": {},
   "source": [
    "## 4. Composing Multiple Agents\n",
    "\n",
    "Let's create a composite agent that combines multiple specialized agents."
   ]
  },
  {
   "cell_type": "code",
   "metadata": {},
   "source": "from opendxa.agent import CompositeAgent\nfrom opendxa.integration import AgentCoordinator\n\nclass ManufacturingAnalysisAgent(CompositeAgent):\n    def __init__(self, config):\n        super().__init__(config)\n        \n        # Create specialized agents\n        self.semiconductor_agent = SemiconductorAgent(\n            AgentConfig(\n                name=\"semiconductor_agent\",\n                description=\"An agent specialized for semiconductor manufacturing optimization\",\n                version=\"1.0.0\",\n                domain=\"semiconductor_manufacturing\"\n            )\n        )\n        \n        self.data_analysis_agent = DataAnalysisAgent(\n            AgentConfig(\n                name=\"data_analysis_agent\",\n                description=\"An agent extended with data analysis capabilities\",\n                version=\"1.0.0\",\n                capabilities=[\"data_analysis\", \"visualization\"]\n            )\n        )\n        \n        # Create an agent coordinator\n        self.coordinator = AgentCoordinator()\n        \n        # Register agents with the coordinator\n        self.coordinator.register_agent(self.semiconductor_agent)\n        self.coordinator.register_agent(self.data_analysis_agent)\n    \n    def analyze_manufacturing_process(self, process_data):\n        \"\"\"Analyze and optimize a manufacturing process.\"\"\"\n        # First, analyze the process data\n        analysis_results = self.data_analysis_agent.analyze_data(\n            process_data,\n            analysis_type=\"manufacturing_process\"\n        )\n        \n        # Then, optimize the process based on the analysis\n        optimization_results = self.semiconductor_agent.optimize_process(\n            process_params=analysis_results[\"recommended_params\"]\n        )\n        \n        # Finally, visualize the results\n        visualization_results = self.data_analysis_agent.visualize_results(\n            {\n                \"analysis\": analysis_results,\n                \"optimization\": optimization_results\n            }\n        )\n        \n        return {\n            \"analysis\": analysis_results,\n            \"optimization\": optimization_results,\n            \"visualization\": visualization_results\n        }\n\n# Create a configuration for the composite agent\ncomposite_config = AgentConfig(\n    name=\"manufacturing_analysis_agent\",\n    description=\"A composite agent for manufacturing process analysis and optimization\",\n    version=\"1.0.0\",\n    components=[\"semiconductor_agent\", \"data_analysis_agent\"]\n)\n\n# Create the composite agent\nmanufacturing_analysis_agent = ManufacturingAnalysisAgent(config=composite_config)\n\nprint(f\"Manufacturing Analysis Agent: {manufacturing_analysis_agent.name} (v{manufacturing_analysis_agent.version})\")\nprint(f\"Description: {manufacturing_analysis_agent.description}\")\nprint(f\"Components: {manufacturing_analysis_agent.components}\")",
   "outputs": []
  },
  {
   "cell_type": "markdown",
   "metadata": {},
   "source": [
    "## 5. Configuring Agent Behavior\n",
    "\n",
    "Let's explore how to configure agent behavior through settings."
   ]
  },
  {
   "cell_type": "code",
   "metadata": {},
   "source": "from opendxa.agent import ConfigurableAgent\nfrom opendxa.config import AgentSettings\n\nclass ConfigurableManufacturingAgent(ConfigurableAgent):\n    def __init__(self, config, settings):\n        super().__init__(config)\n        self.settings = settings\n    \n    def process_manufacturing_data(self, data):\n        \"\"\"Process manufacturing data according to configured settings.\"\"\"\n        # Apply data processing settings\n        if self.settings.get(\"preprocess_data\", True):\n            data = self.preprocess_data(data)\n        \n        # Apply analysis settings\n        if self.settings.get(\"perform_analysis\", True):\n            analysis_results = self.analyze_data(data)\n        else:\n            analysis_results = None\n        \n        # Apply optimization settings\n        if self.settings.get(\"optimize_process\", True):\n            optimization_results = self.optimize_process(data)\n        else:\n            optimization_results = None\n        \n        # Apply visualization settings\n        if self.settings.get(\"visualize_results\", True):\n            visualization_results = self.visualize_results(\n                {\n                    \"data\": data,\n                    \"analysis\": analysis_results,\n                    \"optimization\": optimization_results\n                }\n            )\n        else:\n            visualization_results = None\n        \n        return {\n            \"data\": data,\n            \"analysis\": analysis_results,\n            \"optimization\": optimization_results,\n            \"visualization\": visualization_results\n        }\n    \n    def preprocess_data(self, data):\n        \"\"\"Preprocess manufacturing data.\"\"\"\n        # Implement data preprocessing logic\n        return data\n    \n    def analyze_data(self, data):\n        \"\"\"Analyze manufacturing data.\"\"\"\n        # Implement data analysis logic\n        return {\"analysis_results\": \"sample_analysis\"}\n    \n    def optimize_process(self, data):\n        \"\"\"Optimize manufacturing process.\"\"\"\n        # Implement process optimization logic\n        return {\"optimization_results\": \"sample_optimization\"}\n    \n    def visualize_results(self, results):\n        \"\"\"Visualize manufacturing results.\"\"\"\n        # Implement visualization logic\n        return {\"visualization_results\": \"sample_visualization\"}\n\n# Create a configuration for the configurable agent\nconfigurable_config = AgentConfig(\n    name=\"configurable_manufacturing_agent\",\n    description=\"A configurable agent for manufacturing process analysis and optimization\",\n    version=\"1.0.0\"\n)\n\n# Create settings for the configurable agent\nconfigurable_settings = AgentSettings(\n    preprocess_data=True,\n    perform_analysis=True,\n    optimize_process=True,\n    visualize_results=True,\n    analysis_depth=\"detailed\",\n    optimization_strategy=\"efficient\",\n    visualization_type=\"interactive\"\n)\n\n# Create the configurable agent\nconfigurable_agent = ConfigurableManufacturingAgent(\n    config=configurable_config,\n    settings=configurable_settings\n)\n\nprint(f\"Configurable Manufacturing Agent: {configurable_agent.name} (v{configurable_agent.version})\")\nprint(f\"Description: {configurable_agent.description}\")\nprint(f\"Settings: {configurable_agent.settings}\")",
   "outputs": []
  },
  {
   "cell_type": "markdown",
   "metadata": {},
   "source": [
    "## 6. Real-World Example: Semiconductor Manufacturing Agent\n",
    "\n",
    "Let's create a comprehensive example that combines all the concepts we've covered."
   ]
  },
  {
   "cell_type": "code",
   "metadata": {},
   "source": "from opendxa.agent import Agent, SpecializedAgent, ExtendedAgent, CompositeAgent, ConfigurableAgent\nfrom opendxa.config import AgentConfig, AgentSettings\nfrom opendxa.execution.workflow import Workflow, ManufacturingWorkflow, DataAnalysisWorkflow\nfrom opendxa.execution.planning import Plan, ManufacturingPlan, DataAnalysisPlan\nfrom opendxa.execution.reasoning import ReasoningStrategy, ManufacturingReasoning, DataAnalysisReasoning\nfrom opendxa.execution import ExecutionContext, ManufacturingEnvironment, DataAnalysisEnvironment\nfrom opendxa.integration import IntegrationManager, AgentCoordinator\n\n# Create a specialized semiconductor manufacturing agent\nclass SemiconductorManufacturingAgent(SpecializedAgent):\n    def __init__(self, config):\n        super().__init__(config)\n        self.workflow = ManufacturingWorkflow()\n        self.planning = ManufacturingPlan()\n        self.reasoning = ManufacturingReasoning()\n        self.environment = ManufacturingEnvironment()\n    \n    def optimize_process(self, process_params):\n        \"\"\"Optimize semiconductor manufacturing process parameters.\"\"\"\n        workflow = self.workflow.create_optimization_workflow(process_params)\n        plan = self.planning.create_optimization_plan(workflow)\n        result = self.reasoning.execute_plan(plan, self.environment)\n        return result\n    \n    def analyze_defects(self, defect_data):\n        \"\"\"Analyze semiconductor defect patterns.\"\"\"\n        workflow = self.workflow.create_analysis_workflow(defect_data)\n        plan = self.planning.create_analysis_plan(workflow)\n        result = self.reasoning.execute_plan(plan, self.environment)\n        return result\n\n# Create an extended data analysis agent\nclass ManufacturingDataAnalysisAgent(ExtendedAgent):\n    def __init__(self, config):\n        super().__init__(config)\n        self.workflow = DataAnalysisWorkflow()\n        self.planning = DataAnalysisPlan()\n        self.reasoning = DataAnalysisReasoning()\n        self.environment = DataAnalysisEnvironment()\n    \n    def analyze_data(self, data, analysis_type):\n        \"\"\"Analyze manufacturing data using various analysis techniques.\"\"\"\n        workflow = self.workflow.create_analysis_workflow(data, analysis_type)\n        plan = self.planning.create_analysis_plan(workflow)\n        result = self.reasoning.execute_plan(plan, self.environment)\n        return result\n    \n    def visualize_results(self, analysis_results):\n        \"\"\"Visualize manufacturing data analysis results.\"\"\"\n        workflow = self.workflow.create_visualization_workflow(analysis_results)\n        plan = self.planning.create_visualization_plan(workflow)\n        result = self.reasoning.execute_plan(plan, self.environment)\n        return result\n\n# Create a configurable manufacturing agent\nclass ConfigurableManufacturingAgent(ConfigurableAgent):\n    def __init__(self, config, settings):\n        super().__init__(config)\n        self.settings = settings\n    \n    def process_manufacturing_data(self, data):\n        \"\"\"Process manufacturing data according to configured settings.\"\"\"\n        if self.settings.get(\"preprocess_data\", True):\n            data = self.preprocess_data(data)\n        \n        if self.settings.get(\"perform_analysis\", True):\n            analysis_results = self.analyze_data(data)\n        else:\n            analysis_results = None\n        \n        if self.settings.get(\"optimize_process\", True):\n            optimization_results = self.optimize_process(data)\n        else:\n            optimization_results = None\n        \n        if self.settings.get(\"visualize_results\", True):\n            visualization_results = self.visualize_results(\n                {\n                    \"data\": data,\n                    \"analysis\": analysis_results,\n                    \"optimization\": optimization_results\n                }\n            )\n        else:\n            visualization_results = None\n        \n        return {\n            \"data\": data,\n            \"analysis\": analysis_results,\n            \"optimization\": optimization_results,\n            \"visualization\": visualization_results\n        }\n    \n    def preprocess_data(self, data):\n        \"\"\"Preprocess manufacturing data.\"\"\"\n        return data\n    \n    def analyze_data(self, data):\n        \"\"\"Analyze manufacturing data.\"\"\"\n        return {\"analysis_results\": \"sample_analysis\"}\n    \n    def optimize_process(self, data):\n        \"\"\"Optimize manufacturing process.\"\"\"\n        return {\"optimization_results\": \"sample_optimization\"}\n    \n    def visualize_results(self, results):\n        \"\"\"Visualize manufacturing results.\"\"\"\n        return {\"visualization_results\": \"sample_visualization\"}\n\n# Create a composite manufacturing agent\nclass ComprehensiveManufacturingAgent(CompositeAgent):\n    def __init__(self, config):\n        super().__init__(config)\n        \n        # Create specialized agents\n        self.semiconductor_agent = SemiconductorManufacturingAgent(\n            AgentConfig(\n                name=\"semiconductor_agent\",\n                description=\"An agent specialized for semiconductor manufacturing optimization\",\n                version=\"1.0.0\",\n                domain=\"semiconductor_manufacturing\"\n            )\n        )\n        \n        self.data_analysis_agent = ManufacturingDataAnalysisAgent(\n            AgentConfig(\n                name=\"data_analysis_agent\",\n                description=\"An agent extended with manufacturing data analysis capabilities\",\n                version=\"1.0.0\",\n                capabilities=[\"data_analysis\", \"visualization\"]\n            )\n        )\n        \n        # Create a configurable agent\n        self.configurable_agent = ConfigurableManufacturingAgent(\n            AgentConfig(\n                name=\"configurable_manufacturing_agent\",\n                description=\"A configurable agent for manufacturing process analysis and optimization\",\n                version=\"1.0.0\"\n            ),\n            AgentSettings(\n                preprocess_data=True,\n                perform_analysis=True,\n                optimize_process=True,\n                visualize_results=True,\n                analysis_depth=\"detailed\",\n                optimization_strategy=\"efficient\",\n                visualization_type=\"interactive\"\n            )\n        )\n        \n        # Create an agent coordinator\n        self.coordinator = AgentCoordinator()\n        \n        # Register agents with the coordinator\n        self.coordinator.register_agent(self.semiconductor_agent)\n        self.coordinator.register_agent(self.data_analysis_agent)\n        self.coordinator.register_agent(self.configurable_agent)\n    \n    def analyze_and_optimize_manufacturing_process(self, process_data):\n        \"\"\"Analyze and optimize a manufacturing process using all agent capabilities.\"\"\"\n        # First, preprocess the data using the configurable agent\n        processed_data = self.configurable_agent.preprocess_data(process_data)\n        \n        # Then, analyze the process data using the data analysis agent\n        analysis_results = self.data_analysis_agent.analyze_data(\n            processed_data,\n            analysis_type=\"manufacturing_process\"\n        )\n        \n        # Next, optimize the process using the semiconductor agent\n        optimization_results = self.semiconductor_agent.optimize_process(\n            process_params=analysis_results.get(\"recommended_params\", {})\n        )\n        \n        # Finally, visualize the results using the data analysis agent\n        visualization_results = self.data_analysis_agent.visualize_results(\n            {\n                \"processed_data\": processed_data,\n                \"analysis\": analysis_results,\n                \"optimization\": optimization_results\n            }\n        )\n        \n        return {\n            \"processed_data\": processed_data,\n            \"analysis\": analysis_results,\n            \"optimization\": optimization_results,\n            \"visualization\": visualization_results\n        }\n\n# Create a configuration for the comprehensive agent\ncomprehensive_config = AgentConfig(\n    name=\"comprehensive_manufacturing_agent\",\n    description=\"A comprehensive agent for semiconductor manufacturing analysis and optimization\",\n    version=\"1.0.0\",\n    components=[\"semiconductor_agent\", \"data_analysis_agent\", \"configurable_agent\"]\n)\n\n# Create the comprehensive agent\ncomprehensive_agent = ComprehensiveManufacturingAgent(config=comprehensive_config)\n\nprint(f\"Comprehensive Manufacturing Agent: {comprehensive_agent.name} (v{comprehensive_agent.version})\")\nprint(f\"Description: {comprehensive_agent.description}\")\nprint(f\"Components: {comprehensive_agent.components}\")\n\n# Example usage\nsample_process_data = {\n    \"temperature\": 25.5,\n    \"pressure\": 1.2,\n    \"humidity\": 45.0,\n    \"defect_rate\": 0.02\n}\n\nresults = comprehensive_agent.analyze_and_optimize_manufacturing_process(sample_process_data)\nprint(\"\\nAnalysis and Optimization Results:\")\nprint(f\"Processed Data: {results['processed_data']}\")\nprint(f\"Analysis Results: {results['analysis']}\")\nprint(f\"Optimization Results: {results['optimization']}\")\nprint(f\"Visualization Results: {results['visualization']}\")",
   "outputs": []
  },
  {
   "cell_type": "markdown",
   "metadata": {},
   "source": "## Next Steps\n\nIn this tutorial, we've covered:\n\n1. Understanding agent customization in OpenDXA\n2. Creating specialized agents for specific domains\n3. Extending agents with new capabilities\n4. Composing multiple agents into complex systems\n5. Configuring agent behavior through settings\n6. Creating a comprehensive semiconductor manufacturing agent example\n\nIn the next tutorial, we'll explore \"3.2 Advanced Workflows\" to learn how to create more complex and sophisticated workflows in OpenDXA.",
   "outputs": []
  }
 ],
 "metadata": {
  "kernelspec": {
   "display_name": "Python 3",
   "language": "python",
   "name": "python3"
  },
  "language_info": {
   "codemirror_mode": {
    "name": "ipython",
    "version": 3
   },
   "file_extension": ".py",
   "mimetype": "text/x-python",
   "name": "python",
   "nbconvert_exporter": "python",
   "pygments_lexer": "ipython3",
   "version": "3.8.0"
  }
 },
 "nbformat": 4,
 "nbformat_minor": 4
}